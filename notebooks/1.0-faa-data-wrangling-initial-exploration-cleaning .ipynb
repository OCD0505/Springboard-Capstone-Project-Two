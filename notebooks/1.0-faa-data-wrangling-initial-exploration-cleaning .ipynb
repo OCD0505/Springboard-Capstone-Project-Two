{
 "cells": [
  {
   "cell_type": "markdown",
   "id": "6a249fda",
   "metadata": {},
   "source": [
    "\n",
    "# Data Science Career Track | Capstone Two: Data Wrangling\n",
    "---"
   ]
  },
  {
   "cell_type": "markdown",
   "id": "4c3a93c6",
   "metadata": {},
   "source": [
    "### **Purpose:** \n",
    "This notebook focuses on collecting your data, organizing it, and making sure it's well defined. \n",
    "### **Problem Statement:**\n",
    "The purpose of this data science project involves predicting the age and sex of individuals who become victims of crime using crime data and potentially other relevant variables. By analyzing patterns within crime data, we aim to develop predictive models that estimate the age and sex of victims, which can have applications in law enforcement, victim support and aid victim service providers target relevant areas. \n"
   ]
  },
  {
   "cell_type": "markdown",
   "id": "8a7b8232",
   "metadata": {},
   "source": [
    "## Table of contents\n",
    "- [A. Imports](#A)\n",
    "- [B. Loading The Data](#B)\n",
    "- [C. Initial Exploration of The Data](#C)\n",
    "    - [C.i Missing Values](#C.i)\n",
    "    - [C.ii Duplicate Values](#C.ii)\n",
    "- [D. Evaluating Categorical Features](#D)\n",
    "- [E. Evaluating Numerical Features](#E) \n",
    "- [F. [Title]](#F)\n",
    "- [G. [Title]](#G)\n",
    "- [H. [Title]](#H)\n",
    "- [I. [Title]](#I)\n",
    "- [J. [Title]](#J)\n",
    "- [K. [Title]](#K)"
   ]
  },
  {
   "cell_type": "markdown",
   "id": "bea32dcf",
   "metadata": {},
   "source": [
    "### A. Imports <a id='A'></a>"
   ]
  },
  {
   "cell_type": "code",
   "execution_count": 3,
   "id": "0108883d",
   "metadata": {},
   "outputs": [],
   "source": [
    "import pandas as pd\n",
    "import numpy as np\n",
    "import matplotlib.pyplot as plt\n",
    "import seaborn as sns\n",
    "import missingno as msno\n",
    "import recordlinkage\n",
    "import os"
   ]
  },
  {
   "cell_type": "markdown",
   "id": "a6dd4825",
   "metadata": {},
   "source": [
    "### B. Loading The Crime Data <a id='B'></a>"
   ]
  },
  {
   "cell_type": "code",
   "execution_count": 5,
   "id": "54c3ae45",
   "metadata": {},
   "outputs": [
    {
     "data": {
      "text/plain": [
       "'/Users/frankyaraujo/Development/Springboard_Main/Capstone Two/Springboard-Capstone-Two/notebooks'"
      ]
     },
     "execution_count": 5,
     "metadata": {},
     "output_type": "execute_result"
    }
   ],
   "source": [
    "# Making sure I have the correct file path for loading the data\n",
    "\n",
    "os.getcwd()"
   ]
  },
  {
   "cell_type": "code",
   "execution_count": 6,
   "id": "a11149e2",
   "metadata": {},
   "outputs": [],
   "source": [
    "# Storing file path in variable and then using pd.read_csv() to load the data as a dataframe into crimeData\n",
    "\n",
    "dataFilePath = \"/Users/frankyaraujo/Development/Springboard_Main/Capstone Two/\\\n",
    "Springboard-Capstone-Two/src/data/2010-2023 Crime_Traffic_Collisions_Data .csv\"\n",
    "crimeData = pd.read_csv(dataFilePath, low_memory = False)"
   ]
  },
  {
   "cell_type": "markdown",
   "id": "01a3dc4e",
   "metadata": {},
   "source": [
    "### C. Initial Exploration of the Data <a id='C'></a>"
   ]
  },
  {
   "cell_type": "code",
   "execution_count": 74,
   "id": "6cc07723",
   "metadata": {
    "scrolled": true
   },
   "outputs": [
    {
     "name": "stdout",
     "output_type": "stream",
     "text": [
      "<class 'pandas.core.frame.DataFrame'>\n",
      "RangeIndex: 1375881 entries, 0 to 1375880\n",
      "Data columns (total 28 columns):\n",
      " #   Column                  Non-Null Count    Dtype  \n",
      "---  ------                  --------------    -----  \n",
      " 0   Unnamed: 0              1375881 non-null  int64  \n",
      " 1   DR Number               1375881 non-null  int64  \n",
      " 2   Date Reported           1375881 non-null  object \n",
      " 3   Date Occurred           1375881 non-null  object \n",
      " 4   Time Occurred           1375881 non-null  int64  \n",
      " 5   Area ID                 1375881 non-null  int64  \n",
      " 6   Area Name               1375881 non-null  object \n",
      " 7   Reporting District      1375881 non-null  int64  \n",
      " 8   Crime Code              1375881 non-null  int64  \n",
      " 9   Crime Code Description  1375881 non-null  object \n",
      " 10  MO Codes                1181546 non-null  object \n",
      " 11  Victim Age              1290351 non-null  float64\n",
      " 12  Victim Sex              1263940 non-null  object \n",
      " 13  Victim Descent          1262997 non-null  object \n",
      " 14  Premise Code            1374913 non-null  float64\n",
      " 15  Premise Description     1374460 non-null  object \n",
      " 16  Weapon Used Cd          271192 non-null   float64\n",
      " 17  Weapon Desc             271192 non-null   object \n",
      " 18  Status                  779803 non-null   object \n",
      " 19  Status Desc             779803 non-null   object \n",
      " 20  Crm Cd 1                779793 non-null   float64\n",
      " 21  Crm Cd 2                57524 non-null    float64\n",
      " 22  Crm Cd 3                1919 non-null     float64\n",
      " 23  Crm Cd 4                57 non-null       float64\n",
      " 24  Address                 1375881 non-null  object \n",
      " 25  Cross Street            692955 non-null   object \n",
      " 26  LAT                     1375881 non-null  float64\n",
      " 27  LON                     1375881 non-null  float64\n",
      "dtypes: float64(9), int64(6), object(13)\n",
      "memory usage: 293.9+ MB\n"
     ]
    }
   ],
   "source": [
    "crimeData.info()"
   ]
  },
  {
   "cell_type": "code",
   "execution_count": 25,
   "id": "5705f2cf",
   "metadata": {
    "scrolled": true
   },
   "outputs": [
    {
     "data": {
      "text/html": [
       "<div>\n",
       "<style scoped>\n",
       "    .dataframe tbody tr th:only-of-type {\n",
       "        vertical-align: middle;\n",
       "    }\n",
       "\n",
       "    .dataframe tbody tr th {\n",
       "        vertical-align: top;\n",
       "    }\n",
       "\n",
       "    .dataframe thead th {\n",
       "        text-align: right;\n",
       "    }\n",
       "</style>\n",
       "<table border=\"1\" class=\"dataframe\">\n",
       "  <thead>\n",
       "    <tr style=\"text-align: right;\">\n",
       "      <th></th>\n",
       "      <th>Unnamed: 0</th>\n",
       "      <th>DR Number</th>\n",
       "      <th>Date Reported</th>\n",
       "      <th>Date Occurred</th>\n",
       "      <th>Time Occurred</th>\n",
       "      <th>Area ID</th>\n",
       "      <th>Area Name</th>\n",
       "      <th>Reporting District</th>\n",
       "      <th>Crime Code</th>\n",
       "      <th>Crime Code Description</th>\n",
       "    </tr>\n",
       "  </thead>\n",
       "  <tbody>\n",
       "    <tr>\n",
       "      <th>0</th>\n",
       "      <td>0</td>\n",
       "      <td>10304468</td>\n",
       "      <td>01/08/2020 12:00:00 AM</td>\n",
       "      <td>01/08/2020 12:00:00 AM</td>\n",
       "      <td>2230</td>\n",
       "      <td>3</td>\n",
       "      <td>Southwest</td>\n",
       "      <td>377</td>\n",
       "      <td>624</td>\n",
       "      <td>BATTERY - SIMPLE ASSAULT</td>\n",
       "    </tr>\n",
       "    <tr>\n",
       "      <th>1</th>\n",
       "      <td>1</td>\n",
       "      <td>190101086</td>\n",
       "      <td>01/02/2020 12:00:00 AM</td>\n",
       "      <td>01/01/2020 12:00:00 AM</td>\n",
       "      <td>330</td>\n",
       "      <td>1</td>\n",
       "      <td>Central</td>\n",
       "      <td>163</td>\n",
       "      <td>624</td>\n",
       "      <td>BATTERY - SIMPLE ASSAULT</td>\n",
       "    </tr>\n",
       "    <tr>\n",
       "      <th>2</th>\n",
       "      <td>2</td>\n",
       "      <td>200110444</td>\n",
       "      <td>04/14/2020 12:00:00 AM</td>\n",
       "      <td>02/13/2020 12:00:00 AM</td>\n",
       "      <td>1200</td>\n",
       "      <td>1</td>\n",
       "      <td>Central</td>\n",
       "      <td>155</td>\n",
       "      <td>845</td>\n",
       "      <td>SEX OFFENDER REGISTRANT OUT OF COMPLIANCE</td>\n",
       "    </tr>\n",
       "    <tr>\n",
       "      <th>3</th>\n",
       "      <td>3</td>\n",
       "      <td>191501505</td>\n",
       "      <td>01/01/2020 12:00:00 AM</td>\n",
       "      <td>01/01/2020 12:00:00 AM</td>\n",
       "      <td>1730</td>\n",
       "      <td>15</td>\n",
       "      <td>N Hollywood</td>\n",
       "      <td>1543</td>\n",
       "      <td>745</td>\n",
       "      <td>VANDALISM - MISDEAMEANOR ($399 OR UNDER)</td>\n",
       "    </tr>\n",
       "    <tr>\n",
       "      <th>4</th>\n",
       "      <td>4</td>\n",
       "      <td>191921269</td>\n",
       "      <td>01/01/2020 12:00:00 AM</td>\n",
       "      <td>01/01/2020 12:00:00 AM</td>\n",
       "      <td>415</td>\n",
       "      <td>19</td>\n",
       "      <td>Mission</td>\n",
       "      <td>1998</td>\n",
       "      <td>740</td>\n",
       "      <td>VANDALISM - FELONY ($400 &amp; OVER, ALL CHURCH VA...</td>\n",
       "    </tr>\n",
       "  </tbody>\n",
       "</table>\n",
       "</div>"
      ],
      "text/plain": [
       "   Unnamed: 0  DR Number           Date Reported           Date Occurred  \\\n",
       "0           0   10304468  01/08/2020 12:00:00 AM  01/08/2020 12:00:00 AM   \n",
       "1           1  190101086  01/02/2020 12:00:00 AM  01/01/2020 12:00:00 AM   \n",
       "2           2  200110444  04/14/2020 12:00:00 AM  02/13/2020 12:00:00 AM   \n",
       "3           3  191501505  01/01/2020 12:00:00 AM  01/01/2020 12:00:00 AM   \n",
       "4           4  191921269  01/01/2020 12:00:00 AM  01/01/2020 12:00:00 AM   \n",
       "\n",
       "   Time Occurred  Area ID    Area Name  Reporting District  Crime Code  \\\n",
       "0           2230        3    Southwest                 377         624   \n",
       "1            330        1      Central                 163         624   \n",
       "2           1200        1      Central                 155         845   \n",
       "3           1730       15  N Hollywood                1543         745   \n",
       "4            415       19      Mission                1998         740   \n",
       "\n",
       "                              Crime Code Description  \n",
       "0                           BATTERY - SIMPLE ASSAULT  \n",
       "1                           BATTERY - SIMPLE ASSAULT  \n",
       "2          SEX OFFENDER REGISTRANT OUT OF COMPLIANCE  \n",
       "3           VANDALISM - MISDEAMEANOR ($399 OR UNDER)  \n",
       "4  VANDALISM - FELONY ($400 & OVER, ALL CHURCH VA...  "
      ]
     },
     "execution_count": 25,
     "metadata": {},
     "output_type": "execute_result"
    }
   ],
   "source": [
    "crimeData.loc[:,\"Unnamed: 0\":\"Crime Code Description\"].head()"
   ]
  },
  {
   "cell_type": "code",
   "execution_count": 27,
   "id": "b65150a1",
   "metadata": {},
   "outputs": [
    {
     "data": {
      "text/html": [
       "<div>\n",
       "<style scoped>\n",
       "    .dataframe tbody tr th:only-of-type {\n",
       "        vertical-align: middle;\n",
       "    }\n",
       "\n",
       "    .dataframe tbody tr th {\n",
       "        vertical-align: top;\n",
       "    }\n",
       "\n",
       "    .dataframe thead th {\n",
       "        text-align: right;\n",
       "    }\n",
       "</style>\n",
       "<table border=\"1\" class=\"dataframe\">\n",
       "  <thead>\n",
       "    <tr style=\"text-align: right;\">\n",
       "      <th></th>\n",
       "      <th>MO Codes</th>\n",
       "      <th>Victim Age</th>\n",
       "      <th>Victim Sex</th>\n",
       "      <th>Victim Descent</th>\n",
       "      <th>Premise Code</th>\n",
       "      <th>Premise Description</th>\n",
       "      <th>Weapon Used Cd</th>\n",
       "      <th>Weapon Desc</th>\n",
       "      <th>Status</th>\n",
       "      <th>Status Desc</th>\n",
       "      <th>Crm Cd 1</th>\n",
       "      <th>Crm Cd 2</th>\n",
       "      <th>Crm Cd 3</th>\n",
       "      <th>Crm Cd 4</th>\n",
       "      <th>Address</th>\n",
       "      <th>Cross Street</th>\n",
       "      <th>LAT</th>\n",
       "      <th>LON</th>\n",
       "    </tr>\n",
       "  </thead>\n",
       "  <tbody>\n",
       "    <tr>\n",
       "      <th>0</th>\n",
       "      <td>0444 0913</td>\n",
       "      <td>36.0</td>\n",
       "      <td>F</td>\n",
       "      <td>B</td>\n",
       "      <td>501.0</td>\n",
       "      <td>SINGLE FAMILY DWELLING</td>\n",
       "      <td>400.0</td>\n",
       "      <td>STRONG-ARM (HANDS, FIST, FEET OR BODILY FORCE)</td>\n",
       "      <td>AO</td>\n",
       "      <td>Adult Other</td>\n",
       "      <td>624.0</td>\n",
       "      <td>NaN</td>\n",
       "      <td>NaN</td>\n",
       "      <td>NaN</td>\n",
       "      <td>1100 W  39TH                         PL</td>\n",
       "      <td>NaN</td>\n",
       "      <td>34.0141</td>\n",
       "      <td>-118.2978</td>\n",
       "    </tr>\n",
       "    <tr>\n",
       "      <th>1</th>\n",
       "      <td>0416 1822 1414</td>\n",
       "      <td>25.0</td>\n",
       "      <td>M</td>\n",
       "      <td>H</td>\n",
       "      <td>102.0</td>\n",
       "      <td>SIDEWALK</td>\n",
       "      <td>500.0</td>\n",
       "      <td>UNKNOWN WEAPON/OTHER WEAPON</td>\n",
       "      <td>IC</td>\n",
       "      <td>Invest Cont</td>\n",
       "      <td>624.0</td>\n",
       "      <td>NaN</td>\n",
       "      <td>NaN</td>\n",
       "      <td>NaN</td>\n",
       "      <td>700 S  HILL                         ST</td>\n",
       "      <td>NaN</td>\n",
       "      <td>34.0459</td>\n",
       "      <td>-118.2545</td>\n",
       "    </tr>\n",
       "    <tr>\n",
       "      <th>2</th>\n",
       "      <td>1501</td>\n",
       "      <td>0.0</td>\n",
       "      <td>X</td>\n",
       "      <td>X</td>\n",
       "      <td>726.0</td>\n",
       "      <td>POLICE FACILITY</td>\n",
       "      <td>NaN</td>\n",
       "      <td>NaN</td>\n",
       "      <td>AA</td>\n",
       "      <td>Adult Arrest</td>\n",
       "      <td>845.0</td>\n",
       "      <td>NaN</td>\n",
       "      <td>NaN</td>\n",
       "      <td>NaN</td>\n",
       "      <td>200 E  6TH                          ST</td>\n",
       "      <td>NaN</td>\n",
       "      <td>34.0448</td>\n",
       "      <td>-118.2474</td>\n",
       "    </tr>\n",
       "    <tr>\n",
       "      <th>3</th>\n",
       "      <td>0329 1402</td>\n",
       "      <td>76.0</td>\n",
       "      <td>F</td>\n",
       "      <td>W</td>\n",
       "      <td>502.0</td>\n",
       "      <td>MULTI-UNIT DWELLING (APARTMENT, DUPLEX, ETC)</td>\n",
       "      <td>NaN</td>\n",
       "      <td>NaN</td>\n",
       "      <td>IC</td>\n",
       "      <td>Invest Cont</td>\n",
       "      <td>745.0</td>\n",
       "      <td>998.0</td>\n",
       "      <td>NaN</td>\n",
       "      <td>NaN</td>\n",
       "      <td>5400    CORTEEN                      PL</td>\n",
       "      <td>NaN</td>\n",
       "      <td>34.1685</td>\n",
       "      <td>-118.4019</td>\n",
       "    </tr>\n",
       "    <tr>\n",
       "      <th>4</th>\n",
       "      <td>0329</td>\n",
       "      <td>31.0</td>\n",
       "      <td>X</td>\n",
       "      <td>X</td>\n",
       "      <td>409.0</td>\n",
       "      <td>BEAUTY SUPPLY STORE</td>\n",
       "      <td>NaN</td>\n",
       "      <td>NaN</td>\n",
       "      <td>IC</td>\n",
       "      <td>Invest Cont</td>\n",
       "      <td>740.0</td>\n",
       "      <td>NaN</td>\n",
       "      <td>NaN</td>\n",
       "      <td>NaN</td>\n",
       "      <td>14400    TITUS                        ST</td>\n",
       "      <td>NaN</td>\n",
       "      <td>34.2198</td>\n",
       "      <td>-118.4468</td>\n",
       "    </tr>\n",
       "  </tbody>\n",
       "</table>\n",
       "</div>"
      ],
      "text/plain": [
       "         MO Codes  Victim Age Victim Sex Victim Descent  Premise Code  \\\n",
       "0       0444 0913        36.0          F              B         501.0   \n",
       "1  0416 1822 1414        25.0          M              H         102.0   \n",
       "2            1501         0.0          X              X         726.0   \n",
       "3       0329 1402        76.0          F              W         502.0   \n",
       "4            0329        31.0          X              X         409.0   \n",
       "\n",
       "                            Premise Description  Weapon Used Cd  \\\n",
       "0                        SINGLE FAMILY DWELLING           400.0   \n",
       "1                                      SIDEWALK           500.0   \n",
       "2                               POLICE FACILITY             NaN   \n",
       "3  MULTI-UNIT DWELLING (APARTMENT, DUPLEX, ETC)             NaN   \n",
       "4                           BEAUTY SUPPLY STORE             NaN   \n",
       "\n",
       "                                      Weapon Desc Status   Status Desc  \\\n",
       "0  STRONG-ARM (HANDS, FIST, FEET OR BODILY FORCE)     AO   Adult Other   \n",
       "1                     UNKNOWN WEAPON/OTHER WEAPON     IC   Invest Cont   \n",
       "2                                             NaN     AA  Adult Arrest   \n",
       "3                                             NaN     IC   Invest Cont   \n",
       "4                                             NaN     IC   Invest Cont   \n",
       "\n",
       "   Crm Cd 1  Crm Cd 2  Crm Cd 3  Crm Cd 4  \\\n",
       "0     624.0       NaN       NaN       NaN   \n",
       "1     624.0       NaN       NaN       NaN   \n",
       "2     845.0       NaN       NaN       NaN   \n",
       "3     745.0     998.0       NaN       NaN   \n",
       "4     740.0       NaN       NaN       NaN   \n",
       "\n",
       "                                    Address Cross Street      LAT       LON  \n",
       "0   1100 W  39TH                         PL          NaN  34.0141 -118.2978  \n",
       "1    700 S  HILL                         ST          NaN  34.0459 -118.2545  \n",
       "2    200 E  6TH                          ST          NaN  34.0448 -118.2474  \n",
       "3   5400    CORTEEN                      PL          NaN  34.1685 -118.4019  \n",
       "4  14400    TITUS                        ST          NaN  34.2198 -118.4468  "
      ]
     },
     "execution_count": 27,
     "metadata": {},
     "output_type": "execute_result"
    }
   ],
   "source": [
    "crimeData.loc[:,\"MO Codes\":].head()"
   ]
  },
  {
   "cell_type": "markdown",
   "id": "4bd46424",
   "metadata": {},
   "source": [
    "##### Initial observations after using the .info() and .head() methods:\n",
    "- The 'Unnamed: 0' doesn't seeme to serve a purpose as it appears to be equivalent to the index\n",
    "- Not all Object Types appear to be categorical (ie Date Reported, Date Occurred, and Time Occurred) and not all Float64 Types appear to be numercial types (ie Premise Code, Weapon Used Cd, Crm Cd 1, Crm Cd 2, Crm Cd 3, Crm Cd 4)\n",
    "- The area names may have abbreviations so this needs to be kept in min when reviewing for duplicates\n",
    "- The 'Crime Code Description' and 'MO Codes'columns may hold multiple data values/point per value\n",
    "- age and sex of victims are found within the 'Victim Age' and 'Victim Sex' columns so our target variables are present\n"
   ]
  },
  {
   "cell_type": "markdown",
   "id": "83669b64",
   "metadata": {},
   "source": [
    "### C.i Missing Values <a id='C.i'></a>"
   ]
  },
  {
   "cell_type": "code",
   "execution_count": 47,
   "id": "48dc56a3",
   "metadata": {},
   "outputs": [],
   "source": [
    "# The number of missing values per column\n",
    "\n",
    "crimeData.isna().sum()\n",
    "crimeDataMissing = pd.DataFrame(crimeData.isna().sum())\n",
    "crimeDataMissing.columns = ['Total # of missing values']"
   ]
  },
  {
   "cell_type": "code",
   "execution_count": 52,
   "id": "79d8696f",
   "metadata": {},
   "outputs": [],
   "source": [
    "# The percentage of missing values per column, sorted from highest to lowest\n",
    "\n",
    "crimeDataMissing['% of missing values'] = crimeData.isna().sum().sort_values(ascending = False)/len(crimeData.index)*100"
   ]
  },
  {
   "cell_type": "code",
   "execution_count": 54,
   "id": "040e1094",
   "metadata": {
    "scrolled": true
   },
   "outputs": [
    {
     "data": {
      "text/html": [
       "<div>\n",
       "<style scoped>\n",
       "    .dataframe tbody tr th:only-of-type {\n",
       "        vertical-align: middle;\n",
       "    }\n",
       "\n",
       "    .dataframe tbody tr th {\n",
       "        vertical-align: top;\n",
       "    }\n",
       "\n",
       "    .dataframe thead th {\n",
       "        text-align: right;\n",
       "    }\n",
       "</style>\n",
       "<table border=\"1\" class=\"dataframe\">\n",
       "  <thead>\n",
       "    <tr style=\"text-align: right;\">\n",
       "      <th></th>\n",
       "      <th>Total # of missing values</th>\n",
       "      <th>% of missing values</th>\n",
       "    </tr>\n",
       "  </thead>\n",
       "  <tbody>\n",
       "    <tr>\n",
       "      <th>Crm Cd 4</th>\n",
       "      <td>1375824</td>\n",
       "      <td>99.995857</td>\n",
       "    </tr>\n",
       "    <tr>\n",
       "      <th>Crm Cd 3</th>\n",
       "      <td>1373962</td>\n",
       "      <td>99.860526</td>\n",
       "    </tr>\n",
       "    <tr>\n",
       "      <th>Crm Cd 2</th>\n",
       "      <td>1318357</td>\n",
       "      <td>95.819115</td>\n",
       "    </tr>\n",
       "    <tr>\n",
       "      <th>Weapon Used Cd</th>\n",
       "      <td>1104689</td>\n",
       "      <td>80.289574</td>\n",
       "    </tr>\n",
       "    <tr>\n",
       "      <th>Weapon Desc</th>\n",
       "      <td>1104689</td>\n",
       "      <td>80.289574</td>\n",
       "    </tr>\n",
       "    <tr>\n",
       "      <th>Cross Street</th>\n",
       "      <td>682926</td>\n",
       "      <td>49.635543</td>\n",
       "    </tr>\n",
       "    <tr>\n",
       "      <th>Crm Cd 1</th>\n",
       "      <td>596088</td>\n",
       "      <td>43.324096</td>\n",
       "    </tr>\n",
       "    <tr>\n",
       "      <th>Status Desc</th>\n",
       "      <td>596078</td>\n",
       "      <td>43.323369</td>\n",
       "    </tr>\n",
       "    <tr>\n",
       "      <th>Status</th>\n",
       "      <td>596078</td>\n",
       "      <td>43.323369</td>\n",
       "    </tr>\n",
       "    <tr>\n",
       "      <th>MO Codes</th>\n",
       "      <td>194335</td>\n",
       "      <td>14.124405</td>\n",
       "    </tr>\n",
       "    <tr>\n",
       "      <th>Victim Descent</th>\n",
       "      <td>112884</td>\n",
       "      <td>8.204489</td>\n",
       "    </tr>\n",
       "    <tr>\n",
       "      <th>Victim Sex</th>\n",
       "      <td>111941</td>\n",
       "      <td>8.135951</td>\n",
       "    </tr>\n",
       "    <tr>\n",
       "      <th>Victim Age</th>\n",
       "      <td>85530</td>\n",
       "      <td>6.216381</td>\n",
       "    </tr>\n",
       "    <tr>\n",
       "      <th>Premise Description</th>\n",
       "      <td>1421</td>\n",
       "      <td>0.103279</td>\n",
       "    </tr>\n",
       "    <tr>\n",
       "      <th>Premise Code</th>\n",
       "      <td>968</td>\n",
       "      <td>0.070355</td>\n",
       "    </tr>\n",
       "    <tr>\n",
       "      <th>Address</th>\n",
       "      <td>0</td>\n",
       "      <td>0.000000</td>\n",
       "    </tr>\n",
       "    <tr>\n",
       "      <th>LAT</th>\n",
       "      <td>0</td>\n",
       "      <td>0.000000</td>\n",
       "    </tr>\n",
       "    <tr>\n",
       "      <th>Unnamed: 0</th>\n",
       "      <td>0</td>\n",
       "      <td>0.000000</td>\n",
       "    </tr>\n",
       "    <tr>\n",
       "      <th>DR Number</th>\n",
       "      <td>0</td>\n",
       "      <td>0.000000</td>\n",
       "    </tr>\n",
       "    <tr>\n",
       "      <th>Crime Code Description</th>\n",
       "      <td>0</td>\n",
       "      <td>0.000000</td>\n",
       "    </tr>\n",
       "    <tr>\n",
       "      <th>Crime Code</th>\n",
       "      <td>0</td>\n",
       "      <td>0.000000</td>\n",
       "    </tr>\n",
       "    <tr>\n",
       "      <th>Reporting District</th>\n",
       "      <td>0</td>\n",
       "      <td>0.000000</td>\n",
       "    </tr>\n",
       "    <tr>\n",
       "      <th>Area Name</th>\n",
       "      <td>0</td>\n",
       "      <td>0.000000</td>\n",
       "    </tr>\n",
       "    <tr>\n",
       "      <th>Area ID</th>\n",
       "      <td>0</td>\n",
       "      <td>0.000000</td>\n",
       "    </tr>\n",
       "    <tr>\n",
       "      <th>Time Occurred</th>\n",
       "      <td>0</td>\n",
       "      <td>0.000000</td>\n",
       "    </tr>\n",
       "    <tr>\n",
       "      <th>Date Occurred</th>\n",
       "      <td>0</td>\n",
       "      <td>0.000000</td>\n",
       "    </tr>\n",
       "    <tr>\n",
       "      <th>Date Reported</th>\n",
       "      <td>0</td>\n",
       "      <td>0.000000</td>\n",
       "    </tr>\n",
       "    <tr>\n",
       "      <th>LON</th>\n",
       "      <td>0</td>\n",
       "      <td>0.000000</td>\n",
       "    </tr>\n",
       "  </tbody>\n",
       "</table>\n",
       "</div>"
      ],
      "text/plain": [
       "                        Total # of missing values  % of missing values\n",
       "Crm Cd 4                                  1375824            99.995857\n",
       "Crm Cd 3                                  1373962            99.860526\n",
       "Crm Cd 2                                  1318357            95.819115\n",
       "Weapon Used Cd                            1104689            80.289574\n",
       "Weapon Desc                               1104689            80.289574\n",
       "Cross Street                               682926            49.635543\n",
       "Crm Cd 1                                   596088            43.324096\n",
       "Status Desc                                596078            43.323369\n",
       "Status                                     596078            43.323369\n",
       "MO Codes                                   194335            14.124405\n",
       "Victim Descent                             112884             8.204489\n",
       "Victim Sex                                 111941             8.135951\n",
       "Victim Age                                  85530             6.216381\n",
       "Premise Description                          1421             0.103279\n",
       "Premise Code                                  968             0.070355\n",
       "Address                                         0             0.000000\n",
       "LAT                                             0             0.000000\n",
       "Unnamed: 0                                      0             0.000000\n",
       "DR Number                                       0             0.000000\n",
       "Crime Code Description                          0             0.000000\n",
       "Crime Code                                      0             0.000000\n",
       "Reporting District                              0             0.000000\n",
       "Area Name                                       0             0.000000\n",
       "Area ID                                         0             0.000000\n",
       "Time Occurred                                   0             0.000000\n",
       "Date Occurred                                   0             0.000000\n",
       "Date Reported                                   0             0.000000\n",
       "LON                                             0             0.000000"
      ]
     },
     "execution_count": 54,
     "metadata": {},
     "output_type": "execute_result"
    }
   ],
   "source": [
    "# Number of missing values and percentages by column, sorted from highest to lowest\n",
    "\n",
    "crimeDataMissing.sort_values(by = \"Total # of missing values\", ascending = False)"
   ]
  },
  {
   "cell_type": "markdown",
   "id": "d1d9cf2c",
   "metadata": {},
   "source": [
    "##### Some notes on missing data\n",
    "\n",
    "99% of 'Crm Cd 4' and 'Crm Cd 3'are missing and 95% of 'Crm Cd 2' is missing - If there is no value in keeping these columns to reflect the missing data, then these will be dropped before moving on past data wrangling. The same approach will be taken with 'Weapon Used Cd' and 'Weapon Desc' since ~80% of these columns are missing. \n",
    "\n",
    "49% of 'Cross Street' values are missing but this will not matter since all LAT and LON values are present and will provide a much easier path to evaluating areas. 43% of each 'Crm Cd', 'Status Desc', and 'Status' columns is missing which is a substantial amount of missing data, which can have implications for analysis and processes so this will be kept in mind and the columns may need to be dropped.  \n",
    "\n"
   ]
  },
  {
   "cell_type": "code",
   "execution_count": 73,
   "id": "40b1e2ae",
   "metadata": {},
   "outputs": [
    {
     "data": {
      "text/plain": [
       "array([ 36.,  25.,   0.,  76.,  31.,  23.,  29.,  35.,  41.,  24.,  34.,\n",
       "        46.,  66.,  40.,  27.,  62.,  43.,  71.,  50.,  19.,  51.,  33.,\n",
       "        69.,  39.,  57.,  78.,  52.,  38.,  55.,  44.,  18.,  54.,  22.,\n",
       "        28.,  42.,  56.,  67.,  37.,  60.,  61.,  59.,  32.,  30.,  45.,\n",
       "        20.,  15.,  58.,  47.,  48.,  26.,  21.,  64.,  75.,  12.,  49.,\n",
       "        68.,  14.,  13.,  10.,  53.,  74.,  17.,  65.,  63.,   8.,  16.,\n",
       "        72.,  70.,   9.,  90.,  85.,  81.,  79.,  94.,  73.,  11.,  80.,\n",
       "         5.,  82.,   2.,  77.,  84.,  88.,  96.,  99.,   7.,  86.,  92.,\n",
       "         3.,  83.,  87.,   6.,  -1.,  89.,   4.,  93.,  98.,  91.,  95.,\n",
       "        97., 120.,  -2.,  -3.])"
      ]
     },
     "execution_count": 73,
     "metadata": {},
     "output_type": "execute_result"
    }
   ],
   "source": [
    "# The focus is on Victim Age and Sex so let's take a quick closer look at those columns\n",
    "\n",
    "crimeData[crimeData['Victim Age'].notna()]['Victim Age'].unique()"
   ]
  },
  {
   "cell_type": "code",
   "execution_count": 72,
   "id": "860e7893",
   "metadata": {
    "scrolled": true
   },
   "outputs": [
    {
     "data": {
      "text/plain": [
       "array(['F', 'M', 'X', 'H', '-', 'N'], dtype=object)"
      ]
     },
     "execution_count": 72,
     "metadata": {},
     "output_type": "execute_result"
    }
   ],
   "source": [
    "crimeData[crimeData['Victim Sex'].notna()]['Victim Sex'].unique()"
   ]
  },
  {
   "cell_type": "markdown",
   "id": "863573e5",
   "metadata": {},
   "source": [
    "It looks like there may be more missing values than originally shown ussing the method .isna() above. \n",
    "For 'Victim Age', it looks like there are error values (ie less than '0') and, for 'Victim Sex', there are values that do not represent Male or Female (ie 'X', 'H','-', and 'N') This will be explored next along with duplicate values (if any)"
   ]
  },
  {
   "cell_type": "markdown",
   "id": "62ddb232",
   "metadata": {},
   "source": [
    "### C.ii Duplicate Values <a id='C.ii'></a>"
   ]
  },
  {
   "cell_type": "code",
   "execution_count": 82,
   "id": "63485391",
   "metadata": {},
   "outputs": [
    {
     "data": {
      "text/plain": [
       "0"
      ]
     },
     "execution_count": 82,
     "metadata": {},
     "output_type": "execute_result"
    }
   ],
   "source": [
    "# Brief look at potential duplicate obeservations\n",
    "# Using .duplicated() and .sum() to find all duplicates, mark them as True, and sum the amount of True's \n",
    "\n",
    "crimeData.duplicated(keep=False).sum()"
   ]
  },
  {
   "cell_type": "markdown",
   "id": "20eb3e1d",
   "metadata": {},
   "source": [
    "Comparing full rows brings up no duplicates so let's take a look at some of the individual variables and combination of variables to ensure there are no duplicate values. "
   ]
  },
  {
   "cell_type": "code",
   "execution_count": 89,
   "id": "a2009f2b",
   "metadata": {},
   "outputs": [],
   "source": [
    "# Each reported incident should have a unique Division of Record Number within'DR Number'\n",
    "\n",
    "# Subsetting the crime data to show all duplicate values based on 'DR Number' and then sorting by 'DR Number'\n",
    "# brings up the following\n",
    "\n",
    "crimeDataDuplicates = crimeData[crimeData.duplicated(subset=['DR Number'],keep=False)].sort_values(by = \"DR Number\")"
   ]
  },
  {
   "cell_type": "code",
   "execution_count": 113,
   "id": "46f196e9",
   "metadata": {},
   "outputs": [
    {
     "name": "stdout",
     "output_type": "stream",
     "text": [
      "# of Duplicates based on 'Date Occurred', 'Time Occurred', 'Address', 'Cross Street', 'LAT' and 'LON' columns:  2\n",
      "# of Duplicates based on 'LAT' and 'LON' columns:  51\n",
      "# of Duplicates based on 'Address' and 'Cross Street' columns:  54\n",
      "# of Duplicates based on 'Date Occurred' column:  21\n",
      "# of Duplicates based on 'Time Occurred' column:  101\n"
     ]
    }
   ],
   "source": [
    "# Lets see if these reported incidents occured on the same date, time and place\n",
    "\n",
    "print(\"# of Duplicates based on 'Date Occurred', 'Time Occurred', 'Address', 'Cross Street', 'LAT' and 'LON' columns: \", \\\n",
    "crimeDataDuplicates.loc[:,['Date Occurred','Time Occurred','Address','Cross Street','LAT','LON']].duplicated().sum())\n",
    "\n",
    "# Lets look at specific columns since the above only flagged one duplicate\n",
    "\n",
    "print(\"# of Duplicates based on 'LAT' and 'LON' columns: \", \\\n",
    "    crimeDataDuplicates.loc[:,['LAT','LON']].duplicated().sum())\n",
    "\n",
    "print(\"# of Duplicates based on 'Address' and 'Cross Street' columns: \", \\\n",
    "crimeDataDuplicates.loc[:,['Address','Cross Street']].duplicated().sum())\n",
    "\n",
    "print(\"# of Duplicates based on 'Date Occurred' column: \", \\\n",
    "crimeDataDuplicates.loc[:,['Date Occurred']].duplicated().sum())\n",
    "\n",
    "print(\"# of Duplicates based on 'Time Occurred' column: \", \\\n",
    "crimeDataDuplicates.loc[:,['Time Occurred']].duplicated().sum())"
   ]
  },
  {
   "cell_type": "code",
   "execution_count": 149,
   "id": "ad687360",
   "metadata": {
    "scrolled": true
   },
   "outputs": [],
   "source": [
    "# It looks like the 'Date Occurred' columns will create more unique values than available due to the different formatting\n",
    "# For example, '01/22/2020' is not equivalent to '01/22/2020' 12:00:00 AM' so let's format to get a better result\n",
    "\n",
    "crimeDataDuplicates['Date Occurred'] = crimeDataDuplicates['Date Occurred'].apply(lambda x: x[0:10])"
   ]
  },
  {
   "cell_type": "code",
   "execution_count": 150,
   "id": "ef1fc0ea",
   "metadata": {},
   "outputs": [
    {
     "name": "stdout",
     "output_type": "stream",
     "text": [
      "# of Duplicates based on 'Date Occurred' column:  91\n"
     ]
    }
   ],
   "source": [
    "# After formatting the 'Date Occurred' column, more duplicates are found\n",
    "\n",
    "print(\"# of Duplicates based on 'Date Occurred' column: \", \\\n",
    "crimeDataDuplicates.loc[:,['Date Occurred']].duplicated().sum())\n"
   ]
  },
  {
   "cell_type": "code",
   "execution_count": 157,
   "id": "35197a8f",
   "metadata": {
    "scrolled": true
   },
   "outputs": [
    {
     "data": {
      "text/plain": [
       "Unnamed: 0                101\n",
       "DR Number                 101\n",
       "Date Reported             101\n",
       "Date Occurred             101\n",
       "Time Occurred             101\n",
       "Area ID                   101\n",
       "Area Name                 101\n",
       "Reporting District        101\n",
       "Crime Code                101\n",
       "Crime Code Description    101\n",
       "MO Codes                   93\n",
       "Victim Age                 74\n",
       "Victim Sex                 97\n",
       "Victim Descent             97\n",
       "Premise Code              101\n",
       "Premise Description       101\n",
       "Weapon Used Cd              0\n",
       "Weapon Desc                 0\n",
       "Status                      0\n",
       "Status Desc                 0\n",
       "Crm Cd 1                    0\n",
       "Crm Cd 2                    0\n",
       "Crm Cd 3                    0\n",
       "Crm Cd 4                    0\n",
       "Address                   101\n",
       "Cross Street               81\n",
       "LAT                       101\n",
       "LON                       101\n",
       "dtype: int64"
      ]
     },
     "execution_count": 157,
     "metadata": {},
     "output_type": "execute_result"
    }
   ],
   "source": [
    "# A quick look at crimeDataDuplicates using the .head() method created a suspicion that the duplicates were coming \n",
    "# from Traffic Collision rows and it is further supported by the count below - showing 101 rows for records with\n",
    "# 'TRAFFIC COLLISION' for the 'Crime Code Description' which is half of the 202 duplicates flagged above\n",
    "\n",
    "crimeDataDuplicates[crimeDataDuplicates['Crime Code Description']=='TRAFFIC COLLISION'].count()"
   ]
  },
  {
   "cell_type": "code",
   "execution_count": 185,
   "id": "a1ecfc14",
   "metadata": {
    "scrolled": true
   },
   "outputs": [],
   "source": [
    "# Let's decide if we should drop or keep the 'TRAFFIC COLLISION' rows by seeing whether \n",
    "# these rows have more information\n",
    "\n",
    "# missingDataTrafficRelated will have total missing values per column for 'TRAFFIC COLLISION' related data\n",
    "# missingDataNonTrafficRelated will have total missing values per column for Non -'TRAFFIC COLLISION' related data\n",
    "\n",
    "missingDataTrafficRelated = crimeDataDuplicates[crimeDataDuplicates['Crime Code Description']=='TRAFFIC COLLISION'].isna().sum()\n",
    "missingDataNonTrafficRelated = crimeDataDuplicates[~(crimeDataDuplicates['Crime Code Description']=='TRAFFIC COLLISION')].isna().sum()\n"
   ]
  },
  {
   "cell_type": "code",
   "execution_count": 196,
   "id": "d1586832",
   "metadata": {
    "scrolled": true
   },
   "outputs": [
    {
     "data": {
      "text/plain": [
       "Cross Street               True\n",
       "MO Codes                   True\n",
       "Victim Sex                 True\n",
       "Victim Descent             True\n",
       "Unnamed: 0                False\n",
       "Weapon Used Cd            False\n",
       "LAT                       False\n",
       "Address                   False\n",
       "Crm Cd 4                  False\n",
       "Crm Cd 3                  False\n",
       "Crm Cd 2                  False\n",
       "Crm Cd 1                  False\n",
       "Status Desc               False\n",
       "Status                    False\n",
       "Weapon Desc               False\n",
       "Premise Code              False\n",
       "Premise Description       False\n",
       "DR Number                 False\n",
       "Victim Age                False\n",
       "Crime Code Description    False\n",
       "Crime Code                False\n",
       "Reporting District        False\n",
       "Area Name                 False\n",
       "Area ID                   False\n",
       "Time Occurred             False\n",
       "Date Occurred             False\n",
       "Date Reported             False\n",
       "LON                       False\n",
       "dtype: bool"
      ]
     },
     "execution_count": 196,
     "metadata": {},
     "output_type": "execute_result"
    }
   ],
   "source": [
    "# Comparison of variables created in previous cell\n",
    "# Boolean expression below will show where TRAFFIC COLLISION' related data has more information\n",
    "\n",
    "(missingDataTrafficRelated < missingDataNonTrafficRelated).sort_values(ascending=False)"
   ]
  },
  {
   "cell_type": "markdown",
   "id": "ee5bce36",
   "metadata": {},
   "source": [
    "It looks like there are columns where the Traffic Collision records have more information but the majority of information lies within the non-traffic records (ie 'Crime Code Description' not equal to 'TRAFFIC COLLISION') Before dropping the data, let's use it to fill in any gaps in the rows that will remain."
   ]
  },
  {
   "cell_type": "code",
   "execution_count": 197,
   "id": "6feb8f1d",
   "metadata": {},
   "outputs": [],
   "source": [
    "# Loop to fill any gaps within the rows that will not be dropped \n",
    "\n",
    "\n",
    "'''\n",
    "Pseudocode ...\n",
    "\n",
    "for i in non-traffic related row:\n",
    "    for j in non-traffic related column:\n",
    "        if j is NaN, then\n",
    "            j = value from duplicate traffic-related row\n",
    "\n",
    "All non-traffic rows will have pulled any missing information from the the traffic rows (if available)\n",
    "Finally, all traffic-related duplicates can be dropped. \n",
    "\n",
    "'''\n"
   ]
  },
  {
   "cell_type": "markdown",
   "id": "e7597c13",
   "metadata": {},
   "source": [
    "**Questions that will have answers by the end of this notebook** \n",
    "- Do you think you may have the data you need to tackle the desired question?\n",
    "    - Have you identified the required target value?\n",
    "    - Do you have potentially useful features?\n",
    "- Do you have any fundamental issues with the data?\n",
    "- What kind of cleaning steps did you perform?\n",
    "- How did you deal with missing values, if there were any?\n",
    "- Were there outliers, and how did you handle them?"
   ]
  }
 ],
 "metadata": {
  "kernelspec": {
   "display_name": "Python 3 (ipykernel)",
   "language": "python",
   "name": "python3"
  },
  "language_info": {
   "codemirror_mode": {
    "name": "ipython",
    "version": 3
   },
   "file_extension": ".py",
   "mimetype": "text/x-python",
   "name": "python",
   "nbconvert_exporter": "python",
   "pygments_lexer": "ipython3",
   "version": "3.10.9"
  }
 },
 "nbformat": 4,
 "nbformat_minor": 5
}
