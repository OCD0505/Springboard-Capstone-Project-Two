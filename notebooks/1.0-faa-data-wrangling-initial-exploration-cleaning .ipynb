{
 "cells": [
  {
   "cell_type": "markdown",
   "id": "47ee3aa5",
   "metadata": {},
   "source": [
    "\n",
    "# Data Science Career Track | Capstone Two: Data Wrangling\n",
    "---"
   ]
  },
  {
   "cell_type": "markdown",
   "id": "2965f9b4",
   "metadata": {},
   "source": [
    "### **Purpose:** \n",
    "This notebook focuses on collecting your data, organizing it, and making sure it's well defined. \n",
    "### **Problem Statement:**\n",
    "The purpose of this data science project involves predicting the age and sex of individuals who become victims of crime using crime data and potentially other relevant variables. By analyzing patterns within crime data, we aim to develop predictive models that estimate the age and sex of victims, which can have applications in law enforcement, victim support and aid victim service providers target relevant areas. \n"
   ]
  },
  {
   "cell_type": "markdown",
   "id": "8a7b8232",
   "metadata": {},
   "source": [
    "## Table of contents\n",
    "- [A. Imports](#A)\n",
    "- [B. Loading The Data](#B)\n",
    "- [C. Exploring The Data](#C)\n",
    "    - C.1 Categorical Features\n",
    "    - C.2 Numerial Features\n",
    "- [D. [Title]](#D)\n",
    "- [E. [Title]](#E) \n",
    "- [F. [Title]](#F)\n",
    "- [G. [Title]](#G)\n",
    "- [H. [Title]](#H)\n",
    "- [I. [Title]](#I)\n",
    "- [J. [Title]](#J)\n",
    "- [K. [Title]](#K)"
   ]
  },
  {
   "cell_type": "markdown",
   "id": "c3a2a081",
   "metadata": {},
   "source": [
    "### A. Imports <a id='A'></a>"
   ]
  },
  {
   "cell_type": "code",
   "execution_count": 3,
   "id": "0108883d",
   "metadata": {},
   "outputs": [],
   "source": [
    "import pandas as pd\n",
    "import numpy as np\n",
    "import matplotlib.pyplot as plt\n",
    "import seaborn as sns\n",
    "import missingno as msno\n",
    "import recordlinkage\n",
    "import os"
   ]
  },
  {
   "cell_type": "markdown",
   "id": "5a8cc5ab",
   "metadata": {},
   "source": [
    "### B. Loading The Crime Data <a id='B'></a>"
   ]
  },
  {
   "cell_type": "code",
   "execution_count": 5,
   "id": "54c3ae45",
   "metadata": {},
   "outputs": [
    {
     "data": {
      "text/plain": [
       "'/Users/frankyaraujo/Development/Springboard_Main/Capstone Two/Springboard-Capstone-Two/notebooks'"
      ]
     },
     "execution_count": 5,
     "metadata": {},
     "output_type": "execute_result"
    }
   ],
   "source": [
    "# Making sure I have the correct file path for loading the data\n",
    "\n",
    "os.getcwd()"
   ]
  },
  {
   "cell_type": "code",
   "execution_count": 6,
   "id": "a11149e2",
   "metadata": {},
   "outputs": [],
   "source": [
    "# Storing file path in variable and then using pd.read_csv() to load the data as a dataframe into crimeData\n",
    "\n",
    "dataFilePath = \"/Users/frankyaraujo/Development/Springboard_Main/Capstone Two/\\\n",
    "Springboard-Capstone-Two/src/data/2010-2023 Crime_Traffic_Collisions_Data .csv\"\n",
    "crimeData = pd.read_csv(dataFilePath, low_memory = False)"
   ]
  },
  {
   "cell_type": "markdown",
   "id": "4cffbf82",
   "metadata": {},
   "source": [
    "### C. Exploring The Data  <a id='C'></a>"
   ]
  },
  {
   "cell_type": "code",
   "execution_count": 17,
   "id": "4b9e7e63",
   "metadata": {
    "scrolled": false
   },
   "outputs": [
    {
     "name": "stdout",
     "output_type": "stream",
     "text": [
      "<class 'pandas.core.frame.DataFrame'>\n",
      "RangeIndex: 1375881 entries, 0 to 1375880\n",
      "Data columns (total 28 columns):\n",
      " #   Column                  Non-Null Count    Dtype  \n",
      "---  ------                  --------------    -----  \n",
      " 0   Unnamed: 0              1375881 non-null  int64  \n",
      " 1   DR Number               1375881 non-null  int64  \n",
      " 2   Date Reported           1375881 non-null  object \n",
      " 3   Date Occurred           1375881 non-null  object \n",
      " 4   Time Occurred           1375881 non-null  int64  \n",
      " 5   Area ID                 1375881 non-null  int64  \n",
      " 6   Area Name               1375881 non-null  object \n",
      " 7   Reporting District      1375881 non-null  int64  \n",
      " 8   Crime Code              1375881 non-null  int64  \n",
      " 9   Crime Code Description  1375881 non-null  object \n",
      " 10  MO Codes                1181546 non-null  object \n",
      " 11  Victim Age              1290351 non-null  float64\n",
      " 12  Victim Sex              1263940 non-null  object \n",
      " 13  Victim Descent          1262997 non-null  object \n",
      " 14  Premise Code            1374913 non-null  float64\n",
      " 15  Premise Description     1374460 non-null  object \n",
      " 16  Weapon Used Cd          271192 non-null   float64\n",
      " 17  Weapon Desc             271192 non-null   object \n",
      " 18  Status                  779803 non-null   object \n",
      " 19  Status Desc             779803 non-null   object \n",
      " 20  Crm Cd 1                779793 non-null   float64\n",
      " 21  Crm Cd 2                57524 non-null    float64\n",
      " 22  Crm Cd 3                1919 non-null     float64\n",
      " 23  Crm Cd 4                57 non-null       float64\n",
      " 24  Address                 1375881 non-null  object \n",
      " 25  Cross Street            692955 non-null   object \n",
      " 26  LAT                     1375881 non-null  float64\n",
      " 27  LON                     1375881 non-null  float64\n",
      "dtypes: float64(9), int64(6), object(13)\n",
      "memory usage: 293.9+ MB\n"
     ]
    }
   ],
   "source": [
    "crimeData.info()"
   ]
  },
  {
   "cell_type": "code",
   "execution_count": 7,
   "id": "53270714",
   "metadata": {},
   "outputs": [
    {
     "data": {
      "text/html": [
       "<div>\n",
       "<style scoped>\n",
       "    .dataframe tbody tr th:only-of-type {\n",
       "        vertical-align: middle;\n",
       "    }\n",
       "\n",
       "    .dataframe tbody tr th {\n",
       "        vertical-align: top;\n",
       "    }\n",
       "\n",
       "    .dataframe thead th {\n",
       "        text-align: right;\n",
       "    }\n",
       "</style>\n",
       "<table border=\"1\" class=\"dataframe\">\n",
       "  <thead>\n",
       "    <tr style=\"text-align: right;\">\n",
       "      <th></th>\n",
       "      <th>Unnamed: 0</th>\n",
       "      <th>DR Number</th>\n",
       "      <th>Date Reported</th>\n",
       "      <th>Date Occurred</th>\n",
       "      <th>Time Occurred</th>\n",
       "      <th>Area ID</th>\n",
       "      <th>Area Name</th>\n",
       "      <th>Reporting District</th>\n",
       "      <th>Crime Code</th>\n",
       "      <th>Crime Code Description</th>\n",
       "      <th>...</th>\n",
       "      <th>Status</th>\n",
       "      <th>Status Desc</th>\n",
       "      <th>Crm Cd 1</th>\n",
       "      <th>Crm Cd 2</th>\n",
       "      <th>Crm Cd 3</th>\n",
       "      <th>Crm Cd 4</th>\n",
       "      <th>Address</th>\n",
       "      <th>Cross Street</th>\n",
       "      <th>LAT</th>\n",
       "      <th>LON</th>\n",
       "    </tr>\n",
       "  </thead>\n",
       "  <tbody>\n",
       "    <tr>\n",
       "      <th>0</th>\n",
       "      <td>0</td>\n",
       "      <td>10304468</td>\n",
       "      <td>01/08/2020 12:00:00 AM</td>\n",
       "      <td>01/08/2020 12:00:00 AM</td>\n",
       "      <td>2230</td>\n",
       "      <td>3</td>\n",
       "      <td>Southwest</td>\n",
       "      <td>377</td>\n",
       "      <td>624</td>\n",
       "      <td>BATTERY - SIMPLE ASSAULT</td>\n",
       "      <td>...</td>\n",
       "      <td>AO</td>\n",
       "      <td>Adult Other</td>\n",
       "      <td>624.0</td>\n",
       "      <td>NaN</td>\n",
       "      <td>NaN</td>\n",
       "      <td>NaN</td>\n",
       "      <td>1100 W  39TH                         PL</td>\n",
       "      <td>NaN</td>\n",
       "      <td>34.0141</td>\n",
       "      <td>-118.2978</td>\n",
       "    </tr>\n",
       "    <tr>\n",
       "      <th>1</th>\n",
       "      <td>1</td>\n",
       "      <td>190101086</td>\n",
       "      <td>01/02/2020 12:00:00 AM</td>\n",
       "      <td>01/01/2020 12:00:00 AM</td>\n",
       "      <td>330</td>\n",
       "      <td>1</td>\n",
       "      <td>Central</td>\n",
       "      <td>163</td>\n",
       "      <td>624</td>\n",
       "      <td>BATTERY - SIMPLE ASSAULT</td>\n",
       "      <td>...</td>\n",
       "      <td>IC</td>\n",
       "      <td>Invest Cont</td>\n",
       "      <td>624.0</td>\n",
       "      <td>NaN</td>\n",
       "      <td>NaN</td>\n",
       "      <td>NaN</td>\n",
       "      <td>700 S  HILL                         ST</td>\n",
       "      <td>NaN</td>\n",
       "      <td>34.0459</td>\n",
       "      <td>-118.2545</td>\n",
       "    </tr>\n",
       "    <tr>\n",
       "      <th>2</th>\n",
       "      <td>2</td>\n",
       "      <td>200110444</td>\n",
       "      <td>04/14/2020 12:00:00 AM</td>\n",
       "      <td>02/13/2020 12:00:00 AM</td>\n",
       "      <td>1200</td>\n",
       "      <td>1</td>\n",
       "      <td>Central</td>\n",
       "      <td>155</td>\n",
       "      <td>845</td>\n",
       "      <td>SEX OFFENDER REGISTRANT OUT OF COMPLIANCE</td>\n",
       "      <td>...</td>\n",
       "      <td>AA</td>\n",
       "      <td>Adult Arrest</td>\n",
       "      <td>845.0</td>\n",
       "      <td>NaN</td>\n",
       "      <td>NaN</td>\n",
       "      <td>NaN</td>\n",
       "      <td>200 E  6TH                          ST</td>\n",
       "      <td>NaN</td>\n",
       "      <td>34.0448</td>\n",
       "      <td>-118.2474</td>\n",
       "    </tr>\n",
       "    <tr>\n",
       "      <th>3</th>\n",
       "      <td>3</td>\n",
       "      <td>191501505</td>\n",
       "      <td>01/01/2020 12:00:00 AM</td>\n",
       "      <td>01/01/2020 12:00:00 AM</td>\n",
       "      <td>1730</td>\n",
       "      <td>15</td>\n",
       "      <td>N Hollywood</td>\n",
       "      <td>1543</td>\n",
       "      <td>745</td>\n",
       "      <td>VANDALISM - MISDEAMEANOR ($399 OR UNDER)</td>\n",
       "      <td>...</td>\n",
       "      <td>IC</td>\n",
       "      <td>Invest Cont</td>\n",
       "      <td>745.0</td>\n",
       "      <td>998.0</td>\n",
       "      <td>NaN</td>\n",
       "      <td>NaN</td>\n",
       "      <td>5400    CORTEEN                      PL</td>\n",
       "      <td>NaN</td>\n",
       "      <td>34.1685</td>\n",
       "      <td>-118.4019</td>\n",
       "    </tr>\n",
       "    <tr>\n",
       "      <th>4</th>\n",
       "      <td>4</td>\n",
       "      <td>191921269</td>\n",
       "      <td>01/01/2020 12:00:00 AM</td>\n",
       "      <td>01/01/2020 12:00:00 AM</td>\n",
       "      <td>415</td>\n",
       "      <td>19</td>\n",
       "      <td>Mission</td>\n",
       "      <td>1998</td>\n",
       "      <td>740</td>\n",
       "      <td>VANDALISM - FELONY ($400 &amp; OVER, ALL CHURCH VA...</td>\n",
       "      <td>...</td>\n",
       "      <td>IC</td>\n",
       "      <td>Invest Cont</td>\n",
       "      <td>740.0</td>\n",
       "      <td>NaN</td>\n",
       "      <td>NaN</td>\n",
       "      <td>NaN</td>\n",
       "      <td>14400    TITUS                        ST</td>\n",
       "      <td>NaN</td>\n",
       "      <td>34.2198</td>\n",
       "      <td>-118.4468</td>\n",
       "    </tr>\n",
       "  </tbody>\n",
       "</table>\n",
       "<p>5 rows × 28 columns</p>\n",
       "</div>"
      ],
      "text/plain": [
       "   Unnamed: 0  DR Number           Date Reported           Date Occurred  \\\n",
       "0           0   10304468  01/08/2020 12:00:00 AM  01/08/2020 12:00:00 AM   \n",
       "1           1  190101086  01/02/2020 12:00:00 AM  01/01/2020 12:00:00 AM   \n",
       "2           2  200110444  04/14/2020 12:00:00 AM  02/13/2020 12:00:00 AM   \n",
       "3           3  191501505  01/01/2020 12:00:00 AM  01/01/2020 12:00:00 AM   \n",
       "4           4  191921269  01/01/2020 12:00:00 AM  01/01/2020 12:00:00 AM   \n",
       "\n",
       "   Time Occurred  Area ID    Area Name  Reporting District  Crime Code  \\\n",
       "0           2230        3    Southwest                 377         624   \n",
       "1            330        1      Central                 163         624   \n",
       "2           1200        1      Central                 155         845   \n",
       "3           1730       15  N Hollywood                1543         745   \n",
       "4            415       19      Mission                1998         740   \n",
       "\n",
       "                              Crime Code Description  ... Status  \\\n",
       "0                           BATTERY - SIMPLE ASSAULT  ...     AO   \n",
       "1                           BATTERY - SIMPLE ASSAULT  ...     IC   \n",
       "2          SEX OFFENDER REGISTRANT OUT OF COMPLIANCE  ...     AA   \n",
       "3           VANDALISM - MISDEAMEANOR ($399 OR UNDER)  ...     IC   \n",
       "4  VANDALISM - FELONY ($400 & OVER, ALL CHURCH VA...  ...     IC   \n",
       "\n",
       "    Status Desc Crm Cd 1 Crm Cd 2  Crm Cd 3 Crm Cd 4  \\\n",
       "0   Adult Other    624.0      NaN       NaN      NaN   \n",
       "1   Invest Cont    624.0      NaN       NaN      NaN   \n",
       "2  Adult Arrest    845.0      NaN       NaN      NaN   \n",
       "3   Invest Cont    745.0    998.0       NaN      NaN   \n",
       "4   Invest Cont    740.0      NaN       NaN      NaN   \n",
       "\n",
       "                                    Address Cross Street      LAT       LON  \n",
       "0   1100 W  39TH                         PL          NaN  34.0141 -118.2978  \n",
       "1    700 S  HILL                         ST          NaN  34.0459 -118.2545  \n",
       "2    200 E  6TH                          ST          NaN  34.0448 -118.2474  \n",
       "3   5400    CORTEEN                      PL          NaN  34.1685 -118.4019  \n",
       "4  14400    TITUS                        ST          NaN  34.2198 -118.4468  \n",
       "\n",
       "[5 rows x 28 columns]"
      ]
     },
     "execution_count": 7,
     "metadata": {},
     "output_type": "execute_result"
    }
   ],
   "source": [
    "crimeData.head()"
   ]
  },
  {
   "cell_type": "code",
   "execution_count": null,
   "id": "9efee545",
   "metadata": {},
   "outputs": [],
   "source": []
  },
  {
   "cell_type": "code",
   "execution_count": null,
   "id": "17d2ff35",
   "metadata": {},
   "outputs": [],
   "source": []
  },
  {
   "cell_type": "code",
   "execution_count": null,
   "id": "28c064c4",
   "metadata": {},
   "outputs": [],
   "source": []
  },
  {
   "cell_type": "code",
   "execution_count": null,
   "id": "d0cb43cd",
   "metadata": {},
   "outputs": [],
   "source": []
  },
  {
   "cell_type": "code",
   "execution_count": null,
   "id": "68cbf042",
   "metadata": {},
   "outputs": [],
   "source": []
  },
  {
   "cell_type": "code",
   "execution_count": null,
   "id": "441ebb2e",
   "metadata": {},
   "outputs": [],
   "source": []
  },
  {
   "cell_type": "markdown",
   "id": "8e3f30f6",
   "metadata": {},
   "source": [
    "- Do you think you may have the data you need to tackle the desired question?\n",
    "    - Have you identified the required target value?\n",
    "    - Do you have potentially useful features?\n",
    "- Do you have any fundamental issues with the data?\n",
    "- What kind of cleaning steps did you perform?\n",
    "- How did you deal with missing values, if there were any?\n",
    "- Were there outliers, and how did you handle them?"
   ]
  }
 ],
 "metadata": {
  "kernelspec": {
   "display_name": "Python 3 (ipykernel)",
   "language": "python",
   "name": "python3"
  },
  "language_info": {
   "codemirror_mode": {
    "name": "ipython",
    "version": 3
   },
   "file_extension": ".py",
   "mimetype": "text/x-python",
   "name": "python",
   "nbconvert_exporter": "python",
   "pygments_lexer": "ipython3",
   "version": "3.10.9"
  }
 },
 "nbformat": 4,
 "nbformat_minor": 5
}
