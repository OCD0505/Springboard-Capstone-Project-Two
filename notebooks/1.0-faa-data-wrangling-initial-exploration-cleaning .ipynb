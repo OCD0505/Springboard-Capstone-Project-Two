{
 "cells": [
  {
   "cell_type": "markdown",
   "id": "6a249fda",
   "metadata": {},
   "source": [
    "\n",
    "# 1 Data Wrangling <a id='1_Data_Wrangling'></a>\n",
    "---"
   ]
  },
  {
   "cell_type": "markdown",
   "id": "8a7b8232",
   "metadata": {},
   "source": [
    "## 1.1 Contents <a id='1.1_Contents'></a>\n",
    "- [1 Data Wrangling](#1_Data_Wrangling)\n",
    "    - [1.1 Contents](#1.1_Contents)\n",
    "    - [1.2 Introduction](#1.2_Introduction)\n",
    "    - [1.3 Importing](#1.3_Importing)\n",
    "    - [1.4 Loading The Data](#1.4_Loading_the_data)\n",
    "- [1.5 Preliminary Exploration](#1.5_Preliminary_exploration)\n",
    "    - [1.5.1 Missing Values](#1.5.1_Missing_values)\n",
    "    - [1.5.2 Duplicate Values](#1.5.2_Duplicate_values)\n",
    "- [1.6 A Look Into Categorical Features](#1.6_Categorical_Features)\n",
    "- [1.7 A Look Into Numerical Features](#1.7_Numerical_Features) \n",
    "    - [1.7.1 Target Feature](#1.7.1_Target_Feature)\n",
    "- [1.8 Save the data](#1.8_Save_data)\n",
    "- [1.9 Summary](#1.9_Summary)"
   ]
  },
  {
   "cell_type": "markdown",
   "id": "b64f9958",
   "metadata": {},
   "source": [
    "## 1.2 Introduction <a id='1.2_Introduction'></a>"
   ]
  },
  {
   "cell_type": "markdown",
   "id": "6e01b30d",
   "metadata": {},
   "source": [
    "#### Purpose:\n",
    "This notebook focuses on collecting your data, organizing it, and making sure it's well defined.\n",
    "\n",
    "#### Problem Statement:\n",
    "The purpose of this data science project involves predicting the age and sex of individuals who become victims of crime using crime data and potentially other relevant variables. By analyzing patterns within crime data, we aim to develop predictive models that estimate the age and sex of victims, which can have applications in law enforcement, victim support and aid victim service providers target relevant areas."
   ]
  },
  {
   "cell_type": "markdown",
   "id": "bea32dcf",
   "metadata": {},
   "source": [
    "## 1.3 Importing <a id='1.3_Importing'></a>"
   ]
  },
  {
   "cell_type": "code",
   "execution_count": 4,
   "id": "0108883d",
   "metadata": {},
   "outputs": [],
   "source": [
    "import pandas as pd\n",
    "import numpy as np\n",
    "import matplotlib.pyplot as plt\n",
    "import seaborn as sns\n",
    "from datetime import datetime\n",
    "import os"
   ]
  },
  {
   "cell_type": "markdown",
   "id": "a6dd4825",
   "metadata": {},
   "source": [
    "## 1.4 Loading The Crime Data <a id='1.4_Loading_the_data'></a>"
   ]
  },
  {
   "cell_type": "code",
   "execution_count": 5,
   "id": "a11149e2",
   "metadata": {},
   "outputs": [],
   "source": [
    "# Storing file path in variable and then using pd.read_csv() to load the data as a dataframe into crimeData\n",
    "\n",
    "dataFilePath = \"/Users/frankyaraujo/Development/Springboard_Main/Capstone Two/\\\n",
    "Springboard-Capstone-Two/src/data/2010-2023 Crime_Traffic_Collisions_Data .csv\"\n",
    "crimeData = pd.read_csv(dataFilePath, low_memory = False)"
   ]
  },
  {
   "cell_type": "markdown",
   "id": "01a3dc4e",
   "metadata": {},
   "source": [
    "## 1.5 Preliminary Exploration <a id='1.5_Preliminary_exploration'></a>"
   ]
  },
  {
   "cell_type": "code",
   "execution_count": 6,
   "id": "6cc07723",
   "metadata": {
    "scrolled": true
   },
   "outputs": [
    {
     "name": "stdout",
     "output_type": "stream",
     "text": [
      "<class 'pandas.core.frame.DataFrame'>\n",
      "RangeIndex: 1375881 entries, 0 to 1375880\n",
      "Data columns (total 28 columns):\n",
      " #   Column                  Non-Null Count    Dtype  \n",
      "---  ------                  --------------    -----  \n",
      " 0   Unnamed: 0              1375881 non-null  int64  \n",
      " 1   DR Number               1375881 non-null  int64  \n",
      " 2   Date Reported           1375881 non-null  object \n",
      " 3   Date Occurred           1375881 non-null  object \n",
      " 4   Time Occurred           1375881 non-null  int64  \n",
      " 5   Area ID                 1375881 non-null  int64  \n",
      " 6   Area Name               1375881 non-null  object \n",
      " 7   Reporting District      1375881 non-null  int64  \n",
      " 8   Crime Code              1375881 non-null  int64  \n",
      " 9   Crime Code Description  1375881 non-null  object \n",
      " 10  MO Codes                1181546 non-null  object \n",
      " 11  Victim Age              1290351 non-null  float64\n",
      " 12  Victim Sex              1263940 non-null  object \n",
      " 13  Victim Descent          1262997 non-null  object \n",
      " 14  Premise Code            1374913 non-null  float64\n",
      " 15  Premise Description     1374460 non-null  object \n",
      " 16  Weapon Used Cd          271192 non-null   float64\n",
      " 17  Weapon Desc             271192 non-null   object \n",
      " 18  Status                  779803 non-null   object \n",
      " 19  Status Desc             779803 non-null   object \n",
      " 20  Crm Cd 1                779793 non-null   float64\n",
      " 21  Crm Cd 2                57524 non-null    float64\n",
      " 22  Crm Cd 3                1919 non-null     float64\n",
      " 23  Crm Cd 4                57 non-null       float64\n",
      " 24  Address                 1375881 non-null  object \n",
      " 25  Cross Street            692955 non-null   object \n",
      " 26  LAT                     1375881 non-null  float64\n",
      " 27  LON                     1375881 non-null  float64\n",
      "dtypes: float64(9), int64(6), object(13)\n",
      "memory usage: 293.9+ MB\n"
     ]
    }
   ],
   "source": [
    "crimeData.info()"
   ]
  },
  {
   "cell_type": "code",
   "execution_count": 7,
   "id": "5705f2cf",
   "metadata": {
    "scrolled": true
   },
   "outputs": [
    {
     "data": {
      "text/html": [
       "<div>\n",
       "<style scoped>\n",
       "    .dataframe tbody tr th:only-of-type {\n",
       "        vertical-align: middle;\n",
       "    }\n",
       "\n",
       "    .dataframe tbody tr th {\n",
       "        vertical-align: top;\n",
       "    }\n",
       "\n",
       "    .dataframe thead th {\n",
       "        text-align: right;\n",
       "    }\n",
       "</style>\n",
       "<table border=\"1\" class=\"dataframe\">\n",
       "  <thead>\n",
       "    <tr style=\"text-align: right;\">\n",
       "      <th></th>\n",
       "      <th>Unnamed: 0</th>\n",
       "      <th>DR Number</th>\n",
       "      <th>Date Reported</th>\n",
       "      <th>Date Occurred</th>\n",
       "      <th>Time Occurred</th>\n",
       "      <th>Area ID</th>\n",
       "      <th>Area Name</th>\n",
       "      <th>Reporting District</th>\n",
       "      <th>Crime Code</th>\n",
       "      <th>Crime Code Description</th>\n",
       "      <th>...</th>\n",
       "      <th>Status</th>\n",
       "      <th>Status Desc</th>\n",
       "      <th>Crm Cd 1</th>\n",
       "      <th>Crm Cd 2</th>\n",
       "      <th>Crm Cd 3</th>\n",
       "      <th>Crm Cd 4</th>\n",
       "      <th>Address</th>\n",
       "      <th>Cross Street</th>\n",
       "      <th>LAT</th>\n",
       "      <th>LON</th>\n",
       "    </tr>\n",
       "  </thead>\n",
       "  <tbody>\n",
       "    <tr>\n",
       "      <th>0</th>\n",
       "      <td>0</td>\n",
       "      <td>10304468</td>\n",
       "      <td>01/08/2020 12:00:00 AM</td>\n",
       "      <td>01/08/2020 12:00:00 AM</td>\n",
       "      <td>2230</td>\n",
       "      <td>3</td>\n",
       "      <td>Southwest</td>\n",
       "      <td>377</td>\n",
       "      <td>624</td>\n",
       "      <td>BATTERY - SIMPLE ASSAULT</td>\n",
       "      <td>...</td>\n",
       "      <td>AO</td>\n",
       "      <td>Adult Other</td>\n",
       "      <td>624.0</td>\n",
       "      <td>NaN</td>\n",
       "      <td>NaN</td>\n",
       "      <td>NaN</td>\n",
       "      <td>1100 W  39TH                         PL</td>\n",
       "      <td>NaN</td>\n",
       "      <td>34.0141</td>\n",
       "      <td>-118.2978</td>\n",
       "    </tr>\n",
       "    <tr>\n",
       "      <th>1</th>\n",
       "      <td>1</td>\n",
       "      <td>190101086</td>\n",
       "      <td>01/02/2020 12:00:00 AM</td>\n",
       "      <td>01/01/2020 12:00:00 AM</td>\n",
       "      <td>330</td>\n",
       "      <td>1</td>\n",
       "      <td>Central</td>\n",
       "      <td>163</td>\n",
       "      <td>624</td>\n",
       "      <td>BATTERY - SIMPLE ASSAULT</td>\n",
       "      <td>...</td>\n",
       "      <td>IC</td>\n",
       "      <td>Invest Cont</td>\n",
       "      <td>624.0</td>\n",
       "      <td>NaN</td>\n",
       "      <td>NaN</td>\n",
       "      <td>NaN</td>\n",
       "      <td>700 S  HILL                         ST</td>\n",
       "      <td>NaN</td>\n",
       "      <td>34.0459</td>\n",
       "      <td>-118.2545</td>\n",
       "    </tr>\n",
       "    <tr>\n",
       "      <th>2</th>\n",
       "      <td>2</td>\n",
       "      <td>200110444</td>\n",
       "      <td>04/14/2020 12:00:00 AM</td>\n",
       "      <td>02/13/2020 12:00:00 AM</td>\n",
       "      <td>1200</td>\n",
       "      <td>1</td>\n",
       "      <td>Central</td>\n",
       "      <td>155</td>\n",
       "      <td>845</td>\n",
       "      <td>SEX OFFENDER REGISTRANT OUT OF COMPLIANCE</td>\n",
       "      <td>...</td>\n",
       "      <td>AA</td>\n",
       "      <td>Adult Arrest</td>\n",
       "      <td>845.0</td>\n",
       "      <td>NaN</td>\n",
       "      <td>NaN</td>\n",
       "      <td>NaN</td>\n",
       "      <td>200 E  6TH                          ST</td>\n",
       "      <td>NaN</td>\n",
       "      <td>34.0448</td>\n",
       "      <td>-118.2474</td>\n",
       "    </tr>\n",
       "    <tr>\n",
       "      <th>3</th>\n",
       "      <td>3</td>\n",
       "      <td>191501505</td>\n",
       "      <td>01/01/2020 12:00:00 AM</td>\n",
       "      <td>01/01/2020 12:00:00 AM</td>\n",
       "      <td>1730</td>\n",
       "      <td>15</td>\n",
       "      <td>N Hollywood</td>\n",
       "      <td>1543</td>\n",
       "      <td>745</td>\n",
       "      <td>VANDALISM - MISDEAMEANOR ($399 OR UNDER)</td>\n",
       "      <td>...</td>\n",
       "      <td>IC</td>\n",
       "      <td>Invest Cont</td>\n",
       "      <td>745.0</td>\n",
       "      <td>998.0</td>\n",
       "      <td>NaN</td>\n",
       "      <td>NaN</td>\n",
       "      <td>5400    CORTEEN                      PL</td>\n",
       "      <td>NaN</td>\n",
       "      <td>34.1685</td>\n",
       "      <td>-118.4019</td>\n",
       "    </tr>\n",
       "    <tr>\n",
       "      <th>4</th>\n",
       "      <td>4</td>\n",
       "      <td>191921269</td>\n",
       "      <td>01/01/2020 12:00:00 AM</td>\n",
       "      <td>01/01/2020 12:00:00 AM</td>\n",
       "      <td>415</td>\n",
       "      <td>19</td>\n",
       "      <td>Mission</td>\n",
       "      <td>1998</td>\n",
       "      <td>740</td>\n",
       "      <td>VANDALISM - FELONY ($400 &amp; OVER, ALL CHURCH VA...</td>\n",
       "      <td>...</td>\n",
       "      <td>IC</td>\n",
       "      <td>Invest Cont</td>\n",
       "      <td>740.0</td>\n",
       "      <td>NaN</td>\n",
       "      <td>NaN</td>\n",
       "      <td>NaN</td>\n",
       "      <td>14400    TITUS                        ST</td>\n",
       "      <td>NaN</td>\n",
       "      <td>34.2198</td>\n",
       "      <td>-118.4468</td>\n",
       "    </tr>\n",
       "  </tbody>\n",
       "</table>\n",
       "<p>5 rows × 28 columns</p>\n",
       "</div>"
      ],
      "text/plain": [
       "   Unnamed: 0  DR Number           Date Reported           Date Occurred  \\\n",
       "0           0   10304468  01/08/2020 12:00:00 AM  01/08/2020 12:00:00 AM   \n",
       "1           1  190101086  01/02/2020 12:00:00 AM  01/01/2020 12:00:00 AM   \n",
       "2           2  200110444  04/14/2020 12:00:00 AM  02/13/2020 12:00:00 AM   \n",
       "3           3  191501505  01/01/2020 12:00:00 AM  01/01/2020 12:00:00 AM   \n",
       "4           4  191921269  01/01/2020 12:00:00 AM  01/01/2020 12:00:00 AM   \n",
       "\n",
       "   Time Occurred  Area ID    Area Name  Reporting District  Crime Code  \\\n",
       "0           2230        3    Southwest                 377         624   \n",
       "1            330        1      Central                 163         624   \n",
       "2           1200        1      Central                 155         845   \n",
       "3           1730       15  N Hollywood                1543         745   \n",
       "4            415       19      Mission                1998         740   \n",
       "\n",
       "                              Crime Code Description  ... Status  \\\n",
       "0                           BATTERY - SIMPLE ASSAULT  ...     AO   \n",
       "1                           BATTERY - SIMPLE ASSAULT  ...     IC   \n",
       "2          SEX OFFENDER REGISTRANT OUT OF COMPLIANCE  ...     AA   \n",
       "3           VANDALISM - MISDEAMEANOR ($399 OR UNDER)  ...     IC   \n",
       "4  VANDALISM - FELONY ($400 & OVER, ALL CHURCH VA...  ...     IC   \n",
       "\n",
       "    Status Desc Crm Cd 1 Crm Cd 2  Crm Cd 3 Crm Cd 4  \\\n",
       "0   Adult Other    624.0      NaN       NaN      NaN   \n",
       "1   Invest Cont    624.0      NaN       NaN      NaN   \n",
       "2  Adult Arrest    845.0      NaN       NaN      NaN   \n",
       "3   Invest Cont    745.0    998.0       NaN      NaN   \n",
       "4   Invest Cont    740.0      NaN       NaN      NaN   \n",
       "\n",
       "                                    Address Cross Street      LAT       LON  \n",
       "0   1100 W  39TH                         PL          NaN  34.0141 -118.2978  \n",
       "1    700 S  HILL                         ST          NaN  34.0459 -118.2545  \n",
       "2    200 E  6TH                          ST          NaN  34.0448 -118.2474  \n",
       "3   5400    CORTEEN                      PL          NaN  34.1685 -118.4019  \n",
       "4  14400    TITUS                        ST          NaN  34.2198 -118.4468  \n",
       "\n",
       "[5 rows x 28 columns]"
      ]
     },
     "execution_count": 7,
     "metadata": {},
     "output_type": "execute_result"
    }
   ],
   "source": [
    "crimeData.head()"
   ]
  },
  {
   "cell_type": "markdown",
   "id": "4bd46424",
   "metadata": {},
   "source": [
    "##### Initial observations after using the .info() and .head() methods:\n",
    "- The 'Unnamed: 0' doesn't seeme to serve a purpose as it appears to be equivalent to the index\n",
    "- Not all Object Types appear to be categorical (ie Date Reported, Date Occurred, and Time Occurred) and not all Float64 Types appear to be numercial types (ie Premise Code, Weapon Used Cd, Crm Cd 1, Crm Cd 2, Crm Cd 3, Crm Cd 4)\n",
    "- The area names may have abbreviations so this needs to be kept in min when reviewing for duplicates\n",
    "- The 'Crime Code Description' and 'MO Codes'columns may hold multiple data values/point per value\n",
    "- age and sex of victims are found within the 'Victim Age' and 'Victim Sex' columns so our target variables are present\n"
   ]
  },
  {
   "cell_type": "markdown",
   "id": "83669b64",
   "metadata": {},
   "source": [
    "### 1.5.1 Missing Values <a id='1.5.1_Missing_values'></a>"
   ]
  },
  {
   "cell_type": "code",
   "execution_count": 8,
   "id": "48dc56a3",
   "metadata": {},
   "outputs": [],
   "source": [
    "# The number of missing values per column\n",
    "\n",
    "crimeData.isna().sum()\n",
    "crimeDataMissing = pd.DataFrame(crimeData.isna().sum())\n",
    "crimeDataMissing.columns = ['Total # of missing values']"
   ]
  },
  {
   "cell_type": "code",
   "execution_count": 9,
   "id": "79d8696f",
   "metadata": {},
   "outputs": [],
   "source": [
    "# The percentage of missing values per column, sorted from highest to lowest\n",
    "\n",
    "crimeDataMissing['% of missing values'] = crimeData.isna().sum().sort_values(ascending = False)/len(crimeData.index)*100"
   ]
  },
  {
   "cell_type": "code",
   "execution_count": 10,
   "id": "040e1094",
   "metadata": {
    "scrolled": true
   },
   "outputs": [
    {
     "data": {
      "text/html": [
       "<div>\n",
       "<style scoped>\n",
       "    .dataframe tbody tr th:only-of-type {\n",
       "        vertical-align: middle;\n",
       "    }\n",
       "\n",
       "    .dataframe tbody tr th {\n",
       "        vertical-align: top;\n",
       "    }\n",
       "\n",
       "    .dataframe thead th {\n",
       "        text-align: right;\n",
       "    }\n",
       "</style>\n",
       "<table border=\"1\" class=\"dataframe\">\n",
       "  <thead>\n",
       "    <tr style=\"text-align: right;\">\n",
       "      <th></th>\n",
       "      <th>Total # of missing values</th>\n",
       "      <th>% of missing values</th>\n",
       "    </tr>\n",
       "  </thead>\n",
       "  <tbody>\n",
       "    <tr>\n",
       "      <th>Crm Cd 4</th>\n",
       "      <td>1375824</td>\n",
       "      <td>99.995857</td>\n",
       "    </tr>\n",
       "    <tr>\n",
       "      <th>Crm Cd 3</th>\n",
       "      <td>1373962</td>\n",
       "      <td>99.860526</td>\n",
       "    </tr>\n",
       "    <tr>\n",
       "      <th>Crm Cd 2</th>\n",
       "      <td>1318357</td>\n",
       "      <td>95.819115</td>\n",
       "    </tr>\n",
       "    <tr>\n",
       "      <th>Weapon Used Cd</th>\n",
       "      <td>1104689</td>\n",
       "      <td>80.289574</td>\n",
       "    </tr>\n",
       "    <tr>\n",
       "      <th>Weapon Desc</th>\n",
       "      <td>1104689</td>\n",
       "      <td>80.289574</td>\n",
       "    </tr>\n",
       "    <tr>\n",
       "      <th>Cross Street</th>\n",
       "      <td>682926</td>\n",
       "      <td>49.635543</td>\n",
       "    </tr>\n",
       "    <tr>\n",
       "      <th>Crm Cd 1</th>\n",
       "      <td>596088</td>\n",
       "      <td>43.324096</td>\n",
       "    </tr>\n",
       "    <tr>\n",
       "      <th>Status Desc</th>\n",
       "      <td>596078</td>\n",
       "      <td>43.323369</td>\n",
       "    </tr>\n",
       "    <tr>\n",
       "      <th>Status</th>\n",
       "      <td>596078</td>\n",
       "      <td>43.323369</td>\n",
       "    </tr>\n",
       "    <tr>\n",
       "      <th>MO Codes</th>\n",
       "      <td>194335</td>\n",
       "      <td>14.124405</td>\n",
       "    </tr>\n",
       "    <tr>\n",
       "      <th>Victim Descent</th>\n",
       "      <td>112884</td>\n",
       "      <td>8.204489</td>\n",
       "    </tr>\n",
       "    <tr>\n",
       "      <th>Victim Sex</th>\n",
       "      <td>111941</td>\n",
       "      <td>8.135951</td>\n",
       "    </tr>\n",
       "    <tr>\n",
       "      <th>Victim Age</th>\n",
       "      <td>85530</td>\n",
       "      <td>6.216381</td>\n",
       "    </tr>\n",
       "    <tr>\n",
       "      <th>Premise Description</th>\n",
       "      <td>1421</td>\n",
       "      <td>0.103279</td>\n",
       "    </tr>\n",
       "    <tr>\n",
       "      <th>Premise Code</th>\n",
       "      <td>968</td>\n",
       "      <td>0.070355</td>\n",
       "    </tr>\n",
       "    <tr>\n",
       "      <th>Address</th>\n",
       "      <td>0</td>\n",
       "      <td>0.000000</td>\n",
       "    </tr>\n",
       "    <tr>\n",
       "      <th>LAT</th>\n",
       "      <td>0</td>\n",
       "      <td>0.000000</td>\n",
       "    </tr>\n",
       "    <tr>\n",
       "      <th>Unnamed: 0</th>\n",
       "      <td>0</td>\n",
       "      <td>0.000000</td>\n",
       "    </tr>\n",
       "    <tr>\n",
       "      <th>DR Number</th>\n",
       "      <td>0</td>\n",
       "      <td>0.000000</td>\n",
       "    </tr>\n",
       "    <tr>\n",
       "      <th>Crime Code Description</th>\n",
       "      <td>0</td>\n",
       "      <td>0.000000</td>\n",
       "    </tr>\n",
       "    <tr>\n",
       "      <th>Crime Code</th>\n",
       "      <td>0</td>\n",
       "      <td>0.000000</td>\n",
       "    </tr>\n",
       "    <tr>\n",
       "      <th>Reporting District</th>\n",
       "      <td>0</td>\n",
       "      <td>0.000000</td>\n",
       "    </tr>\n",
       "    <tr>\n",
       "      <th>Area Name</th>\n",
       "      <td>0</td>\n",
       "      <td>0.000000</td>\n",
       "    </tr>\n",
       "    <tr>\n",
       "      <th>Area ID</th>\n",
       "      <td>0</td>\n",
       "      <td>0.000000</td>\n",
       "    </tr>\n",
       "    <tr>\n",
       "      <th>Time Occurred</th>\n",
       "      <td>0</td>\n",
       "      <td>0.000000</td>\n",
       "    </tr>\n",
       "    <tr>\n",
       "      <th>Date Occurred</th>\n",
       "      <td>0</td>\n",
       "      <td>0.000000</td>\n",
       "    </tr>\n",
       "    <tr>\n",
       "      <th>Date Reported</th>\n",
       "      <td>0</td>\n",
       "      <td>0.000000</td>\n",
       "    </tr>\n",
       "    <tr>\n",
       "      <th>LON</th>\n",
       "      <td>0</td>\n",
       "      <td>0.000000</td>\n",
       "    </tr>\n",
       "  </tbody>\n",
       "</table>\n",
       "</div>"
      ],
      "text/plain": [
       "                        Total # of missing values  % of missing values\n",
       "Crm Cd 4                                  1375824            99.995857\n",
       "Crm Cd 3                                  1373962            99.860526\n",
       "Crm Cd 2                                  1318357            95.819115\n",
       "Weapon Used Cd                            1104689            80.289574\n",
       "Weapon Desc                               1104689            80.289574\n",
       "Cross Street                               682926            49.635543\n",
       "Crm Cd 1                                   596088            43.324096\n",
       "Status Desc                                596078            43.323369\n",
       "Status                                     596078            43.323369\n",
       "MO Codes                                   194335            14.124405\n",
       "Victim Descent                             112884             8.204489\n",
       "Victim Sex                                 111941             8.135951\n",
       "Victim Age                                  85530             6.216381\n",
       "Premise Description                          1421             0.103279\n",
       "Premise Code                                  968             0.070355\n",
       "Address                                         0             0.000000\n",
       "LAT                                             0             0.000000\n",
       "Unnamed: 0                                      0             0.000000\n",
       "DR Number                                       0             0.000000\n",
       "Crime Code Description                          0             0.000000\n",
       "Crime Code                                      0             0.000000\n",
       "Reporting District                              0             0.000000\n",
       "Area Name                                       0             0.000000\n",
       "Area ID                                         0             0.000000\n",
       "Time Occurred                                   0             0.000000\n",
       "Date Occurred                                   0             0.000000\n",
       "Date Reported                                   0             0.000000\n",
       "LON                                             0             0.000000"
      ]
     },
     "execution_count": 10,
     "metadata": {},
     "output_type": "execute_result"
    }
   ],
   "source": [
    "# Number of missing values and percentages by column, sorted from highest to lowest\n",
    "\n",
    "crimeDataMissing.sort_values(by = \"Total # of missing values\", ascending = False)"
   ]
  },
  {
   "cell_type": "markdown",
   "id": "d1d9cf2c",
   "metadata": {},
   "source": [
    "##### Some notes on missing data\n",
    "\n",
    "- 99% of 'Crm Cd 4' and 'Crm Cd 3'are missing and 95% of 'Crm Cd 2' is missing - If there is no value in keeping these columns to reflect the missing data, then these will be dropped before moving on past data wrangling. The same approach will be taken with 'Weapon Used Cd' and 'Weapon Desc' since ~80% of these columns are missing. \n",
    "\n",
    "- 49% of 'Cross Street' values are missing but this will not matter since all LAT and LON values are present and will provide a much easier path to evaluating areas. 43% of each 'Crm Cd', 'Status Desc', and 'Status' columns is missing which is a substantial amount of missing data, which can have implications for analysis and processes so this will be kept in mind and the columns may need to be dropped.  \n",
    "\n"
   ]
  },
  {
   "cell_type": "code",
   "execution_count": 11,
   "id": "40b1e2ae",
   "metadata": {},
   "outputs": [
    {
     "data": {
      "text/plain": [
       "array([ 36.,  25.,   0.,  76.,  31.,  23.,  29.,  35.,  41.,  24.,  34.,\n",
       "        46.,  66.,  40.,  27.,  62.,  43.,  71.,  50.,  19.,  51.,  33.,\n",
       "        69.,  39.,  57.,  78.,  52.,  38.,  55.,  44.,  18.,  54.,  22.,\n",
       "        28.,  42.,  56.,  67.,  37.,  60.,  61.,  59.,  32.,  30.,  45.,\n",
       "        20.,  15.,  58.,  47.,  48.,  26.,  21.,  64.,  75.,  12.,  49.,\n",
       "        68.,  14.,  13.,  10.,  53.,  74.,  17.,  65.,  63.,   8.,  16.,\n",
       "        72.,  70.,   9.,  90.,  85.,  81.,  79.,  94.,  73.,  11.,  80.,\n",
       "         5.,  82.,   2.,  77.,  84.,  88.,  96.,  99.,   7.,  86.,  92.,\n",
       "         3.,  83.,  87.,   6.,  -1.,  89.,   4.,  93.,  98.,  91.,  95.,\n",
       "        97., 120.,  -2.,  -3.])"
      ]
     },
     "execution_count": 11,
     "metadata": {},
     "output_type": "execute_result"
    }
   ],
   "source": [
    "# The focus is on Victim Age and Sex so let's take a quick closer look at those columns\n",
    "\n",
    "crimeData[crimeData['Victim Age'].notna()]['Victim Age'].unique()"
   ]
  },
  {
   "cell_type": "code",
   "execution_count": 12,
   "id": "860e7893",
   "metadata": {
    "scrolled": true
   },
   "outputs": [
    {
     "data": {
      "text/plain": [
       "array(['F', 'M', 'X', 'H', '-', 'N'], dtype=object)"
      ]
     },
     "execution_count": 12,
     "metadata": {},
     "output_type": "execute_result"
    }
   ],
   "source": [
    "crimeData[crimeData['Victim Sex'].notna()]['Victim Sex'].unique()"
   ]
  },
  {
   "cell_type": "markdown",
   "id": "863573e5",
   "metadata": {},
   "source": [
    "- It looks like there may be more missing values than originally shown ussing the method .isna() above. \n",
    "For 'Victim Age', it looks like there are error values (ie less than '0') and, for 'Victim Sex', there are values that do not represent Male or Female (ie 'X', 'H','-', and 'N') This will be explored next along with duplicate values (if any)"
   ]
  },
  {
   "cell_type": "markdown",
   "id": "62ddb232",
   "metadata": {},
   "source": [
    "### 1.5.2 Duplicate Values <a id='1.5.2_Duplicate_values'></a>"
   ]
  },
  {
   "cell_type": "code",
   "execution_count": 13,
   "id": "63485391",
   "metadata": {},
   "outputs": [
    {
     "data": {
      "text/plain": [
       "0"
      ]
     },
     "execution_count": 13,
     "metadata": {},
     "output_type": "execute_result"
    }
   ],
   "source": [
    "# Brief look at potential duplicate obeservations\n",
    "# Using .duplicated() and .sum() to find all duplicates, mark them as True, and sum the amount of True's \n",
    "\n",
    "crimeData.duplicated(keep=False).sum()"
   ]
  },
  {
   "cell_type": "markdown",
   "id": "20eb3e1d",
   "metadata": {},
   "source": [
    "- Comparing full rows brings up no duplicates so let's take a look at some of the individual variables and combination of variables to ensure there are no duplicate values. "
   ]
  },
  {
   "cell_type": "code",
   "execution_count": 14,
   "id": "a2009f2b",
   "metadata": {},
   "outputs": [],
   "source": [
    "# Each reported incident should have a unique Division of Record Number within'DR Number'\n",
    "\n",
    "# Subsetting the crime data to show all duplicate values based on 'DR Number' and then sorting by 'DR Number'\n",
    "# brings up the following\n",
    "\n",
    "crimeDataDuplicates = crimeData[crimeData.duplicated(subset=['DR Number'],keep=False)].sort_values(by = \"DR Number\")"
   ]
  },
  {
   "cell_type": "code",
   "execution_count": 15,
   "id": "46f196e9",
   "metadata": {},
   "outputs": [
    {
     "name": "stdout",
     "output_type": "stream",
     "text": [
      "# of Duplicates based on 'Date Occurred', 'Time Occurred', 'Address', 'Cross Street', 'LAT' and 'LON' columns:  2\n",
      "# of Duplicates based on 'LAT' and 'LON' columns:  51\n",
      "# of Duplicates based on 'Address' and 'Cross Street' columns:  54\n",
      "# of Duplicates based on 'Date Occurred' column:  21\n",
      "# of Duplicates based on 'Time Occurred' column:  101\n"
     ]
    }
   ],
   "source": [
    "# Lets see if these reported incidents occured on the same date, time and place\n",
    "\n",
    "print(\"# of Duplicates based on 'Date Occurred', 'Time Occurred', 'Address', 'Cross Street', 'LAT' and 'LON' columns: \", \\\n",
    "crimeDataDuplicates.loc[:,['Date Occurred','Time Occurred','Address','Cross Street','LAT','LON']].duplicated().sum())\n",
    "\n",
    "# Lets look at specific columns since the above only flagged one duplicate\n",
    "\n",
    "print(\"# of Duplicates based on 'LAT' and 'LON' columns: \", \\\n",
    "    crimeDataDuplicates.loc[:,['LAT','LON']].duplicated().sum())\n",
    "\n",
    "print(\"# of Duplicates based on 'Address' and 'Cross Street' columns: \", \\\n",
    "crimeDataDuplicates.loc[:,['Address','Cross Street']].duplicated().sum())\n",
    "\n",
    "print(\"# of Duplicates based on 'Date Occurred' column: \", \\\n",
    "crimeDataDuplicates.loc[:,['Date Occurred']].duplicated().sum())\n",
    "\n",
    "print(\"# of Duplicates based on 'Time Occurred' column: \", \\\n",
    "crimeDataDuplicates.loc[:,['Time Occurred']].duplicated().sum())"
   ]
  },
  {
   "cell_type": "code",
   "execution_count": 16,
   "id": "ad687360",
   "metadata": {
    "scrolled": true
   },
   "outputs": [],
   "source": [
    "# It looks like the 'Date Occurred' columns will create more unique values than available due to the different formatting\n",
    "# For example, '01/22/2020' is not equivalent to '01/22/2020' 12:00:00 AM' so let's format to get a better result\n",
    "\n",
    "crimeDataDuplicates['Date Occurred'] = crimeDataDuplicates['Date Occurred'].apply(lambda x: x[0:10])"
   ]
  },
  {
   "cell_type": "code",
   "execution_count": 17,
   "id": "ef1fc0ea",
   "metadata": {},
   "outputs": [
    {
     "name": "stdout",
     "output_type": "stream",
     "text": [
      "# of Duplicates based on 'Date Occurred' column:  91\n"
     ]
    }
   ],
   "source": [
    "# After formatting the 'Date Occurred' column, more duplicates are found\n",
    "\n",
    "print(\"# of Duplicates based on 'Date Occurred' column: \", \\\n",
    "crimeDataDuplicates.loc[:,['Date Occurred']].duplicated().sum())\n"
   ]
  },
  {
   "cell_type": "code",
   "execution_count": 18,
   "id": "35197a8f",
   "metadata": {
    "scrolled": true
   },
   "outputs": [
    {
     "data": {
      "text/plain": [
       "Unnamed: 0                101\n",
       "DR Number                 101\n",
       "Date Reported             101\n",
       "Date Occurred             101\n",
       "Time Occurred             101\n",
       "Area ID                   101\n",
       "Area Name                 101\n",
       "Reporting District        101\n",
       "Crime Code                101\n",
       "Crime Code Description    101\n",
       "MO Codes                   93\n",
       "Victim Age                 74\n",
       "Victim Sex                 97\n",
       "Victim Descent             97\n",
       "Premise Code              101\n",
       "Premise Description       101\n",
       "Weapon Used Cd              0\n",
       "Weapon Desc                 0\n",
       "Status                      0\n",
       "Status Desc                 0\n",
       "Crm Cd 1                    0\n",
       "Crm Cd 2                    0\n",
       "Crm Cd 3                    0\n",
       "Crm Cd 4                    0\n",
       "Address                   101\n",
       "Cross Street               81\n",
       "LAT                       101\n",
       "LON                       101\n",
       "dtype: int64"
      ]
     },
     "execution_count": 18,
     "metadata": {},
     "output_type": "execute_result"
    }
   ],
   "source": [
    "# A quick look at crimeDataDuplicates using the .head() method created a suspicion that the duplicates were coming \n",
    "# from Traffic Collision rows and it is further supported by the count below - showing 101 rows for records with\n",
    "# 'TRAFFIC COLLISION' for the 'Crime Code Description' which is half of the 202 duplicates flagged above\n",
    "\n",
    "crimeDataDuplicates[crimeDataDuplicates['Crime Code Description']=='TRAFFIC COLLISION'].count()"
   ]
  },
  {
   "cell_type": "code",
   "execution_count": 19,
   "id": "a1ecfc14",
   "metadata": {
    "scrolled": true
   },
   "outputs": [],
   "source": [
    "# Let's decide if we should drop or keep the 'TRAFFIC COLLISION' rows by seeing whether \n",
    "# these rows have more information\n",
    "\n",
    "# missingDataTrafficRelated will have total missing values per column for 'TRAFFIC COLLISION' related data\n",
    "# missingDataNonTrafficRelated will have total missing values per column for Non -'TRAFFIC COLLISION' related data\n",
    "\n",
    "missingDataTrafficRelatedDups = crimeDataDuplicates[crimeDataDuplicates['Crime Code Description']=='TRAFFIC COLLISION']\n",
    "missingDataNonTrafficRelatedDups = crimeDataDuplicates[~(crimeDataDuplicates['Crime Code Description']=='TRAFFIC COLLISION')]\n"
   ]
  },
  {
   "cell_type": "code",
   "execution_count": 20,
   "id": "d1586832",
   "metadata": {
    "scrolled": true
   },
   "outputs": [
    {
     "data": {
      "text/plain": [
       "Cross Street               True\n",
       "MO Codes                   True\n",
       "Victim Sex                 True\n",
       "Victim Descent             True\n",
       "Unnamed: 0                False\n",
       "Weapon Used Cd            False\n",
       "LAT                       False\n",
       "Address                   False\n",
       "Crm Cd 4                  False\n",
       "Crm Cd 3                  False\n",
       "Crm Cd 2                  False\n",
       "Crm Cd 1                  False\n",
       "Status Desc               False\n",
       "Status                    False\n",
       "Weapon Desc               False\n",
       "Premise Code              False\n",
       "Premise Description       False\n",
       "DR Number                 False\n",
       "Victim Age                False\n",
       "Crime Code Description    False\n",
       "Crime Code                False\n",
       "Reporting District        False\n",
       "Area Name                 False\n",
       "Area ID                   False\n",
       "Time Occurred             False\n",
       "Date Occurred             False\n",
       "Date Reported             False\n",
       "LON                       False\n",
       "dtype: bool"
      ]
     },
     "execution_count": 20,
     "metadata": {},
     "output_type": "execute_result"
    }
   ],
   "source": [
    "# Comparison of variables created in previous cell\n",
    "# Boolean expression below will show where TRAFFIC COLLISION' related data has more information\n",
    "\n",
    "(missingDataTrafficRelatedDups.isna().sum() < missingDataNonTrafficRelatedDups.isna().sum())\\\n",
    ".sort_values(ascending=False)"
   ]
  },
  {
   "cell_type": "markdown",
   "id": "ee5bce36",
   "metadata": {},
   "source": [
    "- It looks like there are columns where the Traffic Collision records have more information but the majority of information lies within the non-traffic records (ie 'Crime Code Description' not equal to 'TRAFFIC COLLISION') so these rows have meaningful information\n",
    "- Since there are only 101 duplicates within a dataset with over 1.3M obdervations and all the duplicates have relevant values, the duplicates don't need to be dropped "
   ]
  },
  {
   "cell_type": "markdown",
   "id": "5cb0113e",
   "metadata": {},
   "source": [
    "## 1.6 A Look Into Categorical Features <a id='1.6_Categorical_Features'></a>"
   ]
  },
  {
   "cell_type": "code",
   "execution_count": 21,
   "id": "6feb8f1d",
   "metadata": {
    "scrolled": true
   },
   "outputs": [
    {
     "data": {
      "text/html": [
       "<div>\n",
       "<style scoped>\n",
       "    .dataframe tbody tr th:only-of-type {\n",
       "        vertical-align: middle;\n",
       "    }\n",
       "\n",
       "    .dataframe tbody tr th {\n",
       "        vertical-align: top;\n",
       "    }\n",
       "\n",
       "    .dataframe thead th {\n",
       "        text-align: right;\n",
       "    }\n",
       "</style>\n",
       "<table border=\"1\" class=\"dataframe\">\n",
       "  <thead>\n",
       "    <tr style=\"text-align: right;\">\n",
       "      <th></th>\n",
       "      <th>Date Reported</th>\n",
       "      <th>Date Occurred</th>\n",
       "      <th>Area Name</th>\n",
       "      <th>Crime Code Description</th>\n",
       "      <th>MO Codes</th>\n",
       "      <th>Victim Sex</th>\n",
       "      <th>Victim Descent</th>\n",
       "      <th>Premise Description</th>\n",
       "      <th>Weapon Desc</th>\n",
       "      <th>Status</th>\n",
       "      <th>Status Desc</th>\n",
       "      <th>Address</th>\n",
       "      <th>Cross Street</th>\n",
       "    </tr>\n",
       "  </thead>\n",
       "  <tbody>\n",
       "    <tr>\n",
       "      <th>0</th>\n",
       "      <td>01/08/2020 12:00:00 AM</td>\n",
       "      <td>01/08/2020 12:00:00 AM</td>\n",
       "      <td>Southwest</td>\n",
       "      <td>BATTERY - SIMPLE ASSAULT</td>\n",
       "      <td>0444 0913</td>\n",
       "      <td>F</td>\n",
       "      <td>B</td>\n",
       "      <td>SINGLE FAMILY DWELLING</td>\n",
       "      <td>STRONG-ARM (HANDS, FIST, FEET OR BODILY FORCE)</td>\n",
       "      <td>AO</td>\n",
       "      <td>Adult Other</td>\n",
       "      <td>1100 W  39TH                         PL</td>\n",
       "      <td>NaN</td>\n",
       "    </tr>\n",
       "    <tr>\n",
       "      <th>1</th>\n",
       "      <td>01/02/2020 12:00:00 AM</td>\n",
       "      <td>01/01/2020 12:00:00 AM</td>\n",
       "      <td>Central</td>\n",
       "      <td>BATTERY - SIMPLE ASSAULT</td>\n",
       "      <td>0416 1822 1414</td>\n",
       "      <td>M</td>\n",
       "      <td>H</td>\n",
       "      <td>SIDEWALK</td>\n",
       "      <td>UNKNOWN WEAPON/OTHER WEAPON</td>\n",
       "      <td>IC</td>\n",
       "      <td>Invest Cont</td>\n",
       "      <td>700 S  HILL                         ST</td>\n",
       "      <td>NaN</td>\n",
       "    </tr>\n",
       "    <tr>\n",
       "      <th>2</th>\n",
       "      <td>04/14/2020 12:00:00 AM</td>\n",
       "      <td>02/13/2020 12:00:00 AM</td>\n",
       "      <td>Central</td>\n",
       "      <td>SEX OFFENDER REGISTRANT OUT OF COMPLIANCE</td>\n",
       "      <td>1501</td>\n",
       "      <td>X</td>\n",
       "      <td>X</td>\n",
       "      <td>POLICE FACILITY</td>\n",
       "      <td>NaN</td>\n",
       "      <td>AA</td>\n",
       "      <td>Adult Arrest</td>\n",
       "      <td>200 E  6TH                          ST</td>\n",
       "      <td>NaN</td>\n",
       "    </tr>\n",
       "    <tr>\n",
       "      <th>3</th>\n",
       "      <td>01/01/2020 12:00:00 AM</td>\n",
       "      <td>01/01/2020 12:00:00 AM</td>\n",
       "      <td>N Hollywood</td>\n",
       "      <td>VANDALISM - MISDEAMEANOR ($399 OR UNDER)</td>\n",
       "      <td>0329 1402</td>\n",
       "      <td>F</td>\n",
       "      <td>W</td>\n",
       "      <td>MULTI-UNIT DWELLING (APARTMENT, DUPLEX, ETC)</td>\n",
       "      <td>NaN</td>\n",
       "      <td>IC</td>\n",
       "      <td>Invest Cont</td>\n",
       "      <td>5400    CORTEEN                      PL</td>\n",
       "      <td>NaN</td>\n",
       "    </tr>\n",
       "    <tr>\n",
       "      <th>4</th>\n",
       "      <td>01/01/2020 12:00:00 AM</td>\n",
       "      <td>01/01/2020 12:00:00 AM</td>\n",
       "      <td>Mission</td>\n",
       "      <td>VANDALISM - FELONY ($400 &amp; OVER, ALL CHURCH VA...</td>\n",
       "      <td>0329</td>\n",
       "      <td>X</td>\n",
       "      <td>X</td>\n",
       "      <td>BEAUTY SUPPLY STORE</td>\n",
       "      <td>NaN</td>\n",
       "      <td>IC</td>\n",
       "      <td>Invest Cont</td>\n",
       "      <td>14400    TITUS                        ST</td>\n",
       "      <td>NaN</td>\n",
       "    </tr>\n",
       "    <tr>\n",
       "      <th>...</th>\n",
       "      <td>...</td>\n",
       "      <td>...</td>\n",
       "      <td>...</td>\n",
       "      <td>...</td>\n",
       "      <td>...</td>\n",
       "      <td>...</td>\n",
       "      <td>...</td>\n",
       "      <td>...</td>\n",
       "      <td>...</td>\n",
       "      <td>...</td>\n",
       "      <td>...</td>\n",
       "      <td>...</td>\n",
       "      <td>...</td>\n",
       "    </tr>\n",
       "    <tr>\n",
       "      <th>1375876</th>\n",
       "      <td>08/07/2023</td>\n",
       "      <td>08/07/2023</td>\n",
       "      <td>Topanga</td>\n",
       "      <td>TRAFFIC COLLISION</td>\n",
       "      <td>3006 3028 4026 3033 3034 3037</td>\n",
       "      <td>M</td>\n",
       "      <td>W</td>\n",
       "      <td>STREET</td>\n",
       "      <td>NaN</td>\n",
       "      <td>NaN</td>\n",
       "      <td>NaN</td>\n",
       "      <td>DEERING                      AV</td>\n",
       "      <td>SATICOY                      ST</td>\n",
       "    </tr>\n",
       "    <tr>\n",
       "      <th>1375877</th>\n",
       "      <td>08/08/2023</td>\n",
       "      <td>08/03/2023</td>\n",
       "      <td>West LA</td>\n",
       "      <td>TRAFFIC COLLISION</td>\n",
       "      <td>3003 3026 3029 3035 3036 3101 3401 3701 4008</td>\n",
       "      <td>M</td>\n",
       "      <td>H</td>\n",
       "      <td>STREET</td>\n",
       "      <td>NaN</td>\n",
       "      <td>NaN</td>\n",
       "      <td>NaN</td>\n",
       "      <td>LA CIENEGA                   BL</td>\n",
       "      <td>GUTHRIE                      AV</td>\n",
       "    </tr>\n",
       "    <tr>\n",
       "      <th>1375878</th>\n",
       "      <td>08/06/2023</td>\n",
       "      <td>08/06/2023</td>\n",
       "      <td>N Hollywood</td>\n",
       "      <td>TRAFFIC COLLISION</td>\n",
       "      <td>3004 3026 4015 3029 3036 3101</td>\n",
       "      <td>F</td>\n",
       "      <td>O</td>\n",
       "      <td>STREET</td>\n",
       "      <td>NaN</td>\n",
       "      <td>NaN</td>\n",
       "      <td>NaN</td>\n",
       "      <td>VANOWEN                      ST</td>\n",
       "      <td>FULTON                       AV</td>\n",
       "    </tr>\n",
       "    <tr>\n",
       "      <th>1375879</th>\n",
       "      <td>08/08/2023</td>\n",
       "      <td>08/08/2023</td>\n",
       "      <td>N Hollywood</td>\n",
       "      <td>TRAFFIC COLLISION</td>\n",
       "      <td>NaN</td>\n",
       "      <td>M</td>\n",
       "      <td>H</td>\n",
       "      <td>STREET</td>\n",
       "      <td>NaN</td>\n",
       "      <td>NaN</td>\n",
       "      <td>NaN</td>\n",
       "      <td>FARMDALE                     AV</td>\n",
       "      <td>OXNARD                       ST</td>\n",
       "    </tr>\n",
       "    <tr>\n",
       "      <th>1375880</th>\n",
       "      <td>08/06/2023</td>\n",
       "      <td>08/06/2023</td>\n",
       "      <td>Foothill</td>\n",
       "      <td>TRAFFIC COLLISION</td>\n",
       "      <td>3004 3028 4026 3034 3037 3101</td>\n",
       "      <td>M</td>\n",
       "      <td>H</td>\n",
       "      <td>STREET</td>\n",
       "      <td>NaN</td>\n",
       "      <td>NaN</td>\n",
       "      <td>NaN</td>\n",
       "      <td>TUJUNGA CANYON               BL</td>\n",
       "      <td>LA TUNA CANYON               RD</td>\n",
       "    </tr>\n",
       "  </tbody>\n",
       "</table>\n",
       "<p>1375881 rows × 13 columns</p>\n",
       "</div>"
      ],
      "text/plain": [
       "                  Date Reported           Date Occurred    Area Name  \\\n",
       "0        01/08/2020 12:00:00 AM  01/08/2020 12:00:00 AM    Southwest   \n",
       "1        01/02/2020 12:00:00 AM  01/01/2020 12:00:00 AM      Central   \n",
       "2        04/14/2020 12:00:00 AM  02/13/2020 12:00:00 AM      Central   \n",
       "3        01/01/2020 12:00:00 AM  01/01/2020 12:00:00 AM  N Hollywood   \n",
       "4        01/01/2020 12:00:00 AM  01/01/2020 12:00:00 AM      Mission   \n",
       "...                         ...                     ...          ...   \n",
       "1375876              08/07/2023              08/07/2023      Topanga   \n",
       "1375877              08/08/2023              08/03/2023      West LA   \n",
       "1375878              08/06/2023              08/06/2023  N Hollywood   \n",
       "1375879              08/08/2023              08/08/2023  N Hollywood   \n",
       "1375880              08/06/2023              08/06/2023     Foothill   \n",
       "\n",
       "                                    Crime Code Description  \\\n",
       "0                                 BATTERY - SIMPLE ASSAULT   \n",
       "1                                 BATTERY - SIMPLE ASSAULT   \n",
       "2                SEX OFFENDER REGISTRANT OUT OF COMPLIANCE   \n",
       "3                 VANDALISM - MISDEAMEANOR ($399 OR UNDER)   \n",
       "4        VANDALISM - FELONY ($400 & OVER, ALL CHURCH VA...   \n",
       "...                                                    ...   \n",
       "1375876                                  TRAFFIC COLLISION   \n",
       "1375877                                  TRAFFIC COLLISION   \n",
       "1375878                                  TRAFFIC COLLISION   \n",
       "1375879                                  TRAFFIC COLLISION   \n",
       "1375880                                  TRAFFIC COLLISION   \n",
       "\n",
       "                                             MO Codes Victim Sex  \\\n",
       "0                                           0444 0913          F   \n",
       "1                                      0416 1822 1414          M   \n",
       "2                                                1501          X   \n",
       "3                                           0329 1402          F   \n",
       "4                                                0329          X   \n",
       "...                                               ...        ...   \n",
       "1375876                 3006 3028 4026 3033 3034 3037          M   \n",
       "1375877  3003 3026 3029 3035 3036 3101 3401 3701 4008          M   \n",
       "1375878                 3004 3026 4015 3029 3036 3101          F   \n",
       "1375879                                           NaN          M   \n",
       "1375880                 3004 3028 4026 3034 3037 3101          M   \n",
       "\n",
       "        Victim Descent                           Premise Description  \\\n",
       "0                    B                        SINGLE FAMILY DWELLING   \n",
       "1                    H                                      SIDEWALK   \n",
       "2                    X                               POLICE FACILITY   \n",
       "3                    W  MULTI-UNIT DWELLING (APARTMENT, DUPLEX, ETC)   \n",
       "4                    X                           BEAUTY SUPPLY STORE   \n",
       "...                ...                                           ...   \n",
       "1375876              W                                        STREET   \n",
       "1375877              H                                        STREET   \n",
       "1375878              O                                        STREET   \n",
       "1375879              H                                        STREET   \n",
       "1375880              H                                        STREET   \n",
       "\n",
       "                                            Weapon Desc Status   Status Desc  \\\n",
       "0        STRONG-ARM (HANDS, FIST, FEET OR BODILY FORCE)     AO   Adult Other   \n",
       "1                           UNKNOWN WEAPON/OTHER WEAPON     IC   Invest Cont   \n",
       "2                                                   NaN     AA  Adult Arrest   \n",
       "3                                                   NaN     IC   Invest Cont   \n",
       "4                                                   NaN     IC   Invest Cont   \n",
       "...                                                 ...    ...           ...   \n",
       "1375876                                             NaN    NaN           NaN   \n",
       "1375877                                             NaN    NaN           NaN   \n",
       "1375878                                             NaN    NaN           NaN   \n",
       "1375879                                             NaN    NaN           NaN   \n",
       "1375880                                             NaN    NaN           NaN   \n",
       "\n",
       "                                          Address  \\\n",
       "0         1100 W  39TH                         PL   \n",
       "1          700 S  HILL                         ST   \n",
       "2          200 E  6TH                          ST   \n",
       "3         5400    CORTEEN                      PL   \n",
       "4        14400    TITUS                        ST   \n",
       "...                                           ...   \n",
       "1375876           DEERING                      AV   \n",
       "1375877           LA CIENEGA                   BL   \n",
       "1375878           VANOWEN                      ST   \n",
       "1375879           FARMDALE                     AV   \n",
       "1375880           TUJUNGA CANYON               BL   \n",
       "\n",
       "                            Cross Street  \n",
       "0                                    NaN  \n",
       "1                                    NaN  \n",
       "2                                    NaN  \n",
       "3                                    NaN  \n",
       "4                                    NaN  \n",
       "...                                  ...  \n",
       "1375876  SATICOY                      ST  \n",
       "1375877  GUTHRIE                      AV  \n",
       "1375878  FULTON                       AV  \n",
       "1375879  OXNARD                       ST  \n",
       "1375880  LA TUNA CANYON               RD  \n",
       "\n",
       "[1375881 rows x 13 columns]"
      ]
     },
     "execution_count": 21,
     "metadata": {},
     "output_type": "execute_result"
    }
   ],
   "source": [
    "crimeData.select_dtypes('object')"
   ]
  },
  {
   "cell_type": "markdown",
   "id": "a2816926",
   "metadata": {},
   "source": [
    "The following observations can be made reviewing the cell above: \n",
    "- 'Date Reported' and 'Date Occured' may need to be converted to datetime\n",
    "- 'Area Name' will need to be reviewed for any abbreviations, misspelled words, and any other string errors\n",
    "- 'Victim Sex' will need to be evaluated since there other values other than 'F' and 'M'\n",
    "- Does 'Status' always match with 'Status Desc'"
   ]
  },
  {
   "cell_type": "code",
   "execution_count": 22,
   "id": "b4e031af",
   "metadata": {},
   "outputs": [
    {
     "data": {
      "text/plain": [
       "(dtype('O'), dtype('O'))"
      ]
     },
     "execution_count": 22,
     "metadata": {},
     "output_type": "execute_result"
    }
   ],
   "source": [
    "# To see whether Date Reported and Date Occurred need to be converted, lets check the type\n",
    "crimeData['Date Reported'].dtypes, crimeData['Date Occurred'].dtypes"
   ]
  },
  {
   "cell_type": "code",
   "execution_count": 23,
   "id": "826789e2",
   "metadata": {},
   "outputs": [],
   "source": [
    "# Before changing the dataset, a copy is made to keep the original dataset within crimeData\n",
    "crimeDataAdj = crimeData\n",
    "\n",
    "# Converting columns to datetime\n",
    "crimeDataAdj['Date Reported'] = pd.to_datetime(crimeDataAdj['Date Reported'])\n",
    "crimeDataAdj['Date Occurred'] = pd.to_datetime(crimeDataAdj['Date Occurred'])"
   ]
  },
  {
   "cell_type": "code",
   "execution_count": 24,
   "id": "53c77222",
   "metadata": {
    "scrolled": true
   },
   "outputs": [
    {
     "data": {
      "text/html": [
       "<div>\n",
       "<style scoped>\n",
       "    .dataframe tbody tr th:only-of-type {\n",
       "        vertical-align: middle;\n",
       "    }\n",
       "\n",
       "    .dataframe tbody tr th {\n",
       "        vertical-align: top;\n",
       "    }\n",
       "\n",
       "    .dataframe thead th {\n",
       "        text-align: right;\n",
       "    }\n",
       "</style>\n",
       "<table border=\"1\" class=\"dataframe\">\n",
       "  <thead>\n",
       "    <tr style=\"text-align: right;\">\n",
       "      <th></th>\n",
       "      <th>Area Name</th>\n",
       "      <th>Crime Code Description</th>\n",
       "      <th>MO Codes</th>\n",
       "      <th>Victim Sex</th>\n",
       "      <th>Victim Descent</th>\n",
       "      <th>Premise Description</th>\n",
       "      <th>Weapon Desc</th>\n",
       "      <th>Status</th>\n",
       "      <th>Status Desc</th>\n",
       "      <th>Address</th>\n",
       "      <th>Cross Street</th>\n",
       "    </tr>\n",
       "  </thead>\n",
       "  <tbody>\n",
       "    <tr>\n",
       "      <th>0</th>\n",
       "      <td>Southwest</td>\n",
       "      <td>BATTERY - SIMPLE ASSAULT</td>\n",
       "      <td>0444 0913</td>\n",
       "      <td>F</td>\n",
       "      <td>B</td>\n",
       "      <td>SINGLE FAMILY DWELLING</td>\n",
       "      <td>STRONG-ARM (HANDS, FIST, FEET OR BODILY FORCE)</td>\n",
       "      <td>AO</td>\n",
       "      <td>Adult Other</td>\n",
       "      <td>1100 W  39TH                         PL</td>\n",
       "      <td>NaN</td>\n",
       "    </tr>\n",
       "    <tr>\n",
       "      <th>1</th>\n",
       "      <td>Central</td>\n",
       "      <td>BATTERY - SIMPLE ASSAULT</td>\n",
       "      <td>0416 1822 1414</td>\n",
       "      <td>M</td>\n",
       "      <td>H</td>\n",
       "      <td>SIDEWALK</td>\n",
       "      <td>UNKNOWN WEAPON/OTHER WEAPON</td>\n",
       "      <td>IC</td>\n",
       "      <td>Invest Cont</td>\n",
       "      <td>700 S  HILL                         ST</td>\n",
       "      <td>NaN</td>\n",
       "    </tr>\n",
       "    <tr>\n",
       "      <th>2</th>\n",
       "      <td>Central</td>\n",
       "      <td>SEX OFFENDER REGISTRANT OUT OF COMPLIANCE</td>\n",
       "      <td>1501</td>\n",
       "      <td>X</td>\n",
       "      <td>X</td>\n",
       "      <td>POLICE FACILITY</td>\n",
       "      <td>NaN</td>\n",
       "      <td>AA</td>\n",
       "      <td>Adult Arrest</td>\n",
       "      <td>200 E  6TH                          ST</td>\n",
       "      <td>NaN</td>\n",
       "    </tr>\n",
       "    <tr>\n",
       "      <th>3</th>\n",
       "      <td>N Hollywood</td>\n",
       "      <td>VANDALISM - MISDEAMEANOR ($399 OR UNDER)</td>\n",
       "      <td>0329 1402</td>\n",
       "      <td>F</td>\n",
       "      <td>W</td>\n",
       "      <td>MULTI-UNIT DWELLING (APARTMENT, DUPLEX, ETC)</td>\n",
       "      <td>NaN</td>\n",
       "      <td>IC</td>\n",
       "      <td>Invest Cont</td>\n",
       "      <td>5400    CORTEEN                      PL</td>\n",
       "      <td>NaN</td>\n",
       "    </tr>\n",
       "    <tr>\n",
       "      <th>4</th>\n",
       "      <td>Mission</td>\n",
       "      <td>VANDALISM - FELONY ($400 &amp; OVER, ALL CHURCH VA...</td>\n",
       "      <td>0329</td>\n",
       "      <td>X</td>\n",
       "      <td>X</td>\n",
       "      <td>BEAUTY SUPPLY STORE</td>\n",
       "      <td>NaN</td>\n",
       "      <td>IC</td>\n",
       "      <td>Invest Cont</td>\n",
       "      <td>14400    TITUS                        ST</td>\n",
       "      <td>NaN</td>\n",
       "    </tr>\n",
       "    <tr>\n",
       "      <th>...</th>\n",
       "      <td>...</td>\n",
       "      <td>...</td>\n",
       "      <td>...</td>\n",
       "      <td>...</td>\n",
       "      <td>...</td>\n",
       "      <td>...</td>\n",
       "      <td>...</td>\n",
       "      <td>...</td>\n",
       "      <td>...</td>\n",
       "      <td>...</td>\n",
       "      <td>...</td>\n",
       "    </tr>\n",
       "    <tr>\n",
       "      <th>1375876</th>\n",
       "      <td>Topanga</td>\n",
       "      <td>TRAFFIC COLLISION</td>\n",
       "      <td>3006 3028 4026 3033 3034 3037</td>\n",
       "      <td>M</td>\n",
       "      <td>W</td>\n",
       "      <td>STREET</td>\n",
       "      <td>NaN</td>\n",
       "      <td>NaN</td>\n",
       "      <td>NaN</td>\n",
       "      <td>DEERING                      AV</td>\n",
       "      <td>SATICOY                      ST</td>\n",
       "    </tr>\n",
       "    <tr>\n",
       "      <th>1375877</th>\n",
       "      <td>West LA</td>\n",
       "      <td>TRAFFIC COLLISION</td>\n",
       "      <td>3003 3026 3029 3035 3036 3101 3401 3701 4008</td>\n",
       "      <td>M</td>\n",
       "      <td>H</td>\n",
       "      <td>STREET</td>\n",
       "      <td>NaN</td>\n",
       "      <td>NaN</td>\n",
       "      <td>NaN</td>\n",
       "      <td>LA CIENEGA                   BL</td>\n",
       "      <td>GUTHRIE                      AV</td>\n",
       "    </tr>\n",
       "    <tr>\n",
       "      <th>1375878</th>\n",
       "      <td>N Hollywood</td>\n",
       "      <td>TRAFFIC COLLISION</td>\n",
       "      <td>3004 3026 4015 3029 3036 3101</td>\n",
       "      <td>F</td>\n",
       "      <td>O</td>\n",
       "      <td>STREET</td>\n",
       "      <td>NaN</td>\n",
       "      <td>NaN</td>\n",
       "      <td>NaN</td>\n",
       "      <td>VANOWEN                      ST</td>\n",
       "      <td>FULTON                       AV</td>\n",
       "    </tr>\n",
       "    <tr>\n",
       "      <th>1375879</th>\n",
       "      <td>N Hollywood</td>\n",
       "      <td>TRAFFIC COLLISION</td>\n",
       "      <td>NaN</td>\n",
       "      <td>M</td>\n",
       "      <td>H</td>\n",
       "      <td>STREET</td>\n",
       "      <td>NaN</td>\n",
       "      <td>NaN</td>\n",
       "      <td>NaN</td>\n",
       "      <td>FARMDALE                     AV</td>\n",
       "      <td>OXNARD                       ST</td>\n",
       "    </tr>\n",
       "    <tr>\n",
       "      <th>1375880</th>\n",
       "      <td>Foothill</td>\n",
       "      <td>TRAFFIC COLLISION</td>\n",
       "      <td>3004 3028 4026 3034 3037 3101</td>\n",
       "      <td>M</td>\n",
       "      <td>H</td>\n",
       "      <td>STREET</td>\n",
       "      <td>NaN</td>\n",
       "      <td>NaN</td>\n",
       "      <td>NaN</td>\n",
       "      <td>TUJUNGA CANYON               BL</td>\n",
       "      <td>LA TUNA CANYON               RD</td>\n",
       "    </tr>\n",
       "  </tbody>\n",
       "</table>\n",
       "<p>1375881 rows × 11 columns</p>\n",
       "</div>"
      ],
      "text/plain": [
       "           Area Name                             Crime Code Description  \\\n",
       "0          Southwest                           BATTERY - SIMPLE ASSAULT   \n",
       "1            Central                           BATTERY - SIMPLE ASSAULT   \n",
       "2            Central          SEX OFFENDER REGISTRANT OUT OF COMPLIANCE   \n",
       "3        N Hollywood           VANDALISM - MISDEAMEANOR ($399 OR UNDER)   \n",
       "4            Mission  VANDALISM - FELONY ($400 & OVER, ALL CHURCH VA...   \n",
       "...              ...                                                ...   \n",
       "1375876      Topanga                                  TRAFFIC COLLISION   \n",
       "1375877      West LA                                  TRAFFIC COLLISION   \n",
       "1375878  N Hollywood                                  TRAFFIC COLLISION   \n",
       "1375879  N Hollywood                                  TRAFFIC COLLISION   \n",
       "1375880     Foothill                                  TRAFFIC COLLISION   \n",
       "\n",
       "                                             MO Codes Victim Sex  \\\n",
       "0                                           0444 0913          F   \n",
       "1                                      0416 1822 1414          M   \n",
       "2                                                1501          X   \n",
       "3                                           0329 1402          F   \n",
       "4                                                0329          X   \n",
       "...                                               ...        ...   \n",
       "1375876                 3006 3028 4026 3033 3034 3037          M   \n",
       "1375877  3003 3026 3029 3035 3036 3101 3401 3701 4008          M   \n",
       "1375878                 3004 3026 4015 3029 3036 3101          F   \n",
       "1375879                                           NaN          M   \n",
       "1375880                 3004 3028 4026 3034 3037 3101          M   \n",
       "\n",
       "        Victim Descent                           Premise Description  \\\n",
       "0                    B                        SINGLE FAMILY DWELLING   \n",
       "1                    H                                      SIDEWALK   \n",
       "2                    X                               POLICE FACILITY   \n",
       "3                    W  MULTI-UNIT DWELLING (APARTMENT, DUPLEX, ETC)   \n",
       "4                    X                           BEAUTY SUPPLY STORE   \n",
       "...                ...                                           ...   \n",
       "1375876              W                                        STREET   \n",
       "1375877              H                                        STREET   \n",
       "1375878              O                                        STREET   \n",
       "1375879              H                                        STREET   \n",
       "1375880              H                                        STREET   \n",
       "\n",
       "                                            Weapon Desc Status   Status Desc  \\\n",
       "0        STRONG-ARM (HANDS, FIST, FEET OR BODILY FORCE)     AO   Adult Other   \n",
       "1                           UNKNOWN WEAPON/OTHER WEAPON     IC   Invest Cont   \n",
       "2                                                   NaN     AA  Adult Arrest   \n",
       "3                                                   NaN     IC   Invest Cont   \n",
       "4                                                   NaN     IC   Invest Cont   \n",
       "...                                                 ...    ...           ...   \n",
       "1375876                                             NaN    NaN           NaN   \n",
       "1375877                                             NaN    NaN           NaN   \n",
       "1375878                                             NaN    NaN           NaN   \n",
       "1375879                                             NaN    NaN           NaN   \n",
       "1375880                                             NaN    NaN           NaN   \n",
       "\n",
       "                                          Address  \\\n",
       "0         1100 W  39TH                         PL   \n",
       "1          700 S  HILL                         ST   \n",
       "2          200 E  6TH                          ST   \n",
       "3         5400    CORTEEN                      PL   \n",
       "4        14400    TITUS                        ST   \n",
       "...                                           ...   \n",
       "1375876           DEERING                      AV   \n",
       "1375877           LA CIENEGA                   BL   \n",
       "1375878           VANOWEN                      ST   \n",
       "1375879           FARMDALE                     AV   \n",
       "1375880           TUJUNGA CANYON               BL   \n",
       "\n",
       "                            Cross Street  \n",
       "0                                    NaN  \n",
       "1                                    NaN  \n",
       "2                                    NaN  \n",
       "3                                    NaN  \n",
       "4                                    NaN  \n",
       "...                                  ...  \n",
       "1375876  SATICOY                      ST  \n",
       "1375877  GUTHRIE                      AV  \n",
       "1375878  FULTON                       AV  \n",
       "1375879  OXNARD                       ST  \n",
       "1375880  LA TUNA CANYON               RD  \n",
       "\n",
       "[1375881 rows x 11 columns]"
      ]
     },
     "execution_count": 24,
     "metadata": {},
     "output_type": "execute_result"
    }
   ],
   "source": [
    "crimeDataAdj.select_dtypes('object')"
   ]
  },
  {
   "cell_type": "code",
   "execution_count": 25,
   "id": "8739ac51",
   "metadata": {
    "scrolled": false
   },
   "outputs": [
    {
     "data": {
      "text/plain": [
       "<Axes: title={'center': 'Number of Reported Crimes by Area'}, xlabel='Number of crimes reports', ylabel='Area'>"
      ]
     },
     "execution_count": 25,
     "metadata": {},
     "output_type": "execute_result"
    },
    {
     "data": {
      "image/png": "[encoded data removed]",
      "text/plain": [
       "<Figure size 640x480 with 1 Axes>"
      ]
     },
     "metadata": {},
     "output_type": "display_data"
    }
   ],
   "source": [
    "# Distribution of area names as bar plot\n",
    "\n",
    "crimeDataAdj['Area Name'].value_counts().sort_values().plot(kind='barh', xlabel = \"Number of crimes reports\",\\\n",
    "                                                    ylabel ='Area', title = \"Number of Reported Crimes by Area\")"
   ]
  },
  {
   "cell_type": "code",
   "execution_count": 26,
   "id": "8ee15332",
   "metadata": {},
   "outputs": [
    {
     "data": {
      "text/plain": [
       "139"
      ]
     },
     "execution_count": 26,
     "metadata": {},
     "output_type": "execute_result"
    }
   ],
   "source": [
    "# A quick look at the number of unique Crime Code Descriptions\n",
    "\n",
    "crimeDataAdj['Crime Code Description'].nunique()\n"
   ]
  },
  {
   "cell_type": "code",
   "execution_count": 27,
   "id": "56df383c",
   "metadata": {},
   "outputs": [
    {
     "data": {
      "text/plain": [
       "370931"
      ]
     },
     "execution_count": 27,
     "metadata": {},
     "output_type": "execute_result"
    }
   ],
   "source": [
    "# A quick look at the number of unique MO Codes\n",
    "\n",
    "crimeDataAdj['MO Codes'].nunique()"
   ]
  },
  {
   "cell_type": "markdown",
   "id": "a6f7d989",
   "metadata": {},
   "source": [
    "- Important Note: There are several MO Codes per value in some cases (ie '0416 1822 1414'), each code is separated by a space"
   ]
  },
  {
   "cell_type": "markdown",
   "id": "0b74df26",
   "metadata": {},
   "source": [
    "**Victim Sex** "
   ]
  },
  {
   "cell_type": "code",
   "execution_count": 28,
   "id": "cb77e915",
   "metadata": {
    "scrolled": false
   },
   "outputs": [
    {
     "data": {
      "text/plain": [
       "<Axes: >"
      ]
     },
     "execution_count": 28,
     "metadata": {},
     "output_type": "execute_result"
    },
    {
     "data": {
      "image/png": "[encoded data removed]",
      "text/plain": [
       "<Figure size 640x480 with 1 Axes>"
      ]
     },
     "metadata": {},
     "output_type": "display_data"
    }
   ],
   "source": [
    "crimeDataAdj['Victim Sex'].value_counts().plot(kind = 'bar', rot = 0)"
   ]
  },
  {
   "cell_type": "markdown",
   "id": "67cb3782",
   "metadata": {},
   "source": [
    "- Per the dataset source (https://data.lacity.org/Public-Safety/Crime-Data-from-2020-to-Present/2nrs-mtv8) 'X'represents unknown but there are not descriptions for 'H' and 'N'\n",
    "- 'H' and 'N' are essentially unknown so these can be changed to 'X'"
   ]
  },
  {
   "cell_type": "code",
   "execution_count": 29,
   "id": "f2f223ee",
   "metadata": {
    "scrolled": false
   },
   "outputs": [
    {
     "data": {
      "text/plain": [
       "M    672646\n",
       "F    507438\n",
       "X     83585\n",
       "H       257\n",
       "N        11\n",
       "-         3\n",
       "Name: Victim Sex, dtype: int64"
      ]
     },
     "execution_count": 29,
     "metadata": {},
     "output_type": "execute_result"
    }
   ],
   "source": [
    "crimeDataAdj['Victim Sex'].value_counts()"
   ]
  },
  {
   "cell_type": "code",
   "execution_count": 30,
   "id": "954caeec",
   "metadata": {},
   "outputs": [
    {
     "data": {
      "text/plain": [
       "1375881"
      ]
     },
     "execution_count": 30,
     "metadata": {},
     "output_type": "execute_result"
    }
   ],
   "source": [
    "crimeDataAdj['Victim Sex'].isna().count()"
   ]
  },
  {
   "cell_type": "code",
   "execution_count": 31,
   "id": "a5af0204",
   "metadata": {},
   "outputs": [],
   "source": [
    "# Changing all values that are not 'M' or 'F' into 'X' representing unknown\n",
    "\n",
    "def bio_sex_check(inputvar):\n",
    "    if (inputvar == 'M' or inputvar =='F'):\n",
    "        return inputvar\n",
    "    else:\n",
    "        return 'X'\n",
    "    \n",
    "crimeDataAdj['Victim Sex'] = crimeDataAdj['Victim Sex'].apply(lambda x: bio_sex_check(x))"
   ]
  },
  {
   "cell_type": "code",
   "execution_count": 32,
   "id": "9407919f",
   "metadata": {
    "scrolled": false
   },
   "outputs": [
    {
     "name": "stdout",
     "output_type": "stream",
     "text": [
      "M    48.89\n",
      "F    36.88\n",
      "X    14.23\n",
      "Name: Victim Sex, dtype: float64\n"
     ]
    },
    {
     "data": {
      "text/plain": [
       "<Axes: title={'center': 'Percentage of Victims by Sex Assigned at Birth'}, xlabel='Victim Sex (M - Male, F - Female, X - Unknown)', ylabel='Percentage'>"
      ]
     },
     "execution_count": 32,
     "metadata": {},
     "output_type": "execute_result"
    },
    {
     "data": {
      "image/png": "[encoded data removed]",
      "text/plain": [
       "<Figure size 640x480 with 1 Axes>"
      ]
     },
     "metadata": {},
     "output_type": "display_data"
    }
   ],
   "source": [
    "print(round(crimeDataAdj['Victim Sex'].value_counts(normalize=True)*100,2))\n",
    "\n",
    "crimeDataAdj['Victim Sex'].value_counts(normalize=True).plot(kind = 'bar', rot = 0, \\\n",
    "                                               xlabel = 'Victim Sex (M - Male, F - Female, X - Unknown)',\\\n",
    "                        ylabel = 'Percentage', title = 'Percentage of Victims by Sex Assigned at Birth')"
   ]
  },
  {
   "cell_type": "markdown",
   "id": "5ce2c7fc",
   "metadata": {},
   "source": [
    "**Victim Descent**"
   ]
  },
  {
   "cell_type": "markdown",
   "id": "1e6b3d8a",
   "metadata": {},
   "source": [
    "Per the dataset source (https://data.lacity.org/Public-Safety/Crime-Data-from-2020-to-Present/2nrs-mtv8)\n",
    "\n",
    "Descent Code: \n",
    "- A - Other Asian \n",
    "- B - Black \n",
    "- C - Chinese \n",
    "- D - Cambodian \n",
    "- F - Filipino \n",
    "- G - Guamanian \n",
    "- H - Hispanic/Latin/Mexican \n",
    "- I - American Indian/Alaskan Native \n",
    "- J - Japanese \n",
    "- K - Korean \n",
    "- L - Laotian \n",
    "- O - Other \n",
    "- P - Pacific Islander \n",
    "- S - Samoan \n",
    "- U - Hawaiian \n",
    "- V- Vietnamese \n",
    "- W - White \n",
    "- X - Unknown \n",
    "- Z - Asian Indian"
   ]
  },
  {
   "cell_type": "code",
   "execution_count": 33,
   "id": "d40afef4",
   "metadata": {},
   "outputs": [
    {
     "data": {
      "text/plain": [
       "array(['B', 'H', 'X', 'W', 'A', 'O', nan, 'C', 'F', 'K', 'I', 'V', 'Z',\n",
       "       'J', 'P', 'G', 'U', 'D', 'S', 'L', '-'], dtype=object)"
      ]
     },
     "execution_count": 33,
     "metadata": {},
     "output_type": "execute_result"
    }
   ],
   "source": [
    "crimeDataAdj['Victim Descent'].unique()"
   ]
  },
  {
   "cell_type": "markdown",
   "id": "9e4f4be4",
   "metadata": {},
   "source": [
    "- To make this column easier to understand, the code will be replaced by the actual description"
   ]
  },
  {
   "cell_type": "code",
   "execution_count": 34,
   "id": "d6ff228d",
   "metadata": {},
   "outputs": [],
   "source": [
    "# Dictionary created from descent codes\n",
    "\n",
    "descent_dict = {\n",
    "    'A': 'Other Asian',\n",
    "    'B': 'Black',\n",
    "    'C': 'Chinese',\n",
    "    'D': 'Cambodian',\n",
    "    'F': 'Filipino',\n",
    "    'G': 'Guamanian',\n",
    "    'H': 'Hispanic/Latin/Mexican',\n",
    "    'I': 'American Indian/Alaskan Native',\n",
    "    'J': 'Japanese',\n",
    "    'K': 'Korean',\n",
    "    'L': 'Laotian',\n",
    "    'O': 'Other',\n",
    "    'P': 'Pacific Islander',\n",
    "    'S': 'Samoan',\n",
    "    'U': 'Hawaiian',\n",
    "    'V': 'Vietnamese',\n",
    "    'W': 'White',\n",
    "    'X': 'Unknown',\n",
    "    'Z': 'Asian Indian',\n",
    "    '-': 'Unknown'\n",
    "}\n",
    "\n",
    "# using .map() method to replace codes with full description of descent \n",
    "crimeDataAdj['Victim Descent'] = crimeDataAdj['Victim Descent'].map(descent_dict)"
   ]
  },
  {
   "cell_type": "code",
   "execution_count": 35,
   "id": "053e49fe",
   "metadata": {},
   "outputs": [],
   "source": [
    "# Replacing NaN with Unknown\n",
    "crimeDataAdj['Victim Descent'].fillna(value = 'Unknown', inplace= True)"
   ]
  },
  {
   "cell_type": "code",
   "execution_count": 36,
   "id": "45aef494",
   "metadata": {
    "scrolled": false
   },
   "outputs": [
    {
     "data": {
      "text/plain": [
       "<Axes: title={'center': 'Victim Counts by Descent'}, xlabel='Counts', ylabel='Victim Descent'>"
      ]
     },
     "execution_count": 36,
     "metadata": {},
     "output_type": "execute_result"
    },
    {
     "data": {
      "image/png": "[encoded data removed]",
      "text/plain": [
       "<Figure size 640x480 with 1 Axes>"
      ]
     },
     "metadata": {},
     "output_type": "display_data"
    }
   ],
   "source": [
    "crimeDataAdj['Victim Descent'].value_counts().sort_values().plot(kind ='barh', ylabel ='Victim Descent',\\\n",
    "                                                    xlabel = 'Counts', title ='Victim Counts by Descent')"
   ]
  },
  {
   "cell_type": "markdown",
   "id": "3144de77",
   "metadata": {},
   "source": [
    "- At this point, It is not clear whether the following variables will contribute to model training: 'Premise Description', 'Weapon Desc', 'Status', 'Status Desc', 'Address', 'Cross Street'\n",
    "- For now, the next step would be to look at the numerical features"
   ]
  },
  {
   "cell_type": "markdown",
   "id": "8c637a8c",
   "metadata": {},
   "source": [
    "## 1.7 A Look Into Numerical Features <a id='1.7_Numerical_Features'></a>"
   ]
  },
  {
   "cell_type": "code",
   "execution_count": 37,
   "id": "231e7a18",
   "metadata": {
    "scrolled": false
   },
   "outputs": [
    {
     "data": {
      "text/html": [
       "<div>\n",
       "<style scoped>\n",
       "    .dataframe tbody tr th:only-of-type {\n",
       "        vertical-align: middle;\n",
       "    }\n",
       "\n",
       "    .dataframe tbody tr th {\n",
       "        vertical-align: top;\n",
       "    }\n",
       "\n",
       "    .dataframe thead th {\n",
       "        text-align: right;\n",
       "    }\n",
       "</style>\n",
       "<table border=\"1\" class=\"dataframe\">\n",
       "  <thead>\n",
       "    <tr style=\"text-align: right;\">\n",
       "      <th></th>\n",
       "      <th>Unnamed: 0</th>\n",
       "      <th>DR Number</th>\n",
       "      <th>Date Reported</th>\n",
       "      <th>Date Occurred</th>\n",
       "      <th>Time Occurred</th>\n",
       "      <th>Area ID</th>\n",
       "      <th>Reporting District</th>\n",
       "      <th>Crime Code</th>\n",
       "      <th>Victim Age</th>\n",
       "      <th>Premise Code</th>\n",
       "      <th>Weapon Used Cd</th>\n",
       "      <th>Crm Cd 1</th>\n",
       "      <th>Crm Cd 2</th>\n",
       "      <th>Crm Cd 3</th>\n",
       "      <th>Crm Cd 4</th>\n",
       "      <th>LAT</th>\n",
       "      <th>LON</th>\n",
       "    </tr>\n",
       "  </thead>\n",
       "  <tbody>\n",
       "    <tr>\n",
       "      <th>0</th>\n",
       "      <td>0</td>\n",
       "      <td>10304468</td>\n",
       "      <td>2020-01-08</td>\n",
       "      <td>2020-01-08</td>\n",
       "      <td>2230</td>\n",
       "      <td>3</td>\n",
       "      <td>377</td>\n",
       "      <td>624</td>\n",
       "      <td>36.0</td>\n",
       "      <td>501.0</td>\n",
       "      <td>400.0</td>\n",
       "      <td>624.0</td>\n",
       "      <td>NaN</td>\n",
       "      <td>NaN</td>\n",
       "      <td>NaN</td>\n",
       "      <td>34.0141</td>\n",
       "      <td>-118.2978</td>\n",
       "    </tr>\n",
       "    <tr>\n",
       "      <th>1</th>\n",
       "      <td>1</td>\n",
       "      <td>190101086</td>\n",
       "      <td>2020-01-02</td>\n",
       "      <td>2020-01-01</td>\n",
       "      <td>330</td>\n",
       "      <td>1</td>\n",
       "      <td>163</td>\n",
       "      <td>624</td>\n",
       "      <td>25.0</td>\n",
       "      <td>102.0</td>\n",
       "      <td>500.0</td>\n",
       "      <td>624.0</td>\n",
       "      <td>NaN</td>\n",
       "      <td>NaN</td>\n",
       "      <td>NaN</td>\n",
       "      <td>34.0459</td>\n",
       "      <td>-118.2545</td>\n",
       "    </tr>\n",
       "    <tr>\n",
       "      <th>2</th>\n",
       "      <td>2</td>\n",
       "      <td>200110444</td>\n",
       "      <td>2020-04-14</td>\n",
       "      <td>2020-02-13</td>\n",
       "      <td>1200</td>\n",
       "      <td>1</td>\n",
       "      <td>155</td>\n",
       "      <td>845</td>\n",
       "      <td>0.0</td>\n",
       "      <td>726.0</td>\n",
       "      <td>NaN</td>\n",
       "      <td>845.0</td>\n",
       "      <td>NaN</td>\n",
       "      <td>NaN</td>\n",
       "      <td>NaN</td>\n",
       "      <td>34.0448</td>\n",
       "      <td>-118.2474</td>\n",
       "    </tr>\n",
       "    <tr>\n",
       "      <th>3</th>\n",
       "      <td>3</td>\n",
       "      <td>191501505</td>\n",
       "      <td>2020-01-01</td>\n",
       "      <td>2020-01-01</td>\n",
       "      <td>1730</td>\n",
       "      <td>15</td>\n",
       "      <td>1543</td>\n",
       "      <td>745</td>\n",
       "      <td>76.0</td>\n",
       "      <td>502.0</td>\n",
       "      <td>NaN</td>\n",
       "      <td>745.0</td>\n",
       "      <td>998.0</td>\n",
       "      <td>NaN</td>\n",
       "      <td>NaN</td>\n",
       "      <td>34.1685</td>\n",
       "      <td>-118.4019</td>\n",
       "    </tr>\n",
       "    <tr>\n",
       "      <th>4</th>\n",
       "      <td>4</td>\n",
       "      <td>191921269</td>\n",
       "      <td>2020-01-01</td>\n",
       "      <td>2020-01-01</td>\n",
       "      <td>415</td>\n",
       "      <td>19</td>\n",
       "      <td>1998</td>\n",
       "      <td>740</td>\n",
       "      <td>31.0</td>\n",
       "      <td>409.0</td>\n",
       "      <td>NaN</td>\n",
       "      <td>740.0</td>\n",
       "      <td>NaN</td>\n",
       "      <td>NaN</td>\n",
       "      <td>NaN</td>\n",
       "      <td>34.2198</td>\n",
       "      <td>-118.4468</td>\n",
       "    </tr>\n",
       "  </tbody>\n",
       "</table>\n",
       "</div>"
      ],
      "text/plain": [
       "   Unnamed: 0  DR Number Date Reported Date Occurred  Time Occurred  Area ID  \\\n",
       "0           0   10304468    2020-01-08    2020-01-08           2230        3   \n",
       "1           1  190101086    2020-01-02    2020-01-01            330        1   \n",
       "2           2  200110444    2020-04-14    2020-02-13           1200        1   \n",
       "3           3  191501505    2020-01-01    2020-01-01           1730       15   \n",
       "4           4  191921269    2020-01-01    2020-01-01            415       19   \n",
       "\n",
       "   Reporting District  Crime Code  Victim Age  Premise Code  Weapon Used Cd  \\\n",
       "0                 377         624        36.0         501.0           400.0   \n",
       "1                 163         624        25.0         102.0           500.0   \n",
       "2                 155         845         0.0         726.0             NaN   \n",
       "3                1543         745        76.0         502.0             NaN   \n",
       "4                1998         740        31.0         409.0             NaN   \n",
       "\n",
       "   Crm Cd 1  Crm Cd 2  Crm Cd 3  Crm Cd 4      LAT       LON  \n",
       "0     624.0       NaN       NaN       NaN  34.0141 -118.2978  \n",
       "1     624.0       NaN       NaN       NaN  34.0459 -118.2545  \n",
       "2     845.0       NaN       NaN       NaN  34.0448 -118.2474  \n",
       "3     745.0     998.0       NaN       NaN  34.1685 -118.4019  \n",
       "4     740.0       NaN       NaN       NaN  34.2198 -118.4468  "
      ]
     },
     "execution_count": 37,
     "metadata": {},
     "output_type": "execute_result"
    }
   ],
   "source": [
    "crimeDataNumerical = crimeDataAdj.select_dtypes(exclude='object')\n",
    "crimeDataNumerical.head()\n"
   ]
  },
  {
   "cell_type": "code",
   "execution_count": 38,
   "id": "31594cea",
   "metadata": {
    "scrolled": true
   },
   "outputs": [
    {
     "data": {
      "text/html": [
       "<div>\n",
       "<style scoped>\n",
       "    .dataframe tbody tr th:only-of-type {\n",
       "        vertical-align: middle;\n",
       "    }\n",
       "\n",
       "    .dataframe tbody tr th {\n",
       "        vertical-align: top;\n",
       "    }\n",
       "\n",
       "    .dataframe thead th {\n",
       "        text-align: right;\n",
       "    }\n",
       "</style>\n",
       "<table border=\"1\" class=\"dataframe\">\n",
       "  <thead>\n",
       "    <tr style=\"text-align: right;\">\n",
       "      <th></th>\n",
       "      <th>Unnamed: 0</th>\n",
       "      <th>DR Number</th>\n",
       "      <th>Time Occurred</th>\n",
       "      <th>Area ID</th>\n",
       "      <th>Reporting District</th>\n",
       "      <th>Crime Code</th>\n",
       "      <th>Victim Age</th>\n",
       "      <th>Premise Code</th>\n",
       "      <th>Weapon Used Cd</th>\n",
       "      <th>Crm Cd 1</th>\n",
       "      <th>Crm Cd 2</th>\n",
       "      <th>Crm Cd 3</th>\n",
       "      <th>Crm Cd 4</th>\n",
       "      <th>LAT</th>\n",
       "      <th>LON</th>\n",
       "    </tr>\n",
       "  </thead>\n",
       "  <tbody>\n",
       "    <tr>\n",
       "      <th>count</th>\n",
       "      <td>1.375881e+06</td>\n",
       "      <td>1.375881e+06</td>\n",
       "      <td>1.375881e+06</td>\n",
       "      <td>1.375881e+06</td>\n",
       "      <td>1.375881e+06</td>\n",
       "      <td>1.375881e+06</td>\n",
       "      <td>1.290351e+06</td>\n",
       "      <td>1.374913e+06</td>\n",
       "      <td>271192.000000</td>\n",
       "      <td>779793.000000</td>\n",
       "      <td>57524.000000</td>\n",
       "      <td>1919.000000</td>\n",
       "      <td>57.000000</td>\n",
       "      <td>1.375881e+06</td>\n",
       "      <td>1.375881e+06</td>\n",
       "    </tr>\n",
       "    <tr>\n",
       "      <th>mean</th>\n",
       "      <td>6.879400e+05</td>\n",
       "      <td>1.905465e+08</td>\n",
       "      <td>1.343433e+03</td>\n",
       "      <td>1.087445e+01</td>\n",
       "      <td>1.133660e+03</td>\n",
       "      <td>7.157330e+02</td>\n",
       "      <td>3.440786e+01</td>\n",
       "      <td>2.177699e+02</td>\n",
       "      <td>362.680857</td>\n",
       "      <td>500.474448</td>\n",
       "      <td>957.441068</td>\n",
       "      <td>983.781136</td>\n",
       "      <td>990.368421</td>\n",
       "      <td>3.400193e+01</td>\n",
       "      <td>-1.180981e+02</td>\n",
       "    </tr>\n",
       "    <tr>\n",
       "      <th>std</th>\n",
       "      <td>3.971828e+05</td>\n",
       "      <td>3.721321e+07</td>\n",
       "      <td>6.322792e+02</td>\n",
       "      <td>6.002691e+00</td>\n",
       "      <td>6.007483e+02</td>\n",
       "      <td>2.914859e+02</td>\n",
       "      <td>2.063081e+01</td>\n",
       "      <td>1.923676e+02</td>\n",
       "      <td>123.713283</td>\n",
       "      <td>207.668711</td>\n",
       "      <td>111.594467</td>\n",
       "      <td>50.959593</td>\n",
       "      <td>28.594225</td>\n",
       "      <td>1.597841e+00</td>\n",
       "      <td>5.537253e+00</td>\n",
       "    </tr>\n",
       "    <tr>\n",
       "      <th>min</th>\n",
       "      <td>0.000000e+00</td>\n",
       "      <td>8.170000e+02</td>\n",
       "      <td>1.000000e+00</td>\n",
       "      <td>1.000000e+00</td>\n",
       "      <td>1.000000e+02</td>\n",
       "      <td>1.100000e+02</td>\n",
       "      <td>-3.000000e+00</td>\n",
       "      <td>1.010000e+02</td>\n",
       "      <td>101.000000</td>\n",
       "      <td>110.000000</td>\n",
       "      <td>210.000000</td>\n",
       "      <td>434.000000</td>\n",
       "      <td>821.000000</td>\n",
       "      <td>0.000000e+00</td>\n",
       "      <td>-1.186676e+02</td>\n",
       "    </tr>\n",
       "    <tr>\n",
       "      <th>25%</th>\n",
       "      <td>3.439700e+05</td>\n",
       "      <td>1.703269e+08</td>\n",
       "      <td>9.120000e+02</td>\n",
       "      <td>6.000000e+00</td>\n",
       "      <td>6.430000e+02</td>\n",
       "      <td>4.400000e+02</td>\n",
       "      <td>2.300000e+01</td>\n",
       "      <td>1.010000e+02</td>\n",
       "      <td>309.000000</td>\n",
       "      <td>331.000000</td>\n",
       "      <td>998.000000</td>\n",
       "      <td>998.000000</td>\n",
       "      <td>998.000000</td>\n",
       "      <td>3.401480e+01</td>\n",
       "      <td>-1.184341e+02</td>\n",
       "    </tr>\n",
       "    <tr>\n",
       "      <th>50%</th>\n",
       "      <td>6.879400e+05</td>\n",
       "      <td>2.016152e+08</td>\n",
       "      <td>1.425000e+03</td>\n",
       "      <td>1.100000e+01</td>\n",
       "      <td>1.147000e+03</td>\n",
       "      <td>7.530000e+02</td>\n",
       "      <td>3.400000e+01</td>\n",
       "      <td>1.010000e+02</td>\n",
       "      <td>400.000000</td>\n",
       "      <td>442.000000</td>\n",
       "      <td>998.000000</td>\n",
       "      <td>998.000000</td>\n",
       "      <td>998.000000</td>\n",
       "      <td>3.406080e+01</td>\n",
       "      <td>-1.183278e+02</td>\n",
       "    </tr>\n",
       "    <tr>\n",
       "      <th>75%</th>\n",
       "      <td>1.031910e+06</td>\n",
       "      <td>2.205162e+08</td>\n",
       "      <td>1.835000e+03</td>\n",
       "      <td>1.600000e+01</td>\n",
       "      <td>1.636000e+03</td>\n",
       "      <td>9.970000e+02</td>\n",
       "      <td>4.800000e+01</td>\n",
       "      <td>4.010000e+02</td>\n",
       "      <td>400.000000</td>\n",
       "      <td>626.000000</td>\n",
       "      <td>998.000000</td>\n",
       "      <td>998.000000</td>\n",
       "      <td>998.000000</td>\n",
       "      <td>3.416860e+01</td>\n",
       "      <td>-1.182769e+02</td>\n",
       "    </tr>\n",
       "    <tr>\n",
       "      <th>max</th>\n",
       "      <td>1.375880e+06</td>\n",
       "      <td>2.399228e+08</td>\n",
       "      <td>2.359000e+03</td>\n",
       "      <td>2.100000e+01</td>\n",
       "      <td>2.199000e+03</td>\n",
       "      <td>9.970000e+02</td>\n",
       "      <td>1.200000e+02</td>\n",
       "      <td>9.740000e+02</td>\n",
       "      <td>516.000000</td>\n",
       "      <td>956.000000</td>\n",
       "      <td>999.000000</td>\n",
       "      <td>999.000000</td>\n",
       "      <td>999.000000</td>\n",
       "      <td>3.469200e+01</td>\n",
       "      <td>0.000000e+00</td>\n",
       "    </tr>\n",
       "  </tbody>\n",
       "</table>\n",
       "</div>"
      ],
      "text/plain": [
       "         Unnamed: 0     DR Number  Time Occurred       Area ID  \\\n",
       "count  1.375881e+06  1.375881e+06   1.375881e+06  1.375881e+06   \n",
       "mean   6.879400e+05  1.905465e+08   1.343433e+03  1.087445e+01   \n",
       "std    3.971828e+05  3.721321e+07   6.322792e+02  6.002691e+00   \n",
       "min    0.000000e+00  8.170000e+02   1.000000e+00  1.000000e+00   \n",
       "25%    3.439700e+05  1.703269e+08   9.120000e+02  6.000000e+00   \n",
       "50%    6.879400e+05  2.016152e+08   1.425000e+03  1.100000e+01   \n",
       "75%    1.031910e+06  2.205162e+08   1.835000e+03  1.600000e+01   \n",
       "max    1.375880e+06  2.399228e+08   2.359000e+03  2.100000e+01   \n",
       "\n",
       "       Reporting District    Crime Code    Victim Age  Premise Code  \\\n",
       "count        1.375881e+06  1.375881e+06  1.290351e+06  1.374913e+06   \n",
       "mean         1.133660e+03  7.157330e+02  3.440786e+01  2.177699e+02   \n",
       "std          6.007483e+02  2.914859e+02  2.063081e+01  1.923676e+02   \n",
       "min          1.000000e+02  1.100000e+02 -3.000000e+00  1.010000e+02   \n",
       "25%          6.430000e+02  4.400000e+02  2.300000e+01  1.010000e+02   \n",
       "50%          1.147000e+03  7.530000e+02  3.400000e+01  1.010000e+02   \n",
       "75%          1.636000e+03  9.970000e+02  4.800000e+01  4.010000e+02   \n",
       "max          2.199000e+03  9.970000e+02  1.200000e+02  9.740000e+02   \n",
       "\n",
       "       Weapon Used Cd       Crm Cd 1      Crm Cd 2     Crm Cd 3    Crm Cd 4  \\\n",
       "count   271192.000000  779793.000000  57524.000000  1919.000000   57.000000   \n",
       "mean       362.680857     500.474448    957.441068   983.781136  990.368421   \n",
       "std        123.713283     207.668711    111.594467    50.959593   28.594225   \n",
       "min        101.000000     110.000000    210.000000   434.000000  821.000000   \n",
       "25%        309.000000     331.000000    998.000000   998.000000  998.000000   \n",
       "50%        400.000000     442.000000    998.000000   998.000000  998.000000   \n",
       "75%        400.000000     626.000000    998.000000   998.000000  998.000000   \n",
       "max        516.000000     956.000000    999.000000   999.000000  999.000000   \n",
       "\n",
       "                LAT           LON  \n",
       "count  1.375881e+06  1.375881e+06  \n",
       "mean   3.400193e+01 -1.180981e+02  \n",
       "std    1.597841e+00  5.537253e+00  \n",
       "min    0.000000e+00 -1.186676e+02  \n",
       "25%    3.401480e+01 -1.184341e+02  \n",
       "50%    3.406080e+01 -1.183278e+02  \n",
       "75%    3.416860e+01 -1.182769e+02  \n",
       "max    3.469200e+01  0.000000e+00  "
      ]
     },
     "execution_count": 38,
     "metadata": {},
     "output_type": "execute_result"
    }
   ],
   "source": [
    "# Summary statistics\n",
    "\n",
    "crimeDataNumerical.describe()"
   ]
  },
  {
   "cell_type": "markdown",
   "id": "97472644",
   "metadata": {},
   "source": [
    "- Unnamed: 0, DR Number,Area ID, Reporting District, Crime Code, Premise Code, Weapon Used Cd, Crm Cd 1, Crm Cd 2, Crm Cd 3, and Crm Cd 4 are categiorical so the summary statistics for these features has no value.\n",
    "- Within Victim Age, you can see that the min is an error since it is a negative value and the max is 120 which is highly unlikely as the oldest person at the age of 122 passed away in the 1900's ([source link](https://www.prb.org/resources/age-100-and-counting/#:~:text=The%20oldest%20known%20age%20ever,limit%20of%20the%20human%20lifespan.))\n",
    "- Latitude would have a range from -90 to 90 whereas longitude has a range of -180 to 180. The min for LAT and LON are 0.000000e+00 and -1.186676e+02, respectively. The max for LAT and LON are 3.469200e+01 and 0.000000e+00, respectively. LAT and LON values fall within the ranges. All of the coordinates should be for Los Angeles."
   ]
  },
  {
   "cell_type": "markdown",
   "id": "d5bd084d",
   "metadata": {},
   "source": [
    "### 1.7.1 Target Feature <a id='1.7.1_Target_Feature'></a>\n",
    "**Victim Age**"
   ]
  },
  {
   "cell_type": "code",
   "execution_count": 39,
   "id": "e8aaa246",
   "metadata": {
    "scrolled": false
   },
   "outputs": [
    {
     "data": {
      "text/plain": [
       "-1.0    53\n",
       "-2.0    12\n",
       "-3.0     1\n",
       "Name: Victim Age, dtype: int64"
      ]
     },
     "execution_count": 39,
     "metadata": {},
     "output_type": "execute_result"
    }
   ],
   "source": [
    "crimeDataAdj[crimeDataAdj['Victim Age']<0]['Victim Age'].value_counts()"
   ]
  },
  {
   "cell_type": "code",
   "execution_count": 40,
   "id": "d2f4cbc5",
   "metadata": {},
   "outputs": [
    {
     "data": {
      "text/plain": [
       "120.0    1\n",
       "Name: Victim Age, dtype: int64"
      ]
     },
     "execution_count": 40,
     "metadata": {},
     "output_type": "execute_result"
    }
   ],
   "source": [
    "crimeDataAdj[crimeDataAdj['Victim Age']>100]['Victim Age'].value_counts()"
   ]
  },
  {
   "cell_type": "code",
   "execution_count": 41,
   "id": "dc7b2bb9",
   "metadata": {
    "scrolled": false
   },
   "outputs": [
    {
     "data": {
      "text/plain": [
       "<Axes: ylabel='Frequency'>"
      ]
     },
     "execution_count": 41,
     "metadata": {},
     "output_type": "execute_result"
    },
    {
     "data": {
      "image/png": "[encoded data removed]",
      "text/plain": [
       "<Figure size 640x480 with 1 Axes>"
      ]
     },
     "metadata": {},
     "output_type": "display_data"
    }
   ],
   "source": [
    "# Histogram using the current unadjusted Victim Age data\n",
    "\n",
    "crimeDataAdj['Victim Age'].plot(kind =\"hist\")"
   ]
  },
  {
   "cell_type": "markdown",
   "id": "437af120",
   "metadata": {},
   "source": [
    "- The '0' values and the '120' appear to really skew the data so these will be removed. "
   ]
  },
  {
   "cell_type": "code",
   "execution_count": 42,
   "id": "a78da320",
   "metadata": {},
   "outputs": [],
   "source": [
    "# Victim Age feature with all values <=0 and >115 removed\n",
    "\n",
    "crimeDataAdj['Victim Age'] = crimeDataAdj['Victim Age'].apply(lambda x: None if (x<=0 or x>115) else x)"
   ]
  },
  {
   "cell_type": "code",
   "execution_count": 43,
   "id": "3c9ac972",
   "metadata": {
    "scrolled": false
   },
   "outputs": [
    {
     "data": {
      "text/plain": [
       "<Axes: ylabel='Frequency'>"
      ]
     },
     "execution_count": 43,
     "metadata": {},
     "output_type": "execute_result"
    },
    {
     "data": {
      "image/png": "[encoded data removed]",
      "text/plain": [
       "<Figure size 640x480 with 1 Axes>"
      ]
     },
     "metadata": {},
     "output_type": "display_data"
    }
   ],
   "source": [
    "crimeDataAdj['Victim Age'].plot(kind = \"hist\")"
   ]
  },
  {
   "cell_type": "code",
   "execution_count": 46,
   "id": "47f3aa5d",
   "metadata": {},
   "outputs": [
    {
     "data": {
      "text/plain": [
       "count    1099314.0\n",
       "mean          40.0\n",
       "std           16.0\n",
       "min            2.0\n",
       "25%           28.0\n",
       "50%           37.0\n",
       "75%           51.0\n",
       "max           99.0\n",
       "Name: Victim Age, dtype: float64"
      ]
     },
     "execution_count": 46,
     "metadata": {},
     "output_type": "execute_result"
    }
   ],
   "source": [
    "round(crimeDataAdj['Victim Age'].describe(),0)"
   ]
  },
  {
   "cell_type": "markdown",
   "id": "cbd79379",
   "metadata": {},
   "source": [
    "## 1.8 Save the data <a id='1.8_Save_data'></a>"
   ]
  },
  {
   "cell_type": "code",
   "execution_count": null,
   "id": "9a0a354e",
   "metadata": {},
   "outputs": [],
   "source": [
    "#crimeDataAdj.to_csv('2010-2023 Crime_Traffic_Collisions_Data_R1 .csv')"
   ]
  },
  {
   "cell_type": "markdown",
   "id": "1c5006a3",
   "metadata": {},
   "source": [
    "## 1.9 Summary <a id='1.9_Summary'></a>"
   ]
  },
  {
   "cell_type": "markdown",
   "id": "e7597c13",
   "metadata": {},
   "source": [
    "**Assignment Questions + Answers**\n",
    "- Do you think you may have the data you need to tackle the desired question? <span style=\"color:blue\">Yes</span>\n",
    "    - Have you identified the required target value? <span style=\"color:blue\">Victim Age and Victim Sex</span>\n",
    "    - Do you have potentially useful features? <span style=\"color:blue\">Yes</span>\n",
    "- Do you have any fundamental issues with the data? <span style=\"color:blue\">No</span>\n",
    "- What kind of cleaning steps did you perform? <span style=\"color:blue\">Removed outliers from Victim Age, converted date values within Date Reported & Date Occurred from 'str' to 'datetime', replaced missing values from Victim Sex with 'X' to represent unknown, and replaced Victim Descent values codes with descriptive words for anyone to understand without using an LAPD code reference.</span>\n",
    "- How did you deal with missing values, if there were any? <span style=\"color:blue\">Replaced missing values with specific 'str' to represent unknowns and left most missing values as they represent <1% of the data</span>\n",
    "- Were there outliers, and how did you handle them? <span style=\"color:blue\">Yes, there were errors within the Victim Age column such as an age of 120, 0, and negative values - these were all removed to better represent the mean age.</span>"
   ]
  },
  {
   "cell_type": "markdown",
   "id": "dad03508",
   "metadata": {},
   "source": []
  }
 ],
 "metadata": {
  "kernelspec": {
   "display_name": "Python 3 (ipykernel)",
   "language": "python",
   "name": "python3"
  },
  "language_info": {
   "codemirror_mode": {
    "name": "ipython",
    "version": 3
   },
   "file_extension": ".py",
   "mimetype": "text/x-python",
   "name": "python",
   "nbconvert_exporter": "python",
   "pygments_lexer": "ipython3",
   "version": "3.10.9"
  }
 },
 "nbformat": 4,
 "nbformat_minor": 5
}
