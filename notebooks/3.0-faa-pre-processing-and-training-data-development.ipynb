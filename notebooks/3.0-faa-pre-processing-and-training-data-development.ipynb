{
 "cells": [
  {
   "cell_type": "markdown",
   "id": "21db69f4",
   "metadata": {},
   "source": [
    "# 3 Pre-processing & Training Data Development <a id='3_Pre-processing_&_training_data_development'></a>\n"
   ]
  },
  {
   "cell_type": "markdown",
   "id": "d1487285",
   "metadata": {},
   "source": [
    "## 3.1 Contents <a id='31-contents'></a>\n",
    "\n",
    "- [3.1 Contents](#31-contents)\n",
    "- [3.2 Introduction](#32-introduction)\n",
    "- [3.3 Imports](#33-imports)\n",
    "- [3.4 Load The Data](#34-load-the-data)\n",
    "- [3.5 Data Cleaning](#35-data-cleaning)\n",
    "    - [3.5.1 Imputing Missing/Removing Values](#351-imputing-missing-values)\n",
    "- [3.6 Train/Test Split](#36-traintest-split)\n",
    "- [3.7 Encoding Categorical Features](#37-encoding-categorical-features)\n",
    "     - [3.7.1 Encoding with get_Dummies](#371-encoding-with-get-dummies)\n",
    "     - [3.7.1 Encoding with word2vec](#371-encoding-with-word2vec)\n",
    "- [3.8 Scale the Data](#38-scale-the-data)\n",
    "- [3.9 Train/Predict with a \"Baseline Model\"](#39-trainpredict-with-a-baseline-model)\n",
    "- [3.10 Setting up Pipelines](#310-setting-up-pipelines)\n",
    "    - [3.10.1 Define](#3101-define)\n",
    "- [3.11 Fit/Train/Predict and Assess Models ](#\"3102-fit-train-predict-and-assess)\n",
    "- [3.12 Final Model Selection](#314-final-model-selection)\n",
    "    - [3.12.1 Logistic Regression Model Performance](#3141-logistic-regression-model-performance)\n",
    "    - [3.12.2 Random Forest Regression Model Performance](#3142-random-forest-regression-model-performance)\n",
    "- [3.13 Conclusion](#315-conclusion)\n",
    " "
   ]
  },
  {
   "cell_type": "markdown",
   "id": "dc4e52aa",
   "metadata": {},
   "source": [
    "## 3.2 Introduction <a id='32-introduction'></a>"
   ]
  },
  {
   "cell_type": "markdown",
   "id": "f0ed802c",
   "metadata": {},
   "source": [
    "This is a continuation of \"2.0-faa-exploratory-data-analysis.ipynb\" focusing on feature engineering, training and model selection. \n",
    "\n",
    "Goals: Impute missing values, scale data, encode categorical types, train/test split, create a pipeline and model selection \n",
    "\n",
    "### **Problem Statement:**\n",
    "The purpose of this data science project involves predicting the age and sex of individuals who become victims of crime using crime data and potentially other relevant variables. By analyzing patterns within crime data, we aim to develop predictive models that estimate the age and sex of victims, which can have applications in law enforcement, victim support and aid victim service providers target relevant areas. \n"
   ]
  },
  {
   "cell_type": "markdown",
   "id": "37781831",
   "metadata": {},
   "source": [
    "## 3.3 Imports <a id='33-imports'></a>"
   ]
  },
  {
   "cell_type": "code",
   "execution_count": 1,
   "id": "eab54569",
   "metadata": {},
   "outputs": [],
   "source": [
    "import pandas as pd\n",
    "import numpy as np\n",
    "import matplotlib.pyplot as plt\n",
    "\n",
    "from sklearn.feature_extraction.text import CountVectorizer\n",
    "from sklearn.model_selection import train_test_split\n",
    "import nltk\n",
    "from nltk.corpus import stopwords\n",
    "from nltk.tokenize import word_tokenize\n",
    "import string \n",
    "\n",
    "from sklearn.preprocessing import StandardScaler, MinMaxScaler, FunctionTransformer\n",
    "from sklearn.preprocessing import OneHotEncoder, LabelEncoder\n",
    "\n",
    "from gensim.models import Word2Vec\n",
    "from sklearn.linear_model import LogisticRegression\n",
    "from sklearn.metrics import accuracy_score, precision_score, recall_score, f1_score\n",
    "\n",
    "import os\n",
    "import pickle\n",
    "import seaborn as sns\n",
    "from sklearn import __version__ as sklearn_version\n",
    "from sklearn.compose import ColumnTransformer\n",
    "\n",
    "from sklearn.decomposition import PCA\n",
    "from sklearn.preprocessing import scale\n",
    "from sklearn.model_selection import cross_validate, GridSearchCV, learning_curve\n",
    "from sklearn.dummy import DummyRegressor, DummyClassifier\n",
    "from sklearn.linear_model import LinearRegression\n",
    "\n",
    "from sklearn.ensemble import RandomForestRegressor, RandomForestClassifier,\\\n",
    "                        GradientBoostingClassifier, GradientBoostingRegressor\n",
    "from sklearn.metrics import r2_score, mean_squared_error, mean_absolute_error\n",
    "from sklearn.metrics import accuracy_score, precision_score,recall_score, f1_score,\\\n",
    "                                                        multilabel_confusion_matrix\n",
    "\n",
    "from sklearn.pipeline import make_pipeline\n",
    "from sklearn.impute import SimpleImputer\n",
    "from sklearn.feature_selection import SelectKBest, f_regression\n",
    "import datetime\n",
    "\n"
   ]
  },
  {
   "cell_type": "markdown",
   "id": "19b5ad00",
   "metadata": {},
   "source": [
    "## 3.4 Load The Data <a id='34-load-the-data'></a>"
   ]
  },
  {
   "cell_type": "code",
   "execution_count": 2,
   "id": "f19e27f3",
   "metadata": {},
   "outputs": [],
   "source": [
    "# Storing file path in variable and then using pd.read_csv() to load the data as a dataframe into crimeData\n",
    "\n",
    "dataFilePath = \"/Users/frankyaraujo/Development/Springboard_Main/Capstone Two/\\\n",
    "Springboard-Capstone-Two/src/data/2010-2023 Crime_Traffic_Collisions_Data_R2 .csv\"\n",
    "crimedf = pd.read_csv(dataFilePath, low_memory = False)"
   ]
  },
  {
   "cell_type": "code",
   "execution_count": 18,
   "id": "a917ccdd",
   "metadata": {},
   "outputs": [
    {
     "data": {
      "text/plain": [
       "array(['SEX OFFENDER REGISTRANT OUT OF COMPLIANCE',\n",
       "       'BATTERY WITH SEXUAL CONTACT', 'TRESPASSING',\n",
       "       'DISTURBING THE PEACE',\n",
       "       'SEX,UNLAWFUL(INC MUTUAL CONSENT, PENETRATION W/ FRGN OBJ',\n",
       "       'CRM AGNST CHLD (13 OR UNDER) (14-15 & SUSP 10 YRS OLDER)',\n",
       "       'SEXUAL PENETRATION W/FOREIGN OBJECT', 'FAILURE TO YIELD',\n",
       "       'INDECENT EXPOSURE', 'ORAL COPULATION',\n",
       "       'SODOMY/SEXUAL CONTACT B/W PENIS OF ONE PERS TO ANUS OTH',\n",
       "       'CHILD ANNOYING (17YRS & UNDER)', 'PIMPING',\n",
       "       'HUMAN TRAFFICKING - COMMERCIAL SEX ACTS', 'CHILD PORNOGRAPHY',\n",
       "       'PANDERING', 'DISRUPT SCHOOL', 'DRUGS, TO A MINOR',\n",
       "       'CHILD ABANDONMENT',\n",
       "       'BEASTIALITY, CRIME AGAINST NATURE SEXUAL ASSLT WITH ANIM',\n",
       "       'FAILURE TO DISPERSE',\n",
       "       'INCEST (SEXUAL ACTS BETWEEN BLOOD RELATIVES)', 'INCITING A RIOT'],\n",
       "      dtype=object)"
      ]
     },
     "execution_count": 18,
     "metadata": {},
     "output_type": "execute_result"
    }
   ],
   "source": [
    "crimedf[(crimedf[\"Crime Code\"]<900) & (crimedf[\"Crime Code\"]>799)]\\\n",
    "[\"Crime Code Description\"].unique()"
   ]
  },
  {
   "cell_type": "code",
   "execution_count": 4,
   "id": "55b2be92",
   "metadata": {
    "scrolled": false
   },
   "outputs": [
    {
     "data": {
      "text/html": [
       "<div>\n",
       "<style scoped>\n",
       "    .dataframe tbody tr th:only-of-type {\n",
       "        vertical-align: middle;\n",
       "    }\n",
       "\n",
       "    .dataframe tbody tr th {\n",
       "        vertical-align: top;\n",
       "    }\n",
       "\n",
       "    .dataframe thead th {\n",
       "        text-align: right;\n",
       "    }\n",
       "</style>\n",
       "<table border=\"1\" class=\"dataframe\">\n",
       "  <thead>\n",
       "    <tr style=\"text-align: right;\">\n",
       "      <th></th>\n",
       "      <th>Unnamed: 0</th>\n",
       "      <th>DR Number</th>\n",
       "      <th>Date Reported</th>\n",
       "      <th>Date Occurred</th>\n",
       "      <th>Time Occurred</th>\n",
       "      <th>Area ID</th>\n",
       "      <th>Area Name</th>\n",
       "      <th>Reporting District</th>\n",
       "      <th>Crime Code</th>\n",
       "      <th>Crime Code Description</th>\n",
       "      <th>...</th>\n",
       "      <th>Status</th>\n",
       "      <th>Status Desc</th>\n",
       "      <th>Crm Cd 1</th>\n",
       "      <th>Crm Cd 2</th>\n",
       "      <th>Crm Cd 3</th>\n",
       "      <th>Crm Cd 4</th>\n",
       "      <th>Address</th>\n",
       "      <th>Cross Street</th>\n",
       "      <th>LAT</th>\n",
       "      <th>LON</th>\n",
       "    </tr>\n",
       "  </thead>\n",
       "  <tbody>\n",
       "    <tr>\n",
       "      <th>0</th>\n",
       "      <td>0</td>\n",
       "      <td>10304468</td>\n",
       "      <td>2020-01-08</td>\n",
       "      <td>2020-01-08</td>\n",
       "      <td>2230</td>\n",
       "      <td>3</td>\n",
       "      <td>Southwest</td>\n",
       "      <td>377</td>\n",
       "      <td>624</td>\n",
       "      <td>BATTERY - SIMPLE ASSAULT</td>\n",
       "      <td>...</td>\n",
       "      <td>AO</td>\n",
       "      <td>Adult Other</td>\n",
       "      <td>624.0</td>\n",
       "      <td>NaN</td>\n",
       "      <td>NaN</td>\n",
       "      <td>NaN</td>\n",
       "      <td>1100 W  39TH                         PL</td>\n",
       "      <td>NaN</td>\n",
       "      <td>34.0141</td>\n",
       "      <td>-118.2978</td>\n",
       "    </tr>\n",
       "    <tr>\n",
       "      <th>1</th>\n",
       "      <td>1</td>\n",
       "      <td>190101086</td>\n",
       "      <td>2020-01-02</td>\n",
       "      <td>2020-01-01</td>\n",
       "      <td>330</td>\n",
       "      <td>1</td>\n",
       "      <td>Central</td>\n",
       "      <td>163</td>\n",
       "      <td>624</td>\n",
       "      <td>BATTERY - SIMPLE ASSAULT</td>\n",
       "      <td>...</td>\n",
       "      <td>IC</td>\n",
       "      <td>Invest Cont</td>\n",
       "      <td>624.0</td>\n",
       "      <td>NaN</td>\n",
       "      <td>NaN</td>\n",
       "      <td>NaN</td>\n",
       "      <td>700 S  HILL                         ST</td>\n",
       "      <td>NaN</td>\n",
       "      <td>34.0459</td>\n",
       "      <td>-118.2545</td>\n",
       "    </tr>\n",
       "    <tr>\n",
       "      <th>2</th>\n",
       "      <td>2</td>\n",
       "      <td>200110444</td>\n",
       "      <td>2020-04-14</td>\n",
       "      <td>2020-02-13</td>\n",
       "      <td>1200</td>\n",
       "      <td>1</td>\n",
       "      <td>Central</td>\n",
       "      <td>155</td>\n",
       "      <td>845</td>\n",
       "      <td>SEX OFFENDER REGISTRANT OUT OF COMPLIANCE</td>\n",
       "      <td>...</td>\n",
       "      <td>AA</td>\n",
       "      <td>Adult Arrest</td>\n",
       "      <td>845.0</td>\n",
       "      <td>NaN</td>\n",
       "      <td>NaN</td>\n",
       "      <td>NaN</td>\n",
       "      <td>200 E  6TH                          ST</td>\n",
       "      <td>NaN</td>\n",
       "      <td>34.0448</td>\n",
       "      <td>-118.2474</td>\n",
       "    </tr>\n",
       "    <tr>\n",
       "      <th>3</th>\n",
       "      <td>3</td>\n",
       "      <td>191501505</td>\n",
       "      <td>2020-01-01</td>\n",
       "      <td>2020-01-01</td>\n",
       "      <td>1730</td>\n",
       "      <td>15</td>\n",
       "      <td>N Hollywood</td>\n",
       "      <td>1543</td>\n",
       "      <td>745</td>\n",
       "      <td>VANDALISM - MISDEAMEANOR ($399 OR UNDER)</td>\n",
       "      <td>...</td>\n",
       "      <td>IC</td>\n",
       "      <td>Invest Cont</td>\n",
       "      <td>745.0</td>\n",
       "      <td>998.0</td>\n",
       "      <td>NaN</td>\n",
       "      <td>NaN</td>\n",
       "      <td>5400    CORTEEN                      PL</td>\n",
       "      <td>NaN</td>\n",
       "      <td>34.1685</td>\n",
       "      <td>-118.4019</td>\n",
       "    </tr>\n",
       "    <tr>\n",
       "      <th>4</th>\n",
       "      <td>4</td>\n",
       "      <td>191921269</td>\n",
       "      <td>2020-01-01</td>\n",
       "      <td>2020-01-01</td>\n",
       "      <td>415</td>\n",
       "      <td>19</td>\n",
       "      <td>Mission</td>\n",
       "      <td>1998</td>\n",
       "      <td>740</td>\n",
       "      <td>VANDALISM - FELONY ($400 &amp; OVER, ALL CHURCH VA...</td>\n",
       "      <td>...</td>\n",
       "      <td>IC</td>\n",
       "      <td>Invest Cont</td>\n",
       "      <td>740.0</td>\n",
       "      <td>NaN</td>\n",
       "      <td>NaN</td>\n",
       "      <td>NaN</td>\n",
       "      <td>14400    TITUS                        ST</td>\n",
       "      <td>NaN</td>\n",
       "      <td>34.2198</td>\n",
       "      <td>-118.4468</td>\n",
       "    </tr>\n",
       "  </tbody>\n",
       "</table>\n",
       "<p>5 rows × 28 columns</p>\n",
       "</div>"
      ],
      "text/plain": [
       "   Unnamed: 0  DR Number Date Reported Date Occurred  Time Occurred  Area ID  \\\n",
       "0           0   10304468    2020-01-08    2020-01-08           2230        3   \n",
       "1           1  190101086    2020-01-02    2020-01-01            330        1   \n",
       "2           2  200110444    2020-04-14    2020-02-13           1200        1   \n",
       "3           3  191501505    2020-01-01    2020-01-01           1730       15   \n",
       "4           4  191921269    2020-01-01    2020-01-01            415       19   \n",
       "\n",
       "     Area Name  Reporting District  Crime Code  \\\n",
       "0    Southwest                 377         624   \n",
       "1      Central                 163         624   \n",
       "2      Central                 155         845   \n",
       "3  N Hollywood                1543         745   \n",
       "4      Mission                1998         740   \n",
       "\n",
       "                              Crime Code Description  ... Status  \\\n",
       "0                           BATTERY - SIMPLE ASSAULT  ...     AO   \n",
       "1                           BATTERY - SIMPLE ASSAULT  ...     IC   \n",
       "2          SEX OFFENDER REGISTRANT OUT OF COMPLIANCE  ...     AA   \n",
       "3           VANDALISM - MISDEAMEANOR ($399 OR UNDER)  ...     IC   \n",
       "4  VANDALISM - FELONY ($400 & OVER, ALL CHURCH VA...  ...     IC   \n",
       "\n",
       "    Status Desc Crm Cd 1 Crm Cd 2  Crm Cd 3 Crm Cd 4  \\\n",
       "0   Adult Other    624.0      NaN       NaN      NaN   \n",
       "1   Invest Cont    624.0      NaN       NaN      NaN   \n",
       "2  Adult Arrest    845.0      NaN       NaN      NaN   \n",
       "3   Invest Cont    745.0    998.0       NaN      NaN   \n",
       "4   Invest Cont    740.0      NaN       NaN      NaN   \n",
       "\n",
       "                                    Address Cross Street      LAT       LON  \n",
       "0   1100 W  39TH                         PL          NaN  34.0141 -118.2978  \n",
       "1    700 S  HILL                         ST          NaN  34.0459 -118.2545  \n",
       "2    200 E  6TH                          ST          NaN  34.0448 -118.2474  \n",
       "3   5400    CORTEEN                      PL          NaN  34.1685 -118.4019  \n",
       "4  14400    TITUS                        ST          NaN  34.2198 -118.4468  \n",
       "\n",
       "[5 rows x 28 columns]"
      ]
     },
     "execution_count": 4,
     "metadata": {},
     "output_type": "execute_result"
    }
   ],
   "source": [
    "# Review of the data using .head() and .info()\n",
    "\n",
    "crimedf.head()"
   ]
  },
  {
   "cell_type": "markdown",
   "id": "4d80b4ac",
   "metadata": {},
   "source": [
    "## 3.5 Data Cleaning <a id='3.5_Data_cleaning'></a>"
   ]
  },
  {
   "cell_type": "markdown",
   "id": "3893b5fc",
   "metadata": {},
   "source": [
    "The dataset is still missing values and potentially useless or redundant features so this section will focus on cleaning the data. In addition to this, the categorical variables will be reviewed to determine the most appropriate encoding technique."
   ]
  },
  {
   "cell_type": "code",
   "execution_count": 5,
   "id": "270a5f3f",
   "metadata": {
    "scrolled": false
   },
   "outputs": [
    {
     "data": {
      "text/html": [
       "<div>\n",
       "<style scoped>\n",
       "    .dataframe tbody tr th:only-of-type {\n",
       "        vertical-align: middle;\n",
       "    }\n",
       "\n",
       "    .dataframe tbody tr th {\n",
       "        vertical-align: top;\n",
       "    }\n",
       "\n",
       "    .dataframe thead th {\n",
       "        text-align: right;\n",
       "    }\n",
       "</style>\n",
       "<table border=\"1\" class=\"dataframe\">\n",
       "  <thead>\n",
       "    <tr style=\"text-align: right;\">\n",
       "      <th></th>\n",
       "      <th>0</th>\n",
       "    </tr>\n",
       "  </thead>\n",
       "  <tbody>\n",
       "    <tr>\n",
       "      <th>Crm Cd 4</th>\n",
       "      <td>99.995857</td>\n",
       "    </tr>\n",
       "    <tr>\n",
       "      <th>Crm Cd 3</th>\n",
       "      <td>99.860526</td>\n",
       "    </tr>\n",
       "    <tr>\n",
       "      <th>Crm Cd 2</th>\n",
       "      <td>95.819115</td>\n",
       "    </tr>\n",
       "    <tr>\n",
       "      <th>Weapon Desc</th>\n",
       "      <td>80.289574</td>\n",
       "    </tr>\n",
       "    <tr>\n",
       "      <th>Weapon Used Cd</th>\n",
       "      <td>80.289574</td>\n",
       "    </tr>\n",
       "    <tr>\n",
       "      <th>Cross Street</th>\n",
       "      <td>49.635543</td>\n",
       "    </tr>\n",
       "    <tr>\n",
       "      <th>Crm Cd 1</th>\n",
       "      <td>43.324096</td>\n",
       "    </tr>\n",
       "    <tr>\n",
       "      <th>Status Desc</th>\n",
       "      <td>43.323369</td>\n",
       "    </tr>\n",
       "    <tr>\n",
       "      <th>Status</th>\n",
       "      <td>43.323369</td>\n",
       "    </tr>\n",
       "    <tr>\n",
       "      <th>Victim Age</th>\n",
       "      <td>20.101084</td>\n",
       "    </tr>\n",
       "    <tr>\n",
       "      <th>MO Codes</th>\n",
       "      <td>14.124405</td>\n",
       "    </tr>\n",
       "    <tr>\n",
       "      <th>Premise Description</th>\n",
       "      <td>0.103279</td>\n",
       "    </tr>\n",
       "    <tr>\n",
       "      <th>Premise Code</th>\n",
       "      <td>0.070355</td>\n",
       "    </tr>\n",
       "    <tr>\n",
       "      <th>LAT</th>\n",
       "      <td>0.000000</td>\n",
       "    </tr>\n",
       "    <tr>\n",
       "      <th>Address</th>\n",
       "      <td>0.000000</td>\n",
       "    </tr>\n",
       "    <tr>\n",
       "      <th>Unnamed: 0</th>\n",
       "      <td>0.000000</td>\n",
       "    </tr>\n",
       "    <tr>\n",
       "      <th>DR Number</th>\n",
       "      <td>0.000000</td>\n",
       "    </tr>\n",
       "    <tr>\n",
       "      <th>Victim Descent</th>\n",
       "      <td>0.000000</td>\n",
       "    </tr>\n",
       "    <tr>\n",
       "      <th>Victim Sex</th>\n",
       "      <td>0.000000</td>\n",
       "    </tr>\n",
       "    <tr>\n",
       "      <th>Crime Code Description</th>\n",
       "      <td>0.000000</td>\n",
       "    </tr>\n",
       "    <tr>\n",
       "      <th>Crime Code</th>\n",
       "      <td>0.000000</td>\n",
       "    </tr>\n",
       "    <tr>\n",
       "      <th>Reporting District</th>\n",
       "      <td>0.000000</td>\n",
       "    </tr>\n",
       "    <tr>\n",
       "      <th>Area Name</th>\n",
       "      <td>0.000000</td>\n",
       "    </tr>\n",
       "    <tr>\n",
       "      <th>Area ID</th>\n",
       "      <td>0.000000</td>\n",
       "    </tr>\n",
       "    <tr>\n",
       "      <th>Time Occurred</th>\n",
       "      <td>0.000000</td>\n",
       "    </tr>\n",
       "    <tr>\n",
       "      <th>Date Occurred</th>\n",
       "      <td>0.000000</td>\n",
       "    </tr>\n",
       "    <tr>\n",
       "      <th>Date Reported</th>\n",
       "      <td>0.000000</td>\n",
       "    </tr>\n",
       "    <tr>\n",
       "      <th>LON</th>\n",
       "      <td>0.000000</td>\n",
       "    </tr>\n",
       "  </tbody>\n",
       "</table>\n",
       "</div>"
      ],
      "text/plain": [
       "                                0\n",
       "Crm Cd 4                99.995857\n",
       "Crm Cd 3                99.860526\n",
       "Crm Cd 2                95.819115\n",
       "Weapon Desc             80.289574\n",
       "Weapon Used Cd          80.289574\n",
       "Cross Street            49.635543\n",
       "Crm Cd 1                43.324096\n",
       "Status Desc             43.323369\n",
       "Status                  43.323369\n",
       "Victim Age              20.101084\n",
       "MO Codes                14.124405\n",
       "Premise Description      0.103279\n",
       "Premise Code             0.070355\n",
       "LAT                      0.000000\n",
       "Address                  0.000000\n",
       "Unnamed: 0               0.000000\n",
       "DR Number                0.000000\n",
       "Victim Descent           0.000000\n",
       "Victim Sex               0.000000\n",
       "Crime Code Description   0.000000\n",
       "Crime Code               0.000000\n",
       "Reporting District       0.000000\n",
       "Area Name                0.000000\n",
       "Area ID                  0.000000\n",
       "Time Occurred            0.000000\n",
       "Date Occurred            0.000000\n",
       "Date Reported            0.000000\n",
       "LON                      0.000000"
      ]
     },
     "execution_count": 5,
     "metadata": {},
     "output_type": "execute_result"
    }
   ],
   "source": [
    "# look at the missing values \n",
    "\n",
    "pd.DataFrame(crimedf.isnull().sum()/len(crimedf)*100).sort_values(by=0, ascending=False)"
   ]
  },
  {
   "cell_type": "markdown",
   "id": "506d4188",
   "metadata": {},
   "source": [
    "- Over 90% of Crm Cd 2,3 and 4 are missing so those can be dropped.\n",
    "\n",
    "- About 80% of the 'Weapon Used Cd' and 'Weapon Desc' columns is missing so that can be dropped. Also, there is a 'Weapon Desc' variable that holds most of this information.  "
   ]
  },
  {
   "cell_type": "code",
   "execution_count": 6,
   "id": "a390fe5f",
   "metadata": {
    "scrolled": true
   },
   "outputs": [],
   "source": [
    "# dropping columns with the majority of information missing \n",
    "\n",
    "crimedf.drop(columns=[\"Crm Cd 4\",\n",
    "\"Crm Cd 3\",\n",
    "\"Crm Cd 2\",\n",
    "\"Weapon Desc\",\n",
    "\"Weapon Used Cd\"], inplace=True)"
   ]
  },
  {
   "cell_type": "markdown",
   "id": "c44989e2",
   "metadata": {},
   "source": [
    "<a id='351-imputing-missing-values'></a>\n",
    "### 3.5.1 Imputing/Removing Missing Values\n"
   ]
  },
  {
   "cell_type": "markdown",
   "id": "6dce0cf8",
   "metadata": {},
   "source": [
    "The following features have missing values: \n",
    "- Cross Street, 49% Missing\n",
    "- Crm Cd 1, 43% Missing\n",
    "- Status Desc, 43% Missing\n",
    "- Victim Age, 20% Missing\n",
    "- MO Codes, 14% Missing\n",
    "- Premise Description, <1% Missing\n",
    "- Premise Code, <1% Missing\n",
    "\n",
    "Note: Victim Age is a target variable and will be excluded from imputation "
   ]
  },
  {
   "cell_type": "code",
   "execution_count": 7,
   "id": "2ee33baa",
   "metadata": {},
   "outputs": [
    {
     "data": {
      "text/plain": [
       "10                                   OLIVE\n",
       "17                                 VERMONT\n",
       "19                                    HILL\n",
       "27                             LOS ANGELES\n",
       "34                              SAN JULIAN\n",
       "                        ...               \n",
       "1375876    SATICOY                      ST\n",
       "1375877    GUTHRIE                      AV\n",
       "1375878    FULTON                       AV\n",
       "1375879    OXNARD                       ST\n",
       "1375880    LA TUNA CANYON               RD\n",
       "Name: Cross Street, Length: 692955, dtype: object"
      ]
     },
     "execution_count": 7,
     "metadata": {},
     "output_type": "execute_result"
    }
   ],
   "source": [
    "# quick look at cross street values\n",
    "crimedf[crimedf[\"Cross Street\"].notna()][\"Cross Street\"]"
   ]
  },
  {
   "cell_type": "markdown",
   "id": "00e72dba",
   "metadata": {},
   "source": [
    "This is categorical feature and LAT and LON have no missing values so there already exists features with information on location of the crime. Cross Street will be be dropped. \n",
    "\n",
    "Also Status and Status Desc are not both needed so Status will be dropped. "
   ]
  },
  {
   "cell_type": "code",
   "execution_count": 8,
   "id": "0370de83",
   "metadata": {},
   "outputs": [],
   "source": [
    "    # dropping column\n",
    "crimedf.drop(columns=[\"Cross Street\",\"Status\"], inplace=True)"
   ]
  },
  {
   "cell_type": "code",
   "execution_count": 9,
   "id": "344f0920",
   "metadata": {
    "scrolled": true
   },
   "outputs": [
    {
     "data": {
      "text/plain": [
       "Invest Cont     624160\n",
       "Adult Other      83749\n",
       "Adult Arrest     68087\n",
       "Juv Arrest        2490\n",
       "Juv Other         1314\n",
       "UNK                  3\n",
       "Name: Status Desc, dtype: int64"
      ]
     },
     "execution_count": 9,
     "metadata": {},
     "output_type": "execute_result"
    }
   ],
   "source": [
    "# Look at Status Desc values\n",
    "crimedf[\"Status Desc\"].value_counts()"
   ]
  },
  {
   "cell_type": "code",
   "execution_count": 10,
   "id": "c046957e",
   "metadata": {},
   "outputs": [],
   "source": [
    "# Fill missing values with 'UNK' as that is a option for a label\n",
    "crimedf[\"Status Desc\"].fillna(\"UNK\", inplace=True)"
   ]
  },
  {
   "cell_type": "code",
   "execution_count": 11,
   "id": "111fda90",
   "metadata": {},
   "outputs": [
    {
     "data": {
      "text/plain": [
       "array([624., 845., 745., 740., 121., 442., 946., 341., 330., 930., 648.,\n",
       "       626., 440., 354., 210., 230., 310., 510., 420., 761., 236., 662.,\n",
       "       350., 860., 480., 623., 956., 900., 888., 331., 901., 886., 421.,\n",
       "       647., 940., 810., 922., 812., 220., 625., 755., 649., 434., 815.,\n",
       "       251., 320., 890., 850., 668., 902., 664., 920., 343., 437., 753.,\n",
       "       928., 910., 760., 762., 661., 351., 821., 237., 903., 813., 666.,\n",
       "       820., 627., 805., 763., 441., 122., 443., 450., 520., 410., 352.,\n",
       "       670., 951., 660., 654., 250., 110., 652., 933., 950., 231., 345.,\n",
       "       822., 814., 932., 622., 471., 235., 470., 921., 906., 433., 651.,\n",
       "       806., 943., 653., 436., 949., 446., 113., 487., 438., 451., 521.,\n",
       "       439., 485., 944., 954., 756., 942.,  nan, 473., 347., 435., 880.,\n",
       "       444., 475., 474., 931., 865., 349., 430., 353., 452., 870., 522.,\n",
       "       924., 840., 948., 884., 904., 830., 432., 882., 445.])"
      ]
     },
     "execution_count": 11,
     "metadata": {},
     "output_type": "execute_result"
    }
   ],
   "source": [
    "# Look at Crm Cd 1\n",
    "crimedf[crimedf[\"Crm Cd 1\"].notna()][\"Crm Cd 1\"]\n",
    "crimedf[\"Crm Cd 1\"].unique()"
   ]
  },
  {
   "cell_type": "markdown",
   "id": "3b5a8158",
   "metadata": {},
   "source": [
    "When looking at the data source - Crime Code is the same as Crm Cd 1 so this feature can be dropped. "
   ]
  },
  {
   "cell_type": "code",
   "execution_count": 12,
   "id": "f912de64",
   "metadata": {},
   "outputs": [],
   "source": [
    "    # dropping Crm Cd 1\n",
    "crimedf.drop(columns=\"Crm Cd 1\", inplace=True)"
   ]
  },
  {
   "cell_type": "code",
   "execution_count": 13,
   "id": "1337b94a",
   "metadata": {},
   "outputs": [
    {
     "data": {
      "text/html": [
       "<div>\n",
       "<style scoped>\n",
       "    .dataframe tbody tr th:only-of-type {\n",
       "        vertical-align: middle;\n",
       "    }\n",
       "\n",
       "    .dataframe tbody tr th {\n",
       "        vertical-align: top;\n",
       "    }\n",
       "\n",
       "    .dataframe thead th {\n",
       "        text-align: right;\n",
       "    }\n",
       "</style>\n",
       "<table border=\"1\" class=\"dataframe\">\n",
       "  <thead>\n",
       "    <tr style=\"text-align: right;\">\n",
       "      <th></th>\n",
       "      <th>MO Codes</th>\n",
       "      <th>Premise Description</th>\n",
       "      <th>Premise Code</th>\n",
       "    </tr>\n",
       "  </thead>\n",
       "  <tbody>\n",
       "    <tr>\n",
       "      <th>377002</th>\n",
       "      <td>0100</td>\n",
       "      <td>SINGLE FAMILY DWELLING</td>\n",
       "      <td>501.0</td>\n",
       "    </tr>\n",
       "    <tr>\n",
       "      <th>638898</th>\n",
       "      <td>0100</td>\n",
       "      <td>SINGLE FAMILY DWELLING</td>\n",
       "      <td>501.0</td>\n",
       "    </tr>\n",
       "    <tr>\n",
       "      <th>419782</th>\n",
       "      <td>0100</td>\n",
       "      <td>CYBERSPACE</td>\n",
       "      <td>750.0</td>\n",
       "    </tr>\n",
       "    <tr>\n",
       "      <th>560308</th>\n",
       "      <td>0100</td>\n",
       "      <td>SINGLE FAMILY DWELLING</td>\n",
       "      <td>501.0</td>\n",
       "    </tr>\n",
       "    <tr>\n",
       "      <th>182583</th>\n",
       "      <td>0100</td>\n",
       "      <td>SINGLE FAMILY DWELLING</td>\n",
       "      <td>501.0</td>\n",
       "    </tr>\n",
       "    <tr>\n",
       "      <th>726725</th>\n",
       "      <td>0100</td>\n",
       "      <td>OTHER RESIDENCE</td>\n",
       "      <td>504.0</td>\n",
       "    </tr>\n",
       "    <tr>\n",
       "      <th>38305</th>\n",
       "      <td>0100</td>\n",
       "      <td>MULTI-UNIT DWELLING (APARTMENT, DUPLEX, ETC)</td>\n",
       "      <td>502.0</td>\n",
       "    </tr>\n",
       "    <tr>\n",
       "      <th>118566</th>\n",
       "      <td>0100</td>\n",
       "      <td>MULTI-UNIT DWELLING (APARTMENT, DUPLEX, ETC)</td>\n",
       "      <td>502.0</td>\n",
       "    </tr>\n",
       "    <tr>\n",
       "      <th>182529</th>\n",
       "      <td>0100</td>\n",
       "      <td>SINGLE FAMILY DWELLING</td>\n",
       "      <td>501.0</td>\n",
       "    </tr>\n",
       "    <tr>\n",
       "      <th>560383</th>\n",
       "      <td>0100</td>\n",
       "      <td>MULTI-UNIT DWELLING (APARTMENT, DUPLEX, ETC)</td>\n",
       "      <td>502.0</td>\n",
       "    </tr>\n",
       "  </tbody>\n",
       "</table>\n",
       "</div>"
      ],
      "text/plain": [
       "       MO Codes                           Premise Description  Premise Code\n",
       "377002     0100                        SINGLE FAMILY DWELLING         501.0\n",
       "638898     0100                        SINGLE FAMILY DWELLING         501.0\n",
       "419782     0100                                    CYBERSPACE         750.0\n",
       "560308     0100                        SINGLE FAMILY DWELLING         501.0\n",
       "182583     0100                        SINGLE FAMILY DWELLING         501.0\n",
       "726725     0100                               OTHER RESIDENCE         504.0\n",
       "38305      0100  MULTI-UNIT DWELLING (APARTMENT, DUPLEX, ETC)         502.0\n",
       "118566     0100  MULTI-UNIT DWELLING (APARTMENT, DUPLEX, ETC)         502.0\n",
       "182529     0100                        SINGLE FAMILY DWELLING         501.0\n",
       "560383     0100  MULTI-UNIT DWELLING (APARTMENT, DUPLEX, ETC)         502.0"
      ]
     },
     "execution_count": 13,
     "metadata": {},
     "output_type": "execute_result"
    }
   ],
   "source": [
    "# Finally -> MO Codes, Premise Description, and Premise Code\n",
    "crimedf.loc[:,[\"MO Codes\", \"Premise Description\", \"Premise Code\"]].\\\n",
    "sort_values(by=\"MO Codes\").head(10)"
   ]
  },
  {
   "cell_type": "markdown",
   "id": "67a5db04",
   "metadata": {},
   "source": [
    "Premise Description and Premise Code will have the same information so both features are not needed. The Premise Code can be dropped as the Premise Description would be easier to extract meaning from the data. There is less than 1% of data missing dropping the rows would be the easiest way to get past this. \n",
    "\n",
    "Lastly, about 40% of the MO Codes are missing. There may be some correlation between MO Codes and Premise Codes/Descriptions - the next steps would be to determine if imputation can be done based on the Premise features. \n",
    "\n",
    "MO Codes values are object types whereas Premise Codes are float. Vectorizing MO Codes will be necessary before determining correlation. "
   ]
  },
  {
   "cell_type": "code",
   "execution_count": 14,
   "id": "3553a4b5",
   "metadata": {},
   "outputs": [],
   "source": [
    "# Exploration of the MO Codes will be done before dropping any more feature\n",
    "\n",
    "mo_codes_obj = crimedf[\"MO Codes\"]\n",
    "mo_codes_obj.fillna(\"\", inplace=True) # fill with empty for now \n",
    "mo_codes_obj_sep = [i.split(' ') for i in mo_codes_obj]\n",
    "\n",
    "mo_code_df = pd.DataFrame(mo_codes_obj_sep).fillna(\"\")"
   ]
  },
  {
   "cell_type": "code",
   "execution_count": 15,
   "id": "90dfbc72",
   "metadata": {},
   "outputs": [],
   "source": [
    "# pulling all unique values per mo code column created previously\n",
    "all_mo_codes=[]\n",
    "for i in range(len(mo_code_df.columns)):\n",
    "    all_mo_codes.extend(mo_code_df[i].unique())"
   ]
  },
  {
   "cell_type": "code",
   "execution_count": 16,
   "id": "1c66c6da",
   "metadata": {},
   "outputs": [
    {
     "data": {
      "text/plain": [
       "760"
      ]
     },
     "execution_count": 16,
     "metadata": {},
     "output_type": "execute_result"
    }
   ],
   "source": [
    "# getting the unique values from the list of all mo codes created previously\n",
    "unique_mo_codes = set(all_mo_codes)\n",
    "len(unique_mo_codes)"
   ]
  },
  {
   "cell_type": "markdown",
   "id": "7c2ec839",
   "metadata": {},
   "source": [
    "It looks like there are 760 unique mo codes so one-hot encoding would create up 760 dimensions so this will be avoided. Determining correlation between MO Codes and Premise Codes will require a more involved approach and here isn't much value in pursuing this as they are only two of many features.\n",
    "\n",
    "The approach that will be taken is that the missing values in MO Codes will be imputed with empty strings and later this feature will be vectorized. "
   ]
  },
  {
   "cell_type": "code",
   "execution_count": 17,
   "id": "e013341c",
   "metadata": {},
   "outputs": [],
   "source": [
    "# the column was filled with empty strings above so it just needs to replace the original col\n",
    "crimedf[\"MO Codes\"] = mo_codes_obj"
   ]
  },
  {
   "cell_type": "code",
   "execution_count": 18,
   "id": "54c65538",
   "metadata": {},
   "outputs": [],
   "source": [
    "# train_test_split will not run with missing values so the rest will be imputed with 'unknown'\n",
    "from sklearn.impute import SimpleImputer\n",
    "\n",
    "num_imputer = SimpleImputer(strategy='mean')\n",
    "df_victim_age = num_imputer.fit_transform(np.array(crimedf[\"Victim Age\"]).reshape(-1, 1))\n",
    "\n",
    "cat_imputer =  SimpleImputer(strategy='constant', fill_value=\"unknown\")\n",
    "df_imputed = cat_imputer.fit_transform(crimedf.drop(columns=\"Victim Age\"))\n"
   ]
  },
  {
   "cell_type": "code",
   "execution_count": 19,
   "id": "ddc5058b",
   "metadata": {},
   "outputs": [],
   "source": [
    "# ensuring this feature keeps its name\n",
    "df_victim_age = pd.DataFrame(df_victim_age,columns=[\"Victim Age\"])"
   ]
  },
  {
   "cell_type": "code",
   "execution_count": 20,
   "id": "12683c8a",
   "metadata": {},
   "outputs": [],
   "source": [
    "# ensuring these featurea keep their names\n",
    "df_imputed = pd.DataFrame(df_imputed,columns=crimedf.drop(columns=\"Victim Age\").columns)"
   ]
  },
  {
   "cell_type": "code",
   "execution_count": 21,
   "id": "c20315fd",
   "metadata": {},
   "outputs": [],
   "source": [
    "# dropping columns with no information\n",
    "df_imputed.drop(columns=\"Unnamed: 0\", inplace=True)"
   ]
  },
  {
   "cell_type": "code",
   "execution_count": 22,
   "id": "d7ea2084",
   "metadata": {},
   "outputs": [],
   "source": [
    "# concatenating dataframes after imputing\n",
    "crime_df = pd.concat([df_imputed,df_victim_age], ignore_index=False, axis=1)"
   ]
  },
  {
   "cell_type": "code",
   "execution_count": 23,
   "id": "1a917e56",
   "metadata": {
    "scrolled": true
   },
   "outputs": [
    {
     "data": {
      "text/html": [
       "<div>\n",
       "<style scoped>\n",
       "    .dataframe tbody tr th:only-of-type {\n",
       "        vertical-align: middle;\n",
       "    }\n",
       "\n",
       "    .dataframe tbody tr th {\n",
       "        vertical-align: top;\n",
       "    }\n",
       "\n",
       "    .dataframe thead th {\n",
       "        text-align: right;\n",
       "    }\n",
       "</style>\n",
       "<table border=\"1\" class=\"dataframe\">\n",
       "  <thead>\n",
       "    <tr style=\"text-align: right;\">\n",
       "      <th></th>\n",
       "      <th>DR Number</th>\n",
       "      <th>Date Reported</th>\n",
       "      <th>Date Occurred</th>\n",
       "      <th>Time Occurred</th>\n",
       "      <th>Area ID</th>\n",
       "      <th>Area Name</th>\n",
       "      <th>Reporting District</th>\n",
       "      <th>Crime Code</th>\n",
       "      <th>Crime Code Description</th>\n",
       "      <th>MO Codes</th>\n",
       "      <th>Victim Sex</th>\n",
       "      <th>Victim Descent</th>\n",
       "      <th>Premise Code</th>\n",
       "      <th>Premise Description</th>\n",
       "      <th>Status Desc</th>\n",
       "      <th>Address</th>\n",
       "      <th>LAT</th>\n",
       "      <th>LON</th>\n",
       "      <th>Victim Age</th>\n",
       "    </tr>\n",
       "  </thead>\n",
       "  <tbody>\n",
       "    <tr>\n",
       "      <th>0</th>\n",
       "      <td>10304468</td>\n",
       "      <td>2020-01-08</td>\n",
       "      <td>2020-01-08</td>\n",
       "      <td>2230</td>\n",
       "      <td>3</td>\n",
       "      <td>Southwest</td>\n",
       "      <td>377</td>\n",
       "      <td>624</td>\n",
       "      <td>BATTERY - SIMPLE ASSAULT</td>\n",
       "      <td>0444 0913</td>\n",
       "      <td>F</td>\n",
       "      <td>Black</td>\n",
       "      <td>501.0</td>\n",
       "      <td>SINGLE FAMILY DWELLING</td>\n",
       "      <td>Adult Other</td>\n",
       "      <td>1100 W  39TH                         PL</td>\n",
       "      <td>34.0141</td>\n",
       "      <td>-118.2978</td>\n",
       "      <td>36.000000</td>\n",
       "    </tr>\n",
       "    <tr>\n",
       "      <th>1</th>\n",
       "      <td>190101086</td>\n",
       "      <td>2020-01-02</td>\n",
       "      <td>2020-01-01</td>\n",
       "      <td>330</td>\n",
       "      <td>1</td>\n",
       "      <td>Central</td>\n",
       "      <td>163</td>\n",
       "      <td>624</td>\n",
       "      <td>BATTERY - SIMPLE ASSAULT</td>\n",
       "      <td>0416 1822 1414</td>\n",
       "      <td>M</td>\n",
       "      <td>Hispanic/Latin/Mexican</td>\n",
       "      <td>102.0</td>\n",
       "      <td>SIDEWALK</td>\n",
       "      <td>Invest Cont</td>\n",
       "      <td>700 S  HILL                         ST</td>\n",
       "      <td>34.0459</td>\n",
       "      <td>-118.2545</td>\n",
       "      <td>25.000000</td>\n",
       "    </tr>\n",
       "    <tr>\n",
       "      <th>2</th>\n",
       "      <td>200110444</td>\n",
       "      <td>2020-04-14</td>\n",
       "      <td>2020-02-13</td>\n",
       "      <td>1200</td>\n",
       "      <td>1</td>\n",
       "      <td>Central</td>\n",
       "      <td>155</td>\n",
       "      <td>845</td>\n",
       "      <td>SEX OFFENDER REGISTRANT OUT OF COMPLIANCE</td>\n",
       "      <td>1501</td>\n",
       "      <td>X</td>\n",
       "      <td>Unknown</td>\n",
       "      <td>726.0</td>\n",
       "      <td>POLICE FACILITY</td>\n",
       "      <td>Adult Arrest</td>\n",
       "      <td>200 E  6TH                          ST</td>\n",
       "      <td>34.0448</td>\n",
       "      <td>-118.2474</td>\n",
       "      <td>40.387163</td>\n",
       "    </tr>\n",
       "    <tr>\n",
       "      <th>3</th>\n",
       "      <td>191501505</td>\n",
       "      <td>2020-01-01</td>\n",
       "      <td>2020-01-01</td>\n",
       "      <td>1730</td>\n",
       "      <td>15</td>\n",
       "      <td>N Hollywood</td>\n",
       "      <td>1543</td>\n",
       "      <td>745</td>\n",
       "      <td>VANDALISM - MISDEAMEANOR ($399 OR UNDER)</td>\n",
       "      <td>0329 1402</td>\n",
       "      <td>F</td>\n",
       "      <td>White</td>\n",
       "      <td>502.0</td>\n",
       "      <td>MULTI-UNIT DWELLING (APARTMENT, DUPLEX, ETC)</td>\n",
       "      <td>Invest Cont</td>\n",
       "      <td>5400    CORTEEN                      PL</td>\n",
       "      <td>34.1685</td>\n",
       "      <td>-118.4019</td>\n",
       "      <td>76.000000</td>\n",
       "    </tr>\n",
       "    <tr>\n",
       "      <th>4</th>\n",
       "      <td>191921269</td>\n",
       "      <td>2020-01-01</td>\n",
       "      <td>2020-01-01</td>\n",
       "      <td>415</td>\n",
       "      <td>19</td>\n",
       "      <td>Mission</td>\n",
       "      <td>1998</td>\n",
       "      <td>740</td>\n",
       "      <td>VANDALISM - FELONY ($400 &amp; OVER, ALL CHURCH VA...</td>\n",
       "      <td>0329</td>\n",
       "      <td>X</td>\n",
       "      <td>Unknown</td>\n",
       "      <td>409.0</td>\n",
       "      <td>BEAUTY SUPPLY STORE</td>\n",
       "      <td>Invest Cont</td>\n",
       "      <td>14400    TITUS                        ST</td>\n",
       "      <td>34.2198</td>\n",
       "      <td>-118.4468</td>\n",
       "      <td>31.000000</td>\n",
       "    </tr>\n",
       "  </tbody>\n",
       "</table>\n",
       "</div>"
      ],
      "text/plain": [
       "   DR Number Date Reported Date Occurred Time Occurred Area ID    Area Name  \\\n",
       "0   10304468    2020-01-08    2020-01-08          2230       3    Southwest   \n",
       "1  190101086    2020-01-02    2020-01-01           330       1      Central   \n",
       "2  200110444    2020-04-14    2020-02-13          1200       1      Central   \n",
       "3  191501505    2020-01-01    2020-01-01          1730      15  N Hollywood   \n",
       "4  191921269    2020-01-01    2020-01-01           415      19      Mission   \n",
       "\n",
       "  Reporting District Crime Code  \\\n",
       "0                377        624   \n",
       "1                163        624   \n",
       "2                155        845   \n",
       "3               1543        745   \n",
       "4               1998        740   \n",
       "\n",
       "                              Crime Code Description        MO Codes  \\\n",
       "0                           BATTERY - SIMPLE ASSAULT       0444 0913   \n",
       "1                           BATTERY - SIMPLE ASSAULT  0416 1822 1414   \n",
       "2          SEX OFFENDER REGISTRANT OUT OF COMPLIANCE            1501   \n",
       "3           VANDALISM - MISDEAMEANOR ($399 OR UNDER)       0329 1402   \n",
       "4  VANDALISM - FELONY ($400 & OVER, ALL CHURCH VA...            0329   \n",
       "\n",
       "  Victim Sex          Victim Descent Premise Code  \\\n",
       "0          F                   Black        501.0   \n",
       "1          M  Hispanic/Latin/Mexican        102.0   \n",
       "2          X                 Unknown        726.0   \n",
       "3          F                   White        502.0   \n",
       "4          X                 Unknown        409.0   \n",
       "\n",
       "                            Premise Description   Status Desc  \\\n",
       "0                        SINGLE FAMILY DWELLING   Adult Other   \n",
       "1                                      SIDEWALK   Invest Cont   \n",
       "2                               POLICE FACILITY  Adult Arrest   \n",
       "3  MULTI-UNIT DWELLING (APARTMENT, DUPLEX, ETC)   Invest Cont   \n",
       "4                           BEAUTY SUPPLY STORE   Invest Cont   \n",
       "\n",
       "                                    Address      LAT       LON  Victim Age  \n",
       "0   1100 W  39TH                         PL  34.0141 -118.2978   36.000000  \n",
       "1    700 S  HILL                         ST  34.0459 -118.2545   25.000000  \n",
       "2    200 E  6TH                          ST  34.0448 -118.2474   40.387163  \n",
       "3   5400    CORTEEN                      PL  34.1685 -118.4019   76.000000  \n",
       "4  14400    TITUS                        ST  34.2198 -118.4468   31.000000  "
      ]
     },
     "execution_count": 23,
     "metadata": {},
     "output_type": "execute_result"
    }
   ],
   "source": [
    "crime_df.head()"
   ]
  },
  {
   "cell_type": "code",
   "execution_count": 24,
   "id": "dd35c415",
   "metadata": {},
   "outputs": [],
   "source": [
    "# do not need Premise Code and Premise Description\n",
    "crime_df.drop(columns=\"Premise Code\", inplace=True)"
   ]
  },
  {
   "cell_type": "code",
   "execution_count": 25,
   "id": "e8cbcc07",
   "metadata": {
    "scrolled": true
   },
   "outputs": [
    {
     "data": {
      "text/plain": [
       "DR Number                 0\n",
       "Date Reported             0\n",
       "Date Occurred             0\n",
       "Time Occurred             0\n",
       "Area ID                   0\n",
       "Area Name                 0\n",
       "Reporting District        0\n",
       "Crime Code                0\n",
       "Crime Code Description    0\n",
       "MO Codes                  0\n",
       "Victim Sex                0\n",
       "Victim Descent            0\n",
       "Premise Description       0\n",
       "Status Desc               0\n",
       "Address                   0\n",
       "LAT                       0\n",
       "LON                       0\n",
       "Victim Age                0\n",
       "dtype: int64"
      ]
     },
     "execution_count": 25,
     "metadata": {},
     "output_type": "execute_result"
    }
   ],
   "source": [
    "# all missing values imputed\n",
    "crime_df.isnull().sum()"
   ]
  },
  {
   "cell_type": "markdown",
   "id": "ea0c6c9f",
   "metadata": {},
   "source": [
    "## 3.6 Train/Test Split  <a id=\"36-traintest-split\"></a> "
   ]
  },
  {
   "cell_type": "code",
   "execution_count": 27,
   "id": "9fc10408",
   "metadata": {},
   "outputs": [
    {
     "name": "stdout",
     "output_type": "stream",
     "text": [
      "<class 'pandas.core.frame.DataFrame'>\n",
      "RangeIndex: 1375881 entries, 0 to 1375880\n",
      "Data columns (total 18 columns):\n",
      " #   Column                  Non-Null Count    Dtype  \n",
      "---  ------                  --------------    -----  \n",
      " 0   DR Number               1375881 non-null  object \n",
      " 1   Date Reported           1375881 non-null  object \n",
      " 2   Date Occurred           1375881 non-null  object \n",
      " 3   Time Occurred           1375881 non-null  object \n",
      " 4   Area ID                 1375881 non-null  object \n",
      " 5   Area Name               1375881 non-null  object \n",
      " 6   Reporting District      1375881 non-null  object \n",
      " 7   Crime Code              1375881 non-null  object \n",
      " 8   Crime Code Description  1375881 non-null  object \n",
      " 9   MO Codes                1375881 non-null  object \n",
      " 10  Victim Sex              1375881 non-null  object \n",
      " 11  Victim Descent          1375881 non-null  object \n",
      " 12  Premise Description     1375881 non-null  object \n",
      " 13  Status Desc             1375881 non-null  object \n",
      " 14  Address                 1375881 non-null  object \n",
      " 15  LAT                     1375881 non-null  object \n",
      " 16  LON                     1375881 non-null  object \n",
      " 17  Victim Age              1375881 non-null  float64\n",
      "dtypes: float64(1), object(17)\n",
      "memory usage: 188.9+ MB\n"
     ]
    }
   ],
   "source": [
    "crime_df.info()"
   ]
  },
  {
   "cell_type": "code",
   "execution_count": 28,
   "id": "f9e585c6",
   "metadata": {},
   "outputs": [],
   "source": [
    "# Ensure the proper data types before splitting\n",
    "\n",
    "crime_df[\"Date Reported\"]=pd.to_datetime(crime_df[\"Date Reported\"])\n",
    "crime_df[\"Date Occurred\"]=pd.to_datetime(crime_df[\"Date Occurred\"])\n",
    "crime_df['Time Occurred']=pd.to_datetime(crime_df['Time Occurred'], format='%H%M', \\\n",
    "                                         errors='coerce').dt.time\n",
    "\n",
    "int_type_features=[\"DR Number\",\"Area ID\",\"Reporting District\",\"Crime Code\",\"Victim Age\"]\n",
    "for i in int_type_features:\n",
    "    crime_df[i]=crime_df[i].astype(int, errors=\"ignore\")"
   ]
  },
  {
   "cell_type": "code",
   "execution_count": 29,
   "id": "42e328ae",
   "metadata": {},
   "outputs": [],
   "source": [
    "# datetime values will not work with certain models so lets pull usueful information \n",
    "crime_df['Year_Reported'] = crime_df['Date Reported'].dt.year\n",
    "crime_df['Month_Reported'] = crime_df['Date Reported'].dt.month\n",
    "crime_df['Day_Reported'] = crime_df['Date Reported'].dt.day\n",
    "\n",
    "crime_df['Year_Occurred'] = crime_df['Date Occurred'].dt.year\n",
    "crime_df['Month_Occurred'] = crime_df['Date Occurred'].dt.month\n",
    "crime_df['Day_Occurred'] = crime_df['Date Occurred'].dt.day\n",
    "\n",
    "# Extract hour and minute from the 'Time Occurred' column\n",
    "crime_df['Hour_Occurred'] = pd.to_datetime(crime_df['Time Occurred'], format='%H:%M:%S').dt.hour\n",
    "crime_df['Minute_Occurred'] = pd.to_datetime(crime_df['Time Occurred'], format='%H:%M:%S').dt.minute"
   ]
  },
  {
   "cell_type": "code",
   "execution_count": 30,
   "id": "bd78ecfc",
   "metadata": {},
   "outputs": [],
   "source": [
    "# After addding the new columns, missing values were found within Time Occurred which would \n",
    "# mean missing values in Hour_Occurred and Minute_Occurred as well \n",
    "\n",
    "# impute using SimpleImputeruter\n",
    "\n",
    "dt_imputer =  SimpleImputer(strategy='mean')\n",
    "crime_df['Hour_Occurred'] = dt_imputer.fit_transform(\n",
    "    np.array(crime_df['Hour_Occurred']).reshape(-1,1) )\n",
    "crime_df['Minute_Occurred'] = dt_imputer.fit_transform(\n",
    "    np.array(crime_df['Minute_Occurred']).reshape(-1,1))"
   ]
  },
  {
   "cell_type": "code",
   "execution_count": 31,
   "id": "2d3c21a0",
   "metadata": {},
   "outputs": [],
   "source": [
    "# we extracted the information from the datetime values as numerical data\n",
    "# initial datetime columns can be dropped \n",
    "\n",
    "crime_df.drop(columns=[\"Date Reported\",\"Date Occurred\",\"Time Occurred\" ],inplace=True)"
   ]
  },
  {
   "cell_type": "code",
   "execution_count": 32,
   "id": "5aaa773a",
   "metadata": {},
   "outputs": [
    {
     "data": {
      "text/html": [
       "<div>\n",
       "<style scoped>\n",
       "    .dataframe tbody tr th:only-of-type {\n",
       "        vertical-align: middle;\n",
       "    }\n",
       "\n",
       "    .dataframe tbody tr th {\n",
       "        vertical-align: top;\n",
       "    }\n",
       "\n",
       "    .dataframe thead th {\n",
       "        text-align: right;\n",
       "    }\n",
       "</style>\n",
       "<table border=\"1\" class=\"dataframe\">\n",
       "  <thead>\n",
       "    <tr style=\"text-align: right;\">\n",
       "      <th></th>\n",
       "      <th>DR Number</th>\n",
       "      <th>Area ID</th>\n",
       "      <th>Area Name</th>\n",
       "      <th>Reporting District</th>\n",
       "      <th>Crime Code</th>\n",
       "      <th>Crime Code Description</th>\n",
       "      <th>MO Codes</th>\n",
       "      <th>Victim Sex</th>\n",
       "      <th>Victim Descent</th>\n",
       "      <th>Premise Description</th>\n",
       "      <th>...</th>\n",
       "      <th>LON</th>\n",
       "      <th>Victim Age</th>\n",
       "      <th>Year_Reported</th>\n",
       "      <th>Month_Reported</th>\n",
       "      <th>Day_Reported</th>\n",
       "      <th>Year_Occurred</th>\n",
       "      <th>Month_Occurred</th>\n",
       "      <th>Day_Occurred</th>\n",
       "      <th>Hour_Occurred</th>\n",
       "      <th>Minute_Occurred</th>\n",
       "    </tr>\n",
       "  </thead>\n",
       "  <tbody>\n",
       "    <tr>\n",
       "      <th>0</th>\n",
       "      <td>10304468</td>\n",
       "      <td>3</td>\n",
       "      <td>Southwest</td>\n",
       "      <td>377</td>\n",
       "      <td>624</td>\n",
       "      <td>BATTERY - SIMPLE ASSAULT</td>\n",
       "      <td>0444 0913</td>\n",
       "      <td>F</td>\n",
       "      <td>Black</td>\n",
       "      <td>SINGLE FAMILY DWELLING</td>\n",
       "      <td>...</td>\n",
       "      <td>-118.2978</td>\n",
       "      <td>36</td>\n",
       "      <td>2020</td>\n",
       "      <td>1</td>\n",
       "      <td>8</td>\n",
       "      <td>2020</td>\n",
       "      <td>1</td>\n",
       "      <td>8</td>\n",
       "      <td>22.0</td>\n",
       "      <td>30.0</td>\n",
       "    </tr>\n",
       "    <tr>\n",
       "      <th>1</th>\n",
       "      <td>190101086</td>\n",
       "      <td>1</td>\n",
       "      <td>Central</td>\n",
       "      <td>163</td>\n",
       "      <td>624</td>\n",
       "      <td>BATTERY - SIMPLE ASSAULT</td>\n",
       "      <td>0416 1822 1414</td>\n",
       "      <td>M</td>\n",
       "      <td>Hispanic/Latin/Mexican</td>\n",
       "      <td>SIDEWALK</td>\n",
       "      <td>...</td>\n",
       "      <td>-118.2545</td>\n",
       "      <td>25</td>\n",
       "      <td>2020</td>\n",
       "      <td>1</td>\n",
       "      <td>2</td>\n",
       "      <td>2020</td>\n",
       "      <td>1</td>\n",
       "      <td>1</td>\n",
       "      <td>3.0</td>\n",
       "      <td>30.0</td>\n",
       "    </tr>\n",
       "    <tr>\n",
       "      <th>2</th>\n",
       "      <td>200110444</td>\n",
       "      <td>1</td>\n",
       "      <td>Central</td>\n",
       "      <td>155</td>\n",
       "      <td>845</td>\n",
       "      <td>SEX OFFENDER REGISTRANT OUT OF COMPLIANCE</td>\n",
       "      <td>1501</td>\n",
       "      <td>X</td>\n",
       "      <td>Unknown</td>\n",
       "      <td>POLICE FACILITY</td>\n",
       "      <td>...</td>\n",
       "      <td>-118.2474</td>\n",
       "      <td>40</td>\n",
       "      <td>2020</td>\n",
       "      <td>4</td>\n",
       "      <td>14</td>\n",
       "      <td>2020</td>\n",
       "      <td>2</td>\n",
       "      <td>13</td>\n",
       "      <td>12.0</td>\n",
       "      <td>0.0</td>\n",
       "    </tr>\n",
       "    <tr>\n",
       "      <th>3</th>\n",
       "      <td>191501505</td>\n",
       "      <td>15</td>\n",
       "      <td>N Hollywood</td>\n",
       "      <td>1543</td>\n",
       "      <td>745</td>\n",
       "      <td>VANDALISM - MISDEAMEANOR ($399 OR UNDER)</td>\n",
       "      <td>0329 1402</td>\n",
       "      <td>F</td>\n",
       "      <td>White</td>\n",
       "      <td>MULTI-UNIT DWELLING (APARTMENT, DUPLEX, ETC)</td>\n",
       "      <td>...</td>\n",
       "      <td>-118.4019</td>\n",
       "      <td>76</td>\n",
       "      <td>2020</td>\n",
       "      <td>1</td>\n",
       "      <td>1</td>\n",
       "      <td>2020</td>\n",
       "      <td>1</td>\n",
       "      <td>1</td>\n",
       "      <td>17.0</td>\n",
       "      <td>30.0</td>\n",
       "    </tr>\n",
       "    <tr>\n",
       "      <th>4</th>\n",
       "      <td>191921269</td>\n",
       "      <td>19</td>\n",
       "      <td>Mission</td>\n",
       "      <td>1998</td>\n",
       "      <td>740</td>\n",
       "      <td>VANDALISM - FELONY ($400 &amp; OVER, ALL CHURCH VA...</td>\n",
       "      <td>0329</td>\n",
       "      <td>X</td>\n",
       "      <td>Unknown</td>\n",
       "      <td>BEAUTY SUPPLY STORE</td>\n",
       "      <td>...</td>\n",
       "      <td>-118.4468</td>\n",
       "      <td>31</td>\n",
       "      <td>2020</td>\n",
       "      <td>1</td>\n",
       "      <td>1</td>\n",
       "      <td>2020</td>\n",
       "      <td>1</td>\n",
       "      <td>1</td>\n",
       "      <td>4.0</td>\n",
       "      <td>15.0</td>\n",
       "    </tr>\n",
       "  </tbody>\n",
       "</table>\n",
       "<p>5 rows × 23 columns</p>\n",
       "</div>"
      ],
      "text/plain": [
       "   DR Number  Area ID    Area Name  Reporting District  Crime Code  \\\n",
       "0   10304468        3    Southwest                 377         624   \n",
       "1  190101086        1      Central                 163         624   \n",
       "2  200110444        1      Central                 155         845   \n",
       "3  191501505       15  N Hollywood                1543         745   \n",
       "4  191921269       19      Mission                1998         740   \n",
       "\n",
       "                              Crime Code Description        MO Codes  \\\n",
       "0                           BATTERY - SIMPLE ASSAULT       0444 0913   \n",
       "1                           BATTERY - SIMPLE ASSAULT  0416 1822 1414   \n",
       "2          SEX OFFENDER REGISTRANT OUT OF COMPLIANCE            1501   \n",
       "3           VANDALISM - MISDEAMEANOR ($399 OR UNDER)       0329 1402   \n",
       "4  VANDALISM - FELONY ($400 & OVER, ALL CHURCH VA...            0329   \n",
       "\n",
       "  Victim Sex          Victim Descent  \\\n",
       "0          F                   Black   \n",
       "1          M  Hispanic/Latin/Mexican   \n",
       "2          X                 Unknown   \n",
       "3          F                   White   \n",
       "4          X                 Unknown   \n",
       "\n",
       "                            Premise Description  ...       LON Victim Age  \\\n",
       "0                        SINGLE FAMILY DWELLING  ... -118.2978         36   \n",
       "1                                      SIDEWALK  ... -118.2545         25   \n",
       "2                               POLICE FACILITY  ... -118.2474         40   \n",
       "3  MULTI-UNIT DWELLING (APARTMENT, DUPLEX, ETC)  ... -118.4019         76   \n",
       "4                           BEAUTY SUPPLY STORE  ... -118.4468         31   \n",
       "\n",
       "  Year_Reported Month_Reported  Day_Reported  Year_Occurred  Month_Occurred  \\\n",
       "0          2020              1             8           2020               1   \n",
       "1          2020              1             2           2020               1   \n",
       "2          2020              4            14           2020               2   \n",
       "3          2020              1             1           2020               1   \n",
       "4          2020              1             1           2020               1   \n",
       "\n",
       "   Day_Occurred  Hour_Occurred  Minute_Occurred  \n",
       "0             8           22.0             30.0  \n",
       "1             1            3.0             30.0  \n",
       "2            13           12.0              0.0  \n",
       "3             1           17.0             30.0  \n",
       "4             1            4.0             15.0  \n",
       "\n",
       "[5 rows x 23 columns]"
      ]
     },
     "execution_count": 32,
     "metadata": {},
     "output_type": "execute_result"
    }
   ],
   "source": [
    "crime_df.head()"
   ]
  },
  {
   "cell_type": "code",
   "execution_count": 33,
   "id": "8784ddb6",
   "metadata": {},
   "outputs": [],
   "source": [
    "# train_test_split data for target variable: victim age\n",
    "X = crime_df.drop(columns=[\"Victim Sex\",\"Victim Age\"])\n",
    "y_sex = crime_df[\"Victim Sex\"]\n",
    "y_age = crime_df[\"Victim Age\"]\n",
    "\n",
    "# split for Victim Age target variable \n",
    "X_train_va,X_test_va,y_train_va,y_test_va = train_test_split\\\n",
    "    (X,y_age,test_size=.3, stratify=y_age,random_state=42)"
   ]
  },
  {
   "cell_type": "code",
   "execution_count": 34,
   "id": "725fad47",
   "metadata": {},
   "outputs": [],
   "source": [
    "# train_test_split data for target variable: victim sex\n",
    "# In order to apply train_test_split, the Victim Sex feature needs to be encoded\n",
    "l_encoder = LabelEncoder()\n",
    "y_vs_encoded = l_encoder.fit_transform(y_sex.values)\n",
    "\n",
    "X_train_vs, X_test_vs, y_train_vs, y_test_vs = train_test_split(\n",
    "    X, y_vs_encoded, test_size=0.3, stratify=y_vs_encoded, random_state=42)"
   ]
  },
  {
   "cell_type": "code",
   "execution_count": 35,
   "id": "e309afde",
   "metadata": {},
   "outputs": [],
   "source": [
    "sex_class_names = l_encoder.classes_ # 0->F, 1->M, and 2->X (Unknown)"
   ]
  },
  {
   "cell_type": "markdown",
   "id": "d86db409",
   "metadata": {},
   "source": [
    "## 3.7 Encoding Categorical Features <a id=\"37-encoding-categorical-features\"></a> "
   ]
  },
  {
   "cell_type": "markdown",
   "id": "08cfc2f0",
   "metadata": {},
   "source": [
    "Since there are two target variables, there will be two predictive models so each approach will be applied to each set of training/test data. In this section, the categorical variables will be encoded to have all the data as numeric types. "
   ]
  },
  {
   "cell_type": "code",
   "execution_count": 36,
   "id": "858faefb",
   "metadata": {
    "scrolled": true
   },
   "outputs": [
    {
     "name": "stdout",
     "output_type": "stream",
     "text": [
      "<class 'pandas.core.frame.DataFrame'>\n",
      "Int64Index: 963116 entries, 1212026 to 623061\n",
      "Data columns (total 21 columns):\n",
      " #   Column                  Non-Null Count   Dtype  \n",
      "---  ------                  --------------   -----  \n",
      " 0   DR Number               963116 non-null  int64  \n",
      " 1   Area ID                 963116 non-null  int64  \n",
      " 2   Area Name               963116 non-null  object \n",
      " 3   Reporting District      963116 non-null  int64  \n",
      " 4   Crime Code              963116 non-null  int64  \n",
      " 5   Crime Code Description  963116 non-null  object \n",
      " 6   MO Codes                963116 non-null  object \n",
      " 7   Victim Descent          963116 non-null  object \n",
      " 8   Premise Description     963116 non-null  object \n",
      " 9   Status Desc             963116 non-null  object \n",
      " 10  Address                 963116 non-null  object \n",
      " 11  LAT                     963116 non-null  object \n",
      " 12  LON                     963116 non-null  object \n",
      " 13  Year_Reported           963116 non-null  int64  \n",
      " 14  Month_Reported          963116 non-null  int64  \n",
      " 15  Day_Reported            963116 non-null  int64  \n",
      " 16  Year_Occurred           963116 non-null  int64  \n",
      " 17  Month_Occurred          963116 non-null  int64  \n",
      " 18  Day_Occurred            963116 non-null  int64  \n",
      " 19  Hour_Occurred           963116 non-null  float64\n",
      " 20  Minute_Occurred         963116 non-null  float64\n",
      "dtypes: float64(2), int64(10), object(9)\n",
      "memory usage: 161.7+ MB\n"
     ]
    }
   ],
   "source": [
    "''' These are the following variables:\n",
    "X_train_va,X_test_va,y_train_va,y_test_va to predict Victim Age\n",
    "X_train_vs, X_test_vs, y_train_vs, y_test_vs to predict Victim Sex \n",
    "'''\n",
    "list_of_x_train_test_vars = [X_train_va,X_test_va,X_train_vs, X_test_vs]\n",
    "\n",
    "X_train_va.info()"
   ]
  },
  {
   "cell_type": "code",
   "execution_count": 37,
   "id": "63955e2e",
   "metadata": {},
   "outputs": [],
   "source": [
    "# Before encoding all categorical features, the number of distinct values per features will \n",
    "# be reviewed to ensure that we are considering dimensionality \n",
    "\n",
    "categorical_feature_names = X_train_va.select_dtypes(include='object').columns"
   ]
  },
  {
   "cell_type": "code",
   "execution_count": 38,
   "id": "6487f67c",
   "metadata": {},
   "outputs": [
    {
     "name": "stdout",
     "output_type": "stream",
     "text": [
      "Area Name has 21 unique values\n",
      "Crime Code Description has 137 unique values\n",
      "MO Codes has 275184 unique values\n",
      "Victim Descent has 19 unique values\n",
      "Premise Description has 305 unique values\n",
      "Status Desc has 6 unique values\n",
      "Address has 65646 unique values\n",
      "LAT has 5479 unique values\n",
      "LON has 5028 unique values\n"
     ]
    }
   ],
   "source": [
    "# used X_train_va only since X_train_vs would have the same features and unique values\n",
    "for i in categorical_feature_names:\n",
    "    print(i,\"has\",X_train_va[i].nunique(),\"unique values\")\n",
    "  "
   ]
  },
  {
   "cell_type": "markdown",
   "id": "7a26acf4",
   "metadata": {},
   "source": [
    "One hot encoding will be applied to the following variables due to the low number of unique values present:\n",
    "1. Area Name\n",
    "2. Victim Descent\n",
    "3. Status Desc\n",
    "\n",
    "The following variables will be encoded followed by a vectorizer due to high number of unique levels:\n",
    "1. Crime Code Description \n",
    "2. MO Codes \n",
    "3. Premise Description \n",
    "4. Address \n"
   ]
  },
  {
   "cell_type": "markdown",
   "id": "1dbcce7b",
   "metadata": {},
   "source": [
    "#### **3.7.1 Encoding - get_dummies: Area Name, Victim Descent, Status Desc** <a id='371-encoding-with-get-dummies'></a>  "
   ]
  },
  {
   "cell_type": "code",
   "execution_count": 39,
   "id": "2214484d",
   "metadata": {},
   "outputs": [],
   "source": [
    "# Encoding Area Name, Victim Descent, Status Desc\n",
    "area_descent_status = [\"Area Name\",\"Victim Descent\",\"Status Desc\"]\n",
    "\n",
    "for index in range(len(list_of_x_train_test_vars)):\n",
    "    list_of_x_train_test_vars[index] = pd.get_dummies(list_of_x_train_test_vars[index],\\\n",
    "                                        columns=area_descent_status,drop_first=True)\n",
    "    "
   ]
  },
  {
   "cell_type": "markdown",
   "id": "ea95b59e",
   "metadata": {},
   "source": [
    "#### **3.7.2 Encoding - word2vec** <a id='371-encoding-with-word2vec'></a>"
   ]
  },
  {
   "cell_type": "code",
   "execution_count": 40,
   "id": "acd253f3",
   "metadata": {
    "scrolled": true
   },
   "outputs": [
    {
     "name": "stderr",
     "output_type": "stream",
     "text": [
      "[nltk_data] Downloading package punkt to\n",
      "[nltk_data]     /Users/frankyaraujo/nltk_data...\n",
      "[nltk_data]   Package punkt is already up-to-date!\n",
      "[nltk_data] Downloading package stopwords to\n",
      "[nltk_data]     /Users/frankyaraujo/nltk_data...\n",
      "[nltk_data]   Package stopwords is already up-to-date!\n"
     ]
    }
   ],
   "source": [
    "# Need to download data from NLTK to use stopwords.words('english') and tokenize.word_tokenize\n",
    "nltk.download('punkt')\n",
    "nltk.download('stopwords')\n",
    "stop_words = set.union(set(stopwords.words('english')))\n",
    "\n",
    "# function definitions\n",
    "# purpose: encode text by removing stop words (ie non-value words) + convert all to lower case\n",
    "\n",
    "def preprocess(text):\n",
    "    text = text.lower() # make strings lower case\n",
    "    text = ''.join([word for word in text if word not in string.punctuation]) #remove punctuation\n",
    "    tokens = nltk.tokenize.word_tokenize(text) #tranform text\n",
    "    tokens = [word for word in tokens if word not in stop_words] #ensure no stopwords are present\n",
    "    return ' '.join(tokens) # return complete text since tokenizing split the text\n",
    "\n",
    "# function to vectorize the text\n",
    "def vectorize(sentence):\n",
    "    words = sentence.split()\n",
    "    words_vecs = [w2v_model.wv[word] for word in words if word in w2v_model.wv]\n",
    "    if len(words_vecs) == 0:\n",
    "        return np.zeros(50)\n",
    "    words_vecs = np.array(words_vecs)\n",
    "    return words_vecs.mean(axis=0)"
   ]
  },
  {
   "cell_type": "code",
   "execution_count": 41,
   "id": "82ec1e22",
   "metadata": {},
   "outputs": [],
   "source": [
    "# variables not encoded in 3.7.1\n",
    "longer_text_columns = [\"Crime Code Description\",\"MO Codes\",\"Premise Description\", \"Address\"]  \n",
    "\n",
    "feature_name_mapping = {}\n",
    "for i in longer_text_columns: # loop through relevant features \n",
    "     for index in range(len(list_of_x_train_test_vars)): # loop through list of train/test data\n",
    "            \n",
    "            original_feature_name = f\"{i}_{index}\"\n",
    "\n",
    "            # preprocess text data\n",
    "            list_of_x_train_test_vars[index][i] = list_of_x_train_test_vars[index][i]\\\n",
    "            .apply(preprocess)  \n",
    "    \n",
    "            # train the word2vec model\n",
    "            sentences = [sentence.split() for sentence in list_of_x_train_test_vars[index][i]]\n",
    "            w2v_model = Word2Vec(sentences, vector_size=50, window=5, workers=4)\n",
    "    \n",
    "            # vectorize text data and replace column\n",
    "            list_of_x_train_test_vars[index][i] = np.array([\n",
    "                vectorize(sentence) for sentence in list_of_x_train_test_vars[index][i]])\n",
    "        \n",
    "            # Store new column names after vectorization\n",
    "            new_feature_names = [f\"{i}_vec_{j}\" for j in range(w2v_model.vector_size)]\n",
    "            feature_name_mapping[original_feature_name] = new_feature_names\n"
   ]
  },
  {
   "cell_type": "code",
   "execution_count": 42,
   "id": "540c6c81",
   "metadata": {},
   "outputs": [],
   "source": [
    "# make a copy since this version has all column names intact\n",
    "from copy import deepcopy\n",
    "\n",
    "list_of_x_train_test_vars_cpy = deepcopy(list_of_x_train_test_vars)"
   ]
  },
  {
   "cell_type": "code",
   "execution_count": 66,
   "id": "91602482",
   "metadata": {},
   "outputs": [],
   "source": [
    "# store version of preprocessed data that is not scaled\n",
    "victim_age_feature_csv_unscaled = '/Users/frankyaraujo/Development/springboard_main/Capstone Two/\\\n",
    "Springboard-Capstone-Two/src/data/victim_age_feature_data_unscaled.csv'\n",
    "victim_age_target_csv_unscaled = '/Users/frankyaraujo/Development/springboard_main/Capstone Two/\\\n",
    "Springboard-Capstone-Two/src/data/victim_age_target_data_unscaled.csv'\n",
    "\n",
    "victim_sex_feature_csv_unscaled = '/Users/frankyaraujo/Development/springboard_main/Capstone Two/\\\n",
    "Springboard-Capstone-Two/src/data/victim_sex_feature_data_unscaled.csv'\n",
    "victim_sex_target_csv_unscaled = '/Users/frankyaraujo/Development/springboard_main/Capstone Two/\\\n",
    "Springboard-Capstone-Two/src/data/victim_sex_target_data_unscaled.csv'\n",
    "\n",
    "# Write DataFrames to CSV files\n",
    "list_of_x_train_test_vars_cpy[0].to_csv(victim_age_feature_csv_unscaled, index=False)\n",
    "list_of_x_train_test_vars_cpy[1].to_csv(victim_age_target_csv_unscaled, index=False)\n",
    "\n",
    "list_of_x_train_test_vars_cpy[2].to_csv(victim_sex_feature_csv_unscaled, index=False)\n",
    "list_of_x_train_test_vars_cpy[3].to_csv(victim_sex_target_csv_unscaled, index=False)"
   ]
  },
  {
   "cell_type": "markdown",
   "id": "f9611abf",
   "metadata": {},
   "source": [
    "## 3.8 Scale the Data <a id='38-scale-the-data'></a>"
   ]
  },
  {
   "cell_type": "markdown",
   "id": "24c30663",
   "metadata": {},
   "source": [
    "Since the data is comprised of a mixture of data types (ie datetime, class labels, and continuous variables) then each type will need its own approach. ColumnTransformer allows different types to be handled based on ther specific characteristics during scaling."
   ]
  },
  {
   "cell_type": "code",
   "execution_count": 43,
   "id": "36abf9b3",
   "metadata": {},
   "outputs": [],
   "source": [
    "'''\n",
    "LAT                                  \n",
    "LON                              \n",
    "Year_Reported                         \n",
    "Month_Reported                        \n",
    "Day_Reported                           \n",
    "Year_Occurred                          \n",
    "Month_Occurred                         \n",
    "Day_Occurred                          \n",
    "Hour_Occurred                          \n",
    "Minute_Occurred \n",
    "'''\n",
    "numerical_cols = [\"LAT\", \"LON\", \"Year_Reported\",\n",
    "                  \"Month_Reported\", \"Day_Reported\",\n",
    "                  \"Year_Occurred\", \"Month_Occurred\",\n",
    "                  \"Day_Occurred\", \"Hour_Occurred\", \"Minute_Occurred\"]\n",
    "num_scaler = StandardScaler()\n",
    "\n",
    "for i in range(len(list_of_x_train_test_vars)):\n",
    "    for j in numerical_cols:\n",
    "        list_of_x_train_test_vars[i][j] = num_scaler.fit_transform(\n",
    "            np.array(list_of_x_train_test_vars[i][j]).reshape(-1,1,))\n"
   ]
  },
  {
   "cell_type": "code",
   "execution_count": 44,
   "id": "d8e5a691",
   "metadata": {},
   "outputs": [],
   "source": [
    "# take the encoded train_test data from list_of_x_train_test_vars and update initial train_test var's\n",
    "\n",
    "X_train_va,X_test_va,X_train_vs, X_test_vs = list_of_x_train_test_vars"
   ]
  },
  {
   "cell_type": "markdown",
   "id": "629969e2",
   "metadata": {},
   "source": [
    "## 3.9 Train/Predict with a \"Baseline Model\" <a id='39-trainpredict-with-a-baseline-model'></a>"
   ]
  },
  {
   "cell_type": "markdown",
   "id": "f0722db5",
   "metadata": {},
   "source": [
    "#### Fit the dummy regressor"
   ]
  },
  {
   "cell_type": "code",
   "execution_count": 45,
   "id": "d7c4bd44",
   "metadata": {
    "scrolled": false
   },
   "outputs": [
    {
     "data": {
      "text/html": [
       "<style>#sk-container-id-1 {color: black;background-color: white;}#sk-container-id-1 pre{padding: 0;}#sk-container-id-1 div.sk-toggleable {background-color: white;}#sk-container-id-1 label.sk-toggleable__label {cursor: pointer;display: block;width: 100%;margin-bottom: 0;padding: 0.3em;box-sizing: border-box;text-align: center;}#sk-container-id-1 label.sk-toggleable__label-arrow:before {content: \"▸\";float: left;margin-right: 0.25em;color: #696969;}#sk-container-id-1 label.sk-toggleable__label-arrow:hover:before {color: black;}#sk-container-id-1 div.sk-estimator:hover label.sk-toggleable__label-arrow:before {color: black;}#sk-container-id-1 div.sk-toggleable__content {max-height: 0;max-width: 0;overflow: hidden;text-align: left;background-color: #f0f8ff;}#sk-container-id-1 div.sk-toggleable__content pre {margin: 0.2em;color: black;border-radius: 0.25em;background-color: #f0f8ff;}#sk-container-id-1 input.sk-toggleable__control:checked~div.sk-toggleable__content {max-height: 200px;max-width: 100%;overflow: auto;}#sk-container-id-1 input.sk-toggleable__control:checked~label.sk-toggleable__label-arrow:before {content: \"▾\";}#sk-container-id-1 div.sk-estimator input.sk-toggleable__control:checked~label.sk-toggleable__label {background-color: #d4ebff;}#sk-container-id-1 div.sk-label input.sk-toggleable__control:checked~label.sk-toggleable__label {background-color: #d4ebff;}#sk-container-id-1 input.sk-hidden--visually {border: 0;clip: rect(1px 1px 1px 1px);clip: rect(1px, 1px, 1px, 1px);height: 1px;margin: -1px;overflow: hidden;padding: 0;position: absolute;width: 1px;}#sk-container-id-1 div.sk-estimator {font-family: monospace;background-color: #f0f8ff;border: 1px dotted black;border-radius: 0.25em;box-sizing: border-box;margin-bottom: 0.5em;}#sk-container-id-1 div.sk-estimator:hover {background-color: #d4ebff;}#sk-container-id-1 div.sk-parallel-item::after {content: \"\";width: 100%;border-bottom: 1px solid gray;flex-grow: 1;}#sk-container-id-1 div.sk-label:hover label.sk-toggleable__label {background-color: #d4ebff;}#sk-container-id-1 div.sk-serial::before {content: \"\";position: absolute;border-left: 1px solid gray;box-sizing: border-box;top: 0;bottom: 0;left: 50%;z-index: 0;}#sk-container-id-1 div.sk-serial {display: flex;flex-direction: column;align-items: center;background-color: white;padding-right: 0.2em;padding-left: 0.2em;position: relative;}#sk-container-id-1 div.sk-item {position: relative;z-index: 1;}#sk-container-id-1 div.sk-parallel {display: flex;align-items: stretch;justify-content: center;background-color: white;position: relative;}#sk-container-id-1 div.sk-item::before, #sk-container-id-1 div.sk-parallel-item::before {content: \"\";position: absolute;border-left: 1px solid gray;box-sizing: border-box;top: 0;bottom: 0;left: 50%;z-index: -1;}#sk-container-id-1 div.sk-parallel-item {display: flex;flex-direction: column;z-index: 1;position: relative;background-color: white;}#sk-container-id-1 div.sk-parallel-item:first-child::after {align-self: flex-end;width: 50%;}#sk-container-id-1 div.sk-parallel-item:last-child::after {align-self: flex-start;width: 50%;}#sk-container-id-1 div.sk-parallel-item:only-child::after {width: 0;}#sk-container-id-1 div.sk-dashed-wrapped {border: 1px dashed gray;margin: 0 0.4em 0.5em 0.4em;box-sizing: border-box;padding-bottom: 0.4em;background-color: white;}#sk-container-id-1 div.sk-label label {font-family: monospace;font-weight: bold;display: inline-block;line-height: 1.2em;}#sk-container-id-1 div.sk-label-container {text-align: center;}#sk-container-id-1 div.sk-container {/* jupyter's `normalize.less` sets `[hidden] { display: none; }` but bootstrap.min.css set `[hidden] { display: none !important; }` so we also need the `!important` here to be able to override the default hidden behavior on the sphinx rendered scikit-learn.org. See: https://github.com/scikit-learn/scikit-learn/issues/21755 */display: inline-block !important;position: relative;}#sk-container-id-1 div.sk-text-repr-fallback {display: none;}</style><div id=\"sk-container-id-1\" class=\"sk-top-container\"><div class=\"sk-text-repr-fallback\"><pre>DummyRegressor()</pre><b>In a Jupyter environment, please rerun this cell to show the HTML representation or trust the notebook. <br />On GitHub, the HTML representation is unable to render, please try loading this page with nbviewer.org.</b></div><div class=\"sk-container\" hidden><div class=\"sk-item\"><div class=\"sk-estimator sk-toggleable\"><input class=\"sk-toggleable__control sk-hidden--visually\" id=\"sk-estimator-id-1\" type=\"checkbox\" checked><label for=\"sk-estimator-id-1\" class=\"sk-toggleable__label sk-toggleable__label-arrow\">DummyRegressor</label><div class=\"sk-toggleable__content\"><pre>DummyRegressor()</pre></div></div></div></div></div>"
      ],
      "text/plain": [
       "DummyRegressor()"
      ]
     },
     "execution_count": 45,
     "metadata": {},
     "output_type": "execute_result"
    }
   ],
   "source": [
    "#Fit the dummy regressor on the training data - Victim Age\n",
    "dumb_reg = DummyRegressor(strategy='mean')\n",
    "dumb_reg.fit(X_train_va, y_train_va)"
   ]
  },
  {
   "cell_type": "markdown",
   "id": "0b3253ca",
   "metadata": {},
   "source": [
    "#### Assess dummy regressor performance"
   ]
  },
  {
   "cell_type": "code",
   "execution_count": 46,
   "id": "de387154",
   "metadata": {
    "scrolled": true
   },
   "outputs": [
    {
     "name": "stdout",
     "output_type": "stream",
     "text": [
      "Dummy Regressor - Mean Absolute Error: 10.417887179842625\n",
      "Dummy Regressor - Mean Squared Error: 206.23319913904604\n",
      "Dummy Regressor - Root Mean Squared Error: 14.360821673534074\n",
      "Dummy Regressor - R-squared: -2.3358559531061474e-10\n"
     ]
    }
   ],
   "source": [
    "# Obtain predictions from the Dummy Regressor\n",
    "y_pred_dummy_va = dumb_reg.predict(X_test_va)\n",
    "\n",
    "# Calculate Mean Absolute Error (MAE)\n",
    "mae_dummy = mean_absolute_error(y_test_va, y_pred_dummy_va)\n",
    "print(\"Dummy Regressor - Mean Absolute Error:\", mae_dummy)\n",
    "\n",
    "# Calculate Mean Squared Error (MSE)\n",
    "mse_dummy = mean_squared_error(y_test_va, y_pred_dummy_va)\n",
    "print(\"Dummy Regressor - Mean Squared Error:\", mse_dummy)\n",
    "\n",
    "# Calculate Root Mean Squared Error (RMSE)\n",
    "rmse_dummy = np.sqrt(mse_dummy)\n",
    "print(\"Dummy Regressor - Root Mean Squared Error:\", rmse_dummy)\n",
    "\n",
    "# Calculate R-squared\n",
    "r2_dummy = r2_score(y_test_va, y_pred_dummy_va)\n",
    "print(\"Dummy Regressor - R-squared:\", r2_dummy)"
   ]
  },
  {
   "cell_type": "markdown",
   "id": "c2548cf0",
   "metadata": {},
   "source": [
    "\n",
    "Reminder: MAE measures the average absolute difference between the true values and the predictions.\n",
    "- The Dummy Regressor has an MAE of approximately 10.42 which means, on average, the predictions are off by around 10.42 units from the true values.\n",
    "\n",
    "Reminder: MSE measures the average squared difference between the true values and the predictions.\n",
    "- The Dummy Regressor has an MSE of approximately 206.23. \n",
    "\n",
    "Reminder: RMSE is the square root of the MSE and provides a more interpretable scale.\n",
    "- The Dummy Regressor has an RMSE of approximately 14.36. This is similar to MAE as it is in the same units as the target variabl but the approach gives more weight to larger errors. \n",
    "\n",
    "Reminder: R-squared measures the proportion of the variance in the dependent variable that is predictable from the independent variables.\n",
    "- The Dummy Regressor has an R-squared close to zero (approximately -2.34e-10). R-squared is typically between 0 and 1; a negative value indicates that the model is performing worse than a model that predicts the mean of the target variable.\n",
    "\n",
    "Reminder: If the performance of your actual model is not significantly better than the Dummy Regressor, it indicates that your model might not be learning meaningful patterns from the data.\n",
    "- This Dummy Regressor serves as a baseline model. The following regression models will aim to outperform these metrics. "
   ]
  },
  {
   "cell_type": "markdown",
   "id": "4f7ce575",
   "metadata": {},
   "source": [
    "#### Fit the dummy classifier"
   ]
  },
  {
   "cell_type": "code",
   "execution_count": 47,
   "id": "6ab4e62e",
   "metadata": {
    "scrolled": true
   },
   "outputs": [
    {
     "data": {
      "text/html": [
       "<style>#sk-container-id-2 {color: black;background-color: white;}#sk-container-id-2 pre{padding: 0;}#sk-container-id-2 div.sk-toggleable {background-color: white;}#sk-container-id-2 label.sk-toggleable__label {cursor: pointer;display: block;width: 100%;margin-bottom: 0;padding: 0.3em;box-sizing: border-box;text-align: center;}#sk-container-id-2 label.sk-toggleable__label-arrow:before {content: \"▸\";float: left;margin-right: 0.25em;color: #696969;}#sk-container-id-2 label.sk-toggleable__label-arrow:hover:before {color: black;}#sk-container-id-2 div.sk-estimator:hover label.sk-toggleable__label-arrow:before {color: black;}#sk-container-id-2 div.sk-toggleable__content {max-height: 0;max-width: 0;overflow: hidden;text-align: left;background-color: #f0f8ff;}#sk-container-id-2 div.sk-toggleable__content pre {margin: 0.2em;color: black;border-radius: 0.25em;background-color: #f0f8ff;}#sk-container-id-2 input.sk-toggleable__control:checked~div.sk-toggleable__content {max-height: 200px;max-width: 100%;overflow: auto;}#sk-container-id-2 input.sk-toggleable__control:checked~label.sk-toggleable__label-arrow:before {content: \"▾\";}#sk-container-id-2 div.sk-estimator input.sk-toggleable__control:checked~label.sk-toggleable__label {background-color: #d4ebff;}#sk-container-id-2 div.sk-label input.sk-toggleable__control:checked~label.sk-toggleable__label {background-color: #d4ebff;}#sk-container-id-2 input.sk-hidden--visually {border: 0;clip: rect(1px 1px 1px 1px);clip: rect(1px, 1px, 1px, 1px);height: 1px;margin: -1px;overflow: hidden;padding: 0;position: absolute;width: 1px;}#sk-container-id-2 div.sk-estimator {font-family: monospace;background-color: #f0f8ff;border: 1px dotted black;border-radius: 0.25em;box-sizing: border-box;margin-bottom: 0.5em;}#sk-container-id-2 div.sk-estimator:hover {background-color: #d4ebff;}#sk-container-id-2 div.sk-parallel-item::after {content: \"\";width: 100%;border-bottom: 1px solid gray;flex-grow: 1;}#sk-container-id-2 div.sk-label:hover label.sk-toggleable__label {background-color: #d4ebff;}#sk-container-id-2 div.sk-serial::before {content: \"\";position: absolute;border-left: 1px solid gray;box-sizing: border-box;top: 0;bottom: 0;left: 50%;z-index: 0;}#sk-container-id-2 div.sk-serial {display: flex;flex-direction: column;align-items: center;background-color: white;padding-right: 0.2em;padding-left: 0.2em;position: relative;}#sk-container-id-2 div.sk-item {position: relative;z-index: 1;}#sk-container-id-2 div.sk-parallel {display: flex;align-items: stretch;justify-content: center;background-color: white;position: relative;}#sk-container-id-2 div.sk-item::before, #sk-container-id-2 div.sk-parallel-item::before {content: \"\";position: absolute;border-left: 1px solid gray;box-sizing: border-box;top: 0;bottom: 0;left: 50%;z-index: -1;}#sk-container-id-2 div.sk-parallel-item {display: flex;flex-direction: column;z-index: 1;position: relative;background-color: white;}#sk-container-id-2 div.sk-parallel-item:first-child::after {align-self: flex-end;width: 50%;}#sk-container-id-2 div.sk-parallel-item:last-child::after {align-self: flex-start;width: 50%;}#sk-container-id-2 div.sk-parallel-item:only-child::after {width: 0;}#sk-container-id-2 div.sk-dashed-wrapped {border: 1px dashed gray;margin: 0 0.4em 0.5em 0.4em;box-sizing: border-box;padding-bottom: 0.4em;background-color: white;}#sk-container-id-2 div.sk-label label {font-family: monospace;font-weight: bold;display: inline-block;line-height: 1.2em;}#sk-container-id-2 div.sk-label-container {text-align: center;}#sk-container-id-2 div.sk-container {/* jupyter's `normalize.less` sets `[hidden] { display: none; }` but bootstrap.min.css set `[hidden] { display: none !important; }` so we also need the `!important` here to be able to override the default hidden behavior on the sphinx rendered scikit-learn.org. See: https://github.com/scikit-learn/scikit-learn/issues/21755 */display: inline-block !important;position: relative;}#sk-container-id-2 div.sk-text-repr-fallback {display: none;}</style><div id=\"sk-container-id-2\" class=\"sk-top-container\"><div class=\"sk-text-repr-fallback\"><pre>DummyClassifier(strategy=&#x27;stratified&#x27;)</pre><b>In a Jupyter environment, please rerun this cell to show the HTML representation or trust the notebook. <br />On GitHub, the HTML representation is unable to render, please try loading this page with nbviewer.org.</b></div><div class=\"sk-container\" hidden><div class=\"sk-item\"><div class=\"sk-estimator sk-toggleable\"><input class=\"sk-toggleable__control sk-hidden--visually\" id=\"sk-estimator-id-2\" type=\"checkbox\" checked><label for=\"sk-estimator-id-2\" class=\"sk-toggleable__label sk-toggleable__label-arrow\">DummyClassifier</label><div class=\"sk-toggleable__content\"><pre>DummyClassifier(strategy=&#x27;stratified&#x27;)</pre></div></div></div></div></div>"
      ],
      "text/plain": [
       "DummyClassifier(strategy='stratified')"
      ]
     },
     "execution_count": 47,
     "metadata": {},
     "output_type": "execute_result"
    }
   ],
   "source": [
    "# Create and fit a DummyClassifier - Victim Sex\n",
    "dummy_classifier = DummyClassifier(strategy='stratified')  # Other strategies: 'stratified', 'uniform', 'constant'\n",
    "dummy_classifier.fit(X_train_vs, y_train_vs)"
   ]
  },
  {
   "cell_type": "markdown",
   "id": "135c13d4",
   "metadata": {},
   "source": [
    "#### Assess dummy regressor performance"
   ]
  },
  {
   "cell_type": "code",
   "execution_count": 48,
   "id": "ae569ccd",
   "metadata": {
    "scrolled": false
   },
   "outputs": [
    {
     "name": "stdout",
     "output_type": "stream",
     "text": [
      "Dummy Classifier - Accuracy: 0.39445447167274356\n",
      "Dummy Classifier - Precision: 0.39445447167274356\n",
      "Dummy Classifier - Recall: 0.39445447167274356\n",
      "Dummy Classifier - F1 Score: 0.39445447167274356\n",
      "Dummy Classifier - Multilabel Confusion Matrix:\n",
      "[[[164439  96094]\n",
      "  [ 96395  55837]]\n",
      "\n",
      " [[107744 103227]\n",
      "  [103269  98525]]\n",
      "\n",
      " [[303399  50627]\n",
      "  [ 50284   8455]]]\n"
     ]
    }
   ],
   "source": [
    "# Obtain predictions from the Dummy Classifier\n",
    "y_pred_dummy = dummy_classifier.predict(X_test_vs)\n",
    "\n",
    "# Calculate Accuracy\n",
    "accuracy = accuracy_score(y_test_vs, y_pred_dummy)\n",
    "print(\"Dummy Classifier - Accuracy:\", accuracy)\n",
    "\n",
    "# Calculate Precision, Recall, and F1 Score for each label\n",
    "precision = precision_score(y_test_vs, y_pred_dummy, average='micro')\n",
    "recall = recall_score(y_test_vs, y_pred_dummy, average='micro')\n",
    "f1 = f1_score(y_test_vs, y_pred_dummy, average='micro')\n",
    "\n",
    "print(\"Dummy Classifier - Precision:\", precision)\n",
    "print(\"Dummy Classifier - Recall:\", recall)\n",
    "print(\"Dummy Classifier - F1 Score:\", f1)\n",
    "\n",
    "# Multilabel Confusion Matrix\n",
    "conf_matrix = multilabel_confusion_matrix(y_test_vs, y_pred_dummy)\n",
    "print(\"Dummy Classifier - Multilabel Confusion Matrix:\")\n",
    "print(conf_matrix)"
   ]
  },
  {
   "cell_type": "markdown",
   "id": "2e4d8dc3",
   "metadata": {},
   "source": [
    "The accuracy is approximately 19.55%, indicating that the Dummy Classifier is predicting the correct class for about 19.55% of the instances. This gives you a baseline performance level.\n",
    "\n",
    "Reminder: Precision is the proportion of true positives among all predicted positives, recall is the proportion of true positives among all actual positives, and F1 score is the harmonic mean of precision and recall. \n",
    "\n",
    "The values are around 39-40%, indicating that the classifier is making correct positive predictions, but there is room for improvement.\n",
    "\n",
    "The Multilabel Confusion Matrix breaks down the number of true positives, true negatives, false positives, and false negatives for each label.\n",
    "\n",
    "With this baseline performance from the Dummy Classifier, we can proceed to evaluate other models and/or fine-tune hyperparameters to improve performance."
   ]
  },
  {
   "cell_type": "code",
   "execution_count": 49,
   "id": "8f708a98",
   "metadata": {
    "scrolled": true
   },
   "outputs": [
    {
     "data": {
      "text/plain": [
       "(         DR Number  Area ID  Reporting District  Crime Code  \\\n",
       " 455401   221114436       11                1181         420   \n",
       " 84164    200300865        3                 357         210   \n",
       " 1257118  171208610       12                1273         997   \n",
       " 449189   221911252       19                1967         440   \n",
       " 1193558  160908840        9                 909         997   \n",
       " ...            ...      ...                 ...         ...   \n",
       " 946235   110515754        5                 562         997   \n",
       " 773242   230306639        3                 311         420   \n",
       " 425353   221004265       10                1023         236   \n",
       " 1253796  171014776       10                1008         997   \n",
       " 800819   191425336       14                1435         997   \n",
       " \n",
       "          Crime Code Description  MO Codes  Premise Description   Address  \\\n",
       " 455401                 0.505616  1.193725            -0.001072 -0.097334   \n",
       " 84164                 -0.772781  0.705511             0.799432  0.899680   \n",
       " 1257118               -0.605817 -1.356186            -0.001072  0.951046   \n",
       " 449189                -0.136549  1.596852            -0.046845  0.443823   \n",
       " 1193558               -0.605817 -1.339474            -0.001072  0.562349   \n",
       " ...                         ...       ...                  ...       ...   \n",
       " 946235                -0.605817  0.000000            -0.001072  0.577869   \n",
       " 773242                 0.505616  0.000000            -0.001072 -0.717107   \n",
       " 425353                -1.412069  0.674563            -0.537357 -0.275919   \n",
       " 1253796               -0.605817 -1.400161            -0.001072  0.562349   \n",
       " 800819                -0.605817 -1.414873            -0.001072  0.847811   \n",
       " \n",
       "               LAT       LON  ...  Victim Descent_Pacific Islander  \\\n",
       " 455401   0.048551 -0.029955  ...                                0   \n",
       " 84164    0.011403 -0.034967  ...                                0   \n",
       " 1257118 -0.027837 -0.038955  ...                                0   \n",
       " 449189   0.148901 -0.060926  ...                                0   \n",
       " 1193558  0.125066 -0.060524  ...                                0   \n",
       " ...           ...       ...  ...                              ...   \n",
       " 946235  -0.172626 -0.037492  ...                                0   \n",
       " 773242   0.015904 -0.046767  ...                                0   \n",
       " 425353   0.117839 -0.081287  ...                                0   \n",
       " 1253796  0.125066 -0.071317  ...                                0   \n",
       " 800819  -0.000071 -0.060158  ...                                0   \n",
       " \n",
       "          Victim Descent_Samoan  Victim Descent_Unknown  \\\n",
       " 455401                       0                       0   \n",
       " 84164                        0                       1   \n",
       " 1257118                      0                       0   \n",
       " 449189                       0                       0   \n",
       " 1193558                      0                       0   \n",
       " ...                        ...                     ...   \n",
       " 946235                       0                       0   \n",
       " 773242                       0                       1   \n",
       " 425353                       0                       0   \n",
       " 1253796                      0                       0   \n",
       " 800819                       0                       0   \n",
       " \n",
       "          Victim Descent_Vietnamese  Victim Descent_White  \\\n",
       " 455401                           0                     1   \n",
       " 84164                            0                     0   \n",
       " 1257118                          0                     0   \n",
       " 449189                           0                     1   \n",
       " 1193558                          0                     0   \n",
       " ...                            ...                   ...   \n",
       " 946235                           0                     0   \n",
       " 773242                           0                     0   \n",
       " 425353                           0                     1   \n",
       " 1253796                          0                     1   \n",
       " 800819                           0                     0   \n",
       " \n",
       "          Status Desc_Adult Other  Status Desc_Invest Cont  \\\n",
       " 455401                         0                        1   \n",
       " 84164                          0                        1   \n",
       " 1257118                        0                        0   \n",
       " 449189                         0                        1   \n",
       " 1193558                        0                        0   \n",
       " ...                          ...                      ...   \n",
       " 946235                         0                        0   \n",
       " 773242                         0                        1   \n",
       " 425353                         0                        0   \n",
       " 1253796                        0                        0   \n",
       " 800819                         0                        0   \n",
       " \n",
       "          Status Desc_Juv Arrest  Status Desc_Juv Other  Status Desc_UNK  \n",
       " 455401                        0                      0                0  \n",
       " 84164                         0                      0                0  \n",
       " 1257118                       0                      0                1  \n",
       " 449189                        0                      0                0  \n",
       " 1193558                       0                      0                1  \n",
       " ...                         ...                    ...              ...  \n",
       " 946235                        0                      0                1  \n",
       " 773242                        0                      0                0  \n",
       " 425353                        0                      0                0  \n",
       " 1253796                       0                      0                1  \n",
       " 800819                        0                      0                1  \n",
       " \n",
       " [963116 rows x 61 columns],\n",
       "          DR Number  Area ID  Reporting District  Crime Code  \\\n",
       " 1230060  170206814        2                 256         997   \n",
       " 614506   221609574       16                1657         330   \n",
       " 396361   221004890       10                1034         331   \n",
       " 661635   230908942        9                 981         420   \n",
       " 1081610  140518035        5                 509         997   \n",
       " ...            ...      ...                 ...         ...   \n",
       " 676643   230209705        2                 249         330   \n",
       " 297016   211013885       10                1017         420   \n",
       " 1045950  130917947        9                 989         997   \n",
       " 532748   221418662       14                1444         626   \n",
       " 155700   201810510       18                1862         310   \n",
       " \n",
       "          Crime Code Description  MO Codes  Premise Description   Address  \\\n",
       " 1230060               -0.085698  0.156053            -0.001072 -1.284812   \n",
       " 614506                 0.447349  0.087104            -0.472409 -0.200947   \n",
       " 396361                 0.692064  0.327134            -0.019157 -0.988990   \n",
       " 661635                 0.238572  0.000000            -0.001072 -0.669186   \n",
       " 1081610               -0.085698  0.867746            -0.001072 -1.862684   \n",
       " ...                         ...       ...                  ...       ...   \n",
       " 676643                 0.447349  0.382221             0.241196 -0.618152   \n",
       " 297016                 0.238572  0.000000            -0.001072 -0.366322   \n",
       " 1045950               -0.085698 -0.559306            -0.001072 -1.506184   \n",
       " 532748                -1.798782 -0.517488            -0.648992 -1.059142   \n",
       " 155700                 0.068194  0.402414            -0.648992 -0.627040   \n",
       " \n",
       "               LAT       LON  ...  Victim Descent_Pacific Islander  \\\n",
       " 1230060  0.035322 -0.032936  ...                                0   \n",
       " 614506   0.155488 -0.036533  ...                                0   \n",
       " 396361   0.112189 -0.076099  ...                                0   \n",
       " 661635   0.095162 -0.067326  ...                                0   \n",
       " 1081610 -0.121333 -0.039498  ...                                0   \n",
       " ...           ...       ...  ...                              ...   \n",
       " 676643   0.036538 -0.031514  ...                                0   \n",
       " 297016   0.126176 -0.074994  ...                                0   \n",
       " 1045950  0.095283 -0.061185  ...                                0   \n",
       " 532748  -0.007552 -0.063518  ...                                0   \n",
       " 155700  -0.043066 -0.033585  ...                                0   \n",
       " \n",
       "          Victim Descent_Samoan  Victim Descent_Unknown  \\\n",
       " 1230060                      0                       0   \n",
       " 614506                       0                       0   \n",
       " 396361                       0                       0   \n",
       " 661635                       0                       1   \n",
       " 1081610                      0                       0   \n",
       " ...                        ...                     ...   \n",
       " 676643                       0                       0   \n",
       " 297016                       0                       1   \n",
       " 1045950                      0                       0   \n",
       " 532748                       0                       0   \n",
       " 155700                       0                       0   \n",
       " \n",
       "          Victim Descent_Vietnamese  Victim Descent_White  \\\n",
       " 1230060                          0                     0   \n",
       " 614506                           0                     1   \n",
       " 396361                           0                     0   \n",
       " 661635                           0                     0   \n",
       " 1081610                          0                     0   \n",
       " ...                            ...                   ...   \n",
       " 676643                           0                     0   \n",
       " 297016                           0                     0   \n",
       " 1045950                          0                     0   \n",
       " 532748                           0                     1   \n",
       " 155700                           0                     0   \n",
       " \n",
       "          Status Desc_Adult Other  Status Desc_Invest Cont  \\\n",
       " 1230060                        0                        0   \n",
       " 614506                         0                        1   \n",
       " 396361                         0                        1   \n",
       " 661635                         0                        1   \n",
       " 1081610                        0                        0   \n",
       " ...                          ...                      ...   \n",
       " 676643                         0                        1   \n",
       " 297016                         0                        1   \n",
       " 1045950                        0                        0   \n",
       " 532748                         0                        1   \n",
       " 155700                         0                        1   \n",
       " \n",
       "          Status Desc_Juv Arrest  Status Desc_Juv Other  Status Desc_UNK  \n",
       " 1230060                       0                      0                1  \n",
       " 614506                        0                      0                0  \n",
       " 396361                        0                      0                0  \n",
       " 661635                        0                      0                0  \n",
       " 1081610                       0                      0                1  \n",
       " ...                         ...                    ...              ...  \n",
       " 676643                        0                      0                0  \n",
       " 297016                        0                      0                0  \n",
       " 1045950                       0                      0                1  \n",
       " 532748                        0                      0                0  \n",
       " 155700                        0                      0                0  \n",
       " \n",
       " [412765 rows x 61 columns],\n",
       " array([1, 2, 1, ..., 0, 0, 1]),\n",
       " array([1, 0, 1, ..., 0, 0, 0]))"
      ]
     },
     "execution_count": 49,
     "metadata": {},
     "output_type": "execute_result"
    }
   ],
   "source": [
    "X_train_va, X_test_va, y_train_va, y_test_va\n",
    "X_train_vs, X_test_vs, y_train_vs, y_test_vs"
   ]
  },
  {
   "cell_type": "code",
   "execution_count": 61,
   "id": "ae37c3f2",
   "metadata": {},
   "outputs": [],
   "source": [
    "# combining and converting to dataframes to store the preprocessed data\n",
    "victim_age_feature_data_df = pd.DataFrame(np.concatenate((X_train_va, X_test_va),axis=0),\n",
    "                                         columns=X_train_va.columns)\n",
    "victim_age_target_data_df = pd.DataFrame(np.concatenate((y_train_va, y_test_va),axis=0),\n",
    "                                                        columns=[\"Victim Age\"])\n",
    "\n",
    "victim_sex_feature_data_df = pd.DataFrame(np.concatenate((X_train_vs, X_test_vs),axis=0), \n",
    "                                                         columns=X_train_vs.columns)\n",
    "victim_sex_target_data_df = pd.DataFrame(np.concatenate((y_train_vs, y_test_vs),axis=0),\n",
    "                                                        columns=[\"Victim Sex\"])"
   ]
  },
  {
   "cell_type": "code",
   "execution_count": 62,
   "id": "2bff5f9f",
   "metadata": {},
   "outputs": [],
   "source": [
    "# store the preprocessed data\n",
    "victim_age_feature_csv = '/Users/frankyaraujo/Development/springboard_main/Capstone Two/\\\n",
    "Springboard-Capstone-Two/src/data/victim_age_feature_data.csv'\n",
    "victim_age_target_csv = '/Users/frankyaraujo/Development/springboard_main/Capstone Two/\\\n",
    "Springboard-Capstone-Two/src/data/victim_age_target_data.csv'\n",
    "\n",
    "victim_sex_feature_csv = '/Users/frankyaraujo/Development/springboard_main/Capstone Two/\\\n",
    "Springboard-Capstone-Two/src/data/victim_sex_feature_data.csv'\n",
    "victim_sex_target_csv = '/Users/frankyaraujo/Development/springboard_main/Capstone Two/\\\n",
    "Springboard-Capstone-Two/src/data/victim_sex_target_data.csv'\n",
    "\n",
    "# Write DataFrames to CSV files\n",
    "victim_age_feature_data_df.to_csv(victim_age_feature_csv, index=False)\n",
    "victim_age_target_data_df.to_csv(victim_age_target_csv, index=False)\n",
    "\n",
    "victim_sex_feature_data_df.to_csv(victim_sex_feature_csv, index=False)\n",
    "victim_sex_target_data_df.to_csv(victim_sex_target_csv, index=False)"
   ]
  },
  {
   "cell_type": "markdown",
   "id": "514ad818",
   "metadata": {},
   "source": [
    "## 3.10 Setting up Pipelines  <a id=\"310-setting-up-pipelines\">"
   ]
  },
  {
   "cell_type": "markdown",
   "id": "f8002015",
   "metadata": {},
   "source": [
    "Managing two target variables—one for regression and another for classification—requires a thoughtful approach. Fortunately, the data has been scaled and transformed so the pipelines will be simply to compare models. "
   ]
  },
  {
   "cell_type": "markdown",
   "id": "d3bd4360",
   "metadata": {},
   "source": [
    "#### 3.10.1 Define Pipelines <a id=\"3101-define\"></a>"
   ]
  },
  {
   "cell_type": "code",
   "execution_count": 63,
   "id": "400e786c",
   "metadata": {},
   "outputs": [],
   "source": [
    "# Define the pipelines\n",
    "\n",
    "# Pipelines for regression\n",
    "regression_pipelines = [\n",
    "    ('RandomForest', RandomForestRegressor()),\n",
    "    ('GradientBoosting', GradientBoostingRegressor()),\n",
    "    ('LinearRegression', LinearRegression())\n",
    "]\n",
    "\n",
    "# Pipelines for classification\n",
    "classification_pipelines = [\n",
    "    ('RandomForest', RandomForestClassifier()),\n",
    "    ('GradientBoosting', GradientBoostingClassifier()),\n",
    "    ('LogisticRegression', LogisticRegression())\n",
    "]\n"
   ]
  },
  {
   "cell_type": "markdown",
   "id": "7256b130",
   "metadata": {},
   "source": [
    "## 3.11 Fit/Train/Predict and Assess Models  <a id=\"3102-fit-train-predict-and-assess\"></a>"
   ]
  },
  {
   "cell_type": "code",
   "execution_count": 64,
   "id": "4ddba226",
   "metadata": {
    "scrolled": true
   },
   "outputs": [
    {
     "name": "stdout",
     "output_type": "stream",
     "text": [
      "Regression Results:\n",
      "              Model         MSE\n",
      "0      RandomForest  211.419078\n",
      "1  GradientBoosting  214.119721\n",
      "2  LinearRegression  212.264525\n",
      "\n",
      "Classification Results:\n",
      "                Model  Accuracy\n",
      "0        RandomForest  0.619956\n",
      "1    GradientBoosting  0.549339\n",
      "2  LogisticRegression  0.488884\n",
      "\n",
      "Elapsed Time: 9611.328473091125 seconds\n"
     ]
    }
   ],
   "source": [
    "import time\n",
    "# Record start time\n",
    "start_time = time.time()\n",
    "\n",
    "X_train_va_sample = pd.DataFrame(X_train_va)\n",
    "y_train_va_sample = pd.DataFrame(y_train_va).values.ravel()  # Convert to 1D\n",
    "\n",
    "X_test_va_sample = pd.DataFrame(X_test_va)\n",
    "y_test_va_sample = pd.DataFrame(y_test_va).values.ravel()  # Convert to 1D \n",
    "\n",
    "X_train_vs_sample = pd.DataFrame(X_train_vs)\n",
    "y_train_vs_sample = y_train_vs \n",
    "\n",
    "X_test_vs_sample = pd.DataFrame(X_test_vs)\n",
    "y_test_vs_sample = y_test_vs\n",
    "\n",
    "# Results for regression\n",
    "results_va = []\n",
    "for name, model in regression_pipelines:\n",
    "    model.fit(X_train_va_sample, y_train_va_sample)\n",
    "    y_pred_va = model.predict(X_test_va_sample)\n",
    "    mse_va = mean_squared_error(y_test_va_sample, y_pred_va)\n",
    "    results_va.append({'Model': name, 'MSE': mse_va})\n",
    "\n",
    "# Results for classification\n",
    "results_vs = []\n",
    "for name, model in classification_pipelines:\n",
    "    model.fit(X_train_vs_sample, y_train_vs_sample)\n",
    "    y_pred_vs = model.predict(X_test_vs_sample)\n",
    "    accuracy_vs = accuracy_score(y_test_vs_sample, y_pred_vs)\n",
    "    results_vs.append({'Model': name, 'Accuracy': accuracy_vs})\n",
    "\n",
    "# Display results for regression\n",
    "results_df_va = pd.DataFrame(results_va)\n",
    "print(\"Regression Results:\")\n",
    "print(results_df_va)\n",
    "\n",
    "# Display results for classification\n",
    "results_df_vs = pd.DataFrame(results_vs)\n",
    "print(\"\\nClassification Results:\")\n",
    "print(results_df_vs)\n",
    "\n",
    "\n",
    "end_time = time.time()\n",
    "# Calculate elapsed time\n",
    "elapsed_time = end_time - start_time\n",
    "print(\"\\nElapsed Time:\", elapsed_time, \"seconds\")"
   ]
  },
  {
   "cell_type": "markdown",
   "id": "ec5a06f4",
   "metadata": {},
   "source": [
    "## 3.12 Final Model Selection <a id='314-final-model-selection'></a>"
   ]
  },
  {
   "cell_type": "markdown",
   "id": "9430f9e7",
   "metadata": {},
   "source": [
    "#### 3.12.1 Regression Model Performance <a id='3141-logistic-regression-model-performance'></a>\n",
    "   "
   ]
  },
  {
   "cell_type": "code",
   "execution_count": 65,
   "id": "eeb08639",
   "metadata": {},
   "outputs": [
    {
     "data": {
      "text/html": [
       "<div>\n",
       "<style scoped>\n",
       "    .dataframe tbody tr th:only-of-type {\n",
       "        vertical-align: middle;\n",
       "    }\n",
       "\n",
       "    .dataframe tbody tr th {\n",
       "        vertical-align: top;\n",
       "    }\n",
       "\n",
       "    .dataframe thead th {\n",
       "        text-align: right;\n",
       "    }\n",
       "</style>\n",
       "<table border=\"1\" class=\"dataframe\">\n",
       "  <thead>\n",
       "    <tr style=\"text-align: right;\">\n",
       "      <th></th>\n",
       "      <th>Model</th>\n",
       "      <th>MSE</th>\n",
       "    </tr>\n",
       "  </thead>\n",
       "  <tbody>\n",
       "    <tr>\n",
       "      <th>0</th>\n",
       "      <td>RandomForest</td>\n",
       "      <td>211.419078</td>\n",
       "    </tr>\n",
       "    <tr>\n",
       "      <th>1</th>\n",
       "      <td>GradientBoosting</td>\n",
       "      <td>214.119721</td>\n",
       "    </tr>\n",
       "    <tr>\n",
       "      <th>2</th>\n",
       "      <td>LinearRegression</td>\n",
       "      <td>212.264525</td>\n",
       "    </tr>\n",
       "  </tbody>\n",
       "</table>\n",
       "</div>"
      ],
      "text/plain": [
       "              Model         MSE\n",
       "0      RandomForest  211.419078\n",
       "1  GradientBoosting  214.119721\n",
       "2  LinearRegression  212.264525"
      ]
     },
     "execution_count": 65,
     "metadata": {},
     "output_type": "execute_result"
    }
   ],
   "source": [
    "results_df_va"
   ]
  },
  {
   "cell_type": "markdown",
   "id": "80b70c18",
   "metadata": {},
   "source": [
    "\n",
    "Based on the provided results, the Random Forest model is performing the best among the regression models, as it has the lowest Mean Squared Error (MSE). "
   ]
  },
  {
   "cell_type": "markdown",
   "id": "2257785a",
   "metadata": {},
   "source": [
    "#### 3.12.2 Classifier Model Performance <a id='3142-random-forest-regression-model-performance'></a>\n"
   ]
  },
  {
   "cell_type": "code",
   "execution_count": 66,
   "id": "80631be6",
   "metadata": {
    "scrolled": true
   },
   "outputs": [
    {
     "data": {
      "text/html": [
       "<div>\n",
       "<style scoped>\n",
       "    .dataframe tbody tr th:only-of-type {\n",
       "        vertical-align: middle;\n",
       "    }\n",
       "\n",
       "    .dataframe tbody tr th {\n",
       "        vertical-align: top;\n",
       "    }\n",
       "\n",
       "    .dataframe thead th {\n",
       "        text-align: right;\n",
       "    }\n",
       "</style>\n",
       "<table border=\"1\" class=\"dataframe\">\n",
       "  <thead>\n",
       "    <tr style=\"text-align: right;\">\n",
       "      <th></th>\n",
       "      <th>Model</th>\n",
       "      <th>Accuracy</th>\n",
       "    </tr>\n",
       "  </thead>\n",
       "  <tbody>\n",
       "    <tr>\n",
       "      <th>0</th>\n",
       "      <td>RandomForest</td>\n",
       "      <td>0.619956</td>\n",
       "    </tr>\n",
       "    <tr>\n",
       "      <th>1</th>\n",
       "      <td>GradientBoosting</td>\n",
       "      <td>0.549339</td>\n",
       "    </tr>\n",
       "    <tr>\n",
       "      <th>2</th>\n",
       "      <td>LogisticRegression</td>\n",
       "      <td>0.488884</td>\n",
       "    </tr>\n",
       "  </tbody>\n",
       "</table>\n",
       "</div>"
      ],
      "text/plain": [
       "                Model  Accuracy\n",
       "0        RandomForest  0.619956\n",
       "1    GradientBoosting  0.549339\n",
       "2  LogisticRegression  0.488884"
      ]
     },
     "execution_count": 66,
     "metadata": {},
     "output_type": "execute_result"
    }
   ],
   "source": [
    "results_df_vs"
   ]
  },
  {
   "cell_type": "markdown",
   "id": "d05ad922",
   "metadata": {},
   "source": [
    "In this case, both RandomForest and GradientBoosting produce better results compared to LogisticRegression. Therefore, we can consider RandomForest or GradientBoosting as potential choices for our classification model."
   ]
  },
  {
   "cell_type": "markdown",
   "id": "e98f1fe9",
   "metadata": {},
   "source": [
    "## 3.13 Conclusion <a id='315-conclusion'></a>\n",
    "   "
   ]
  },
  {
   "cell_type": "markdown",
   "id": "08ea2418",
   "metadata": {},
   "source": [
    "It's important to note that these results may not be conclusive, and still need to consider additional factors such as model interpretability, computational resources, and the specific requirements of my application. In the next notebook we will fine-tune hyperparameters and potentially explore other models to ensure the robustness of our model selection."
   ]
  }
 ],
 "metadata": {
  "kernelspec": {
   "display_name": "Python 3 (ipykernel)",
   "language": "python",
   "name": "python3"
  },
  "language_info": {
   "codemirror_mode": {
    "name": "ipython",
    "version": 3
   },
   "file_extension": ".py",
   "mimetype": "text/x-python",
   "name": "python",
   "nbconvert_exporter": "python",
   "pygments_lexer": "ipython3",
   "version": "3.10.13"
  }
 },
 "nbformat": 4,
 "nbformat_minor": 5
}
