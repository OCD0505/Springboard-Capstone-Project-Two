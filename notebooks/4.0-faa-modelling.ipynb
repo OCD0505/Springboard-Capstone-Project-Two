{
 "cells": [
  {
   "cell_type": "markdown",
   "id": "ffab0f21",
   "metadata": {},
   "source": [
    " # 4 Modeling<a id='4_Modeling'></a>\n",
    " ___"
   ]
  },
  {
   "cell_type": "markdown",
   "id": "981c89ba",
   "metadata": {},
   "source": [
    "## 4.1 Contents<a id='4.1_Contents'></a>\n",
    "* [4 Modeling](#4_Modeling)\n",
    "  * [4.1 Contents](#4.1_Contents)\n",
    "  * [4.2 Introduction](#4.2_Introduction)\n",
    "  * [4.3 Imports](#4.3_Imports)\n",
    "  * [4.4 Load Data](#4.4_Load_Data)\n",
    "  * [4.5 Train/Refit Selected Models](#4._Train_Refit_Selected_Models)\n",
    "     * [4.5.1 Regression Model Training](#4.5.1_Regression_Model_Training)\n",
    "     * [4.5.2 Classification Model Training](#4.5.2_Classification_Model_Training)\n",
    "     * [4.5.3 Initial Predictions & Performance](#4.5.3_Initial_Predictions_&_Performance)\n",
    "  * [4.6 Hyperparameter Tuning](#4.6_Hyperparameter_Tuning)\n",
    "      * [4.6.1 RandomizedSearchCV](#4.6.1_RandomizedSearchCV)\n",
    "          * [4.6.1.1_Random_Forest_Regressor](#4.6.1.1_Random_Forest_Regressor)\n",
    "          * [4.6.1.Gradient_Boosting_Classifier](#4.6.1.2_Gradient_Boosting_Classifier)\n",
    "      * [4.6.2 Bayesian Optimization](#4.6.2_Bayesian_Optimization)\n",
    "          * [4.6.2.1_Gradient_Boosting_Classifier](#4.6.2.1_Gradient_Boosting_Classifier)\n",
    "          * [4.6.2.2_Random_Forest_Regressor](#4.6.2.2_Random_Forest_Regressor)\n",
    "      * [4.6.3 Performance Comparison](#4.6.3_Performance_Comparison)\n",
    "      * [4.6.4 Best Params](#4.6.4_Best_Params)\n",
    "  * [4.7 Victims in Social Services Context](#4.7_Victims_in_Social_Services_Context)\n",
    "  * [4.8 Modeling scenarios](#4.8_Modeling_scenarios)\n",
    "    * [4.8.1 Scenario 1](#4.8.1_Scenario_1)\n",
    "    * [4.8.2 Scenario 2](#4.8.2_Scenario_2)\n",
    "  * [4.9.3_Scenarios_Summary](#4.9.3_Scenarios_Summary)\n",
    "  * [4.10_Closing Summary](#4.10_Closing_Summary)\n",
    "  * [4.11 What's next?](#4.11_Whats_next) \n"
   ]
  },
  {
   "cell_type": "markdown",
   "id": "4083b7a6",
   "metadata": {},
   "source": [
    "## 4.2 Introduction<a id='4.2_Introduction'></a>"
   ]
  },
  {
   "cell_type": "markdown",
   "id": "9fc14e7c",
   "metadata": {},
   "source": [
    "#### Purpose:\n",
    "This notebook will take on the challenge of predicting the age and sex of individuals who fall victim to crime. Building on the work from the preceding notebook, [3.0-faa-pre-processing-and-training-data-development.ipynb](https://github.com/OCD0505/Springboard-Capstone-Project-Two/blob/37ac45f3f9b4d6bc430e612a448dbd0b0e5be629/notebooks/3.0-faa-pre-processing-and-training-data-development.ipynb) which was focused on data preprocessing and training data development. By leveraging crime data and potentially other relevant variables, our primary objective is to create predictive models that estimate the age and sex of crime victims. \n",
    "\n",
    "Goal: Part 1: Finalize model selection, performance metrics, hyperparameter tuning, and other techniques for enhancing the predictive capabilities of our models. Part 2: Discuss the use cases for this model and value it can bring to certain agencies. \n",
    "\n",
    "### **Problem Statement:**\n",
    "The purpose of this data science project involves predicting the age and sex of individuals who become victims of crime using crime data and potentially other relevant variables. By analyzing patterns within crime data, we aim to develop predictive models that estimate the age and sex of victims, which can have applications in law enforcement, victim support and aid victim service providers target relevant areas. "
   ]
  },
  {
   "cell_type": "markdown",
   "id": "bcd7e499",
   "metadata": {},
   "source": [
    "## 4.3 Imports <a id='4.3_Imports'></a>\n",
    "\n"
   ]
  },
  {
   "cell_type": "code",
   "execution_count": 103,
   "id": "bb3fee75",
   "metadata": {},
   "outputs": [],
   "source": [
    "import pandas as pd\n",
    "import numpy as np\n",
    "import matplotlib.pyplot as plt\n",
    "import seaborn as sns\n",
    "\n",
    "from sklearn.linear_model import LogisticRegression, LinearRegression\n",
    "from sklearn.ensemble import RandomForestRegressor, RandomForestClassifier,\\\n",
    "                        GradientBoostingClassifier, GradientBoostingRegressor\n",
    "from bayes_opt import BayesianOptimization\n",
    "\n",
    "from sklearn.model_selection import train_test_split,cross_validate, GridSearchCV, RandomizedSearchCV\n",
    "\n",
    "from sklearn.preprocessing import StandardScaler\n",
    "from sklearn.metrics import r2_score, mean_squared_error, mean_absolute_error\n",
    "from sklearn.metrics import accuracy_score, precision_score,recall_score, f1_score,\\\n",
    "                                                        multilabel_confusion_matrix\n",
    "from sklearn import __version__ as sklearn_version\n",
    "from sklearn.pipeline import make_pipeline\n",
    "\n",
    "import time #to check the the time for code that take a few minutes to run\n",
    "import datetime as dt\n",
    "from library.sb_utils import save_file\n"
   ]
  },
  {
   "cell_type": "markdown",
   "id": "2b786637",
   "metadata": {},
   "source": [
    "## 4.4 Load Data <a id='4.4_Load_Data'></a>"
   ]
  },
  {
   "cell_type": "code",
   "execution_count": 2,
   "id": "5bc5ffa1",
   "metadata": {},
   "outputs": [],
   "source": [
    "# URLs for file upload\n",
    "\n",
    "'''\n",
    "victim_age_feature_csv = 'src/data/interim/victim_age_feature_data.csv'\n",
    "victim_age_target_csv = 'src/data/interim/victim_age_target_data.csv'\n",
    "\n",
    "victim_sex_feature_csv = 'src/data/interim/victim_sex_feature_data.csv'\n",
    "victim_sex_target_csv = 'src/data/interim/victim_sex_target_data.csv'\n",
    "'''\n",
    "\n",
    "# Load DataFrames from CSV files\n",
    "victim_age_feature_data_df = pd.read_csv(victim_age_feature_csv)\n",
    "victim_age_target_data_df = pd.read_csv(victim_age_target_csv)\n",
    "\n",
    "victim_sex_feature_data_df = pd.read_csv(victim_sex_feature_csv)\n",
    "victim_sex_target_data_df = pd.read_csv(victim_sex_target_csv)\n"
   ]
  },
  {
   "cell_type": "markdown",
   "id": "80cbb10a",
   "metadata": {},
   "source": [
    "## 4.5 Train/Refit Selected Models <a id='4.5_Train_Refit_Selected_Models'></a>\n",
    "\n",
    "\n"
   ]
  },
  {
   "cell_type": "markdown",
   "id": "a1ac30e5",
   "metadata": {},
   "source": [
    "In the previous notebook, \"3.0 Pre-processing & Training Data Development\", three models were trained for each target variable. \n",
    "\n",
    "For the regression variable, the following models were used:\n",
    "- 'RandomForest', RandomForestRegressor()\n",
    "- 'GradientBoosting', GradientBoostingRegressor()\n",
    "- 'LinearRegression', LinearRegression()\n",
    "\n",
    "For the classification variable, the following models were used: \n",
    "- 'RandomForest', RandomForestClassifier()\n",
    "- 'GradientBoosting', GradientBoostingClassifier()\n",
    "- 'LogisticRegression', LogisticRegression()\n",
    "\n",
    "After reviewing the performances of all the models, it was determined that the Random Forest & Gradien Boosting models for both target variables were the top performers. Due to the results, this notebook will use the following models:\n",
    "- 'RandomForest', RandomForestRegressor()\n",
    "- 'GradientBoosting', GradientBoostingRegressor()\n",
    "- 'RandomForest', RandomForestClassifier()\n",
    "- 'GradientBoosting', GradientBoostingClassifier()"
   ]
  },
  {
   "cell_type": "code",
   "execution_count": 3,
   "id": "1370ea7a",
   "metadata": {},
   "outputs": [],
   "source": [
    "# Split the data \n",
    "\n",
    "# for regression model\n",
    "X_va=victim_age_feature_data_df.values\n",
    "y_va=victim_age_target_data_df.values.ravel()\n",
    "\n",
    "X_train_va, X_test_va, y_train_va, y_test_va = train_test_split(X_va,y_va,test_size=.3, \n",
    "                                                            stratify=y_va,random_state=42)\n",
    "# for classification model\n",
    "X_vs=victim_sex_feature_data_df.values\n",
    "y_vs=victim_sex_target_data_df.values.ravel()\n",
    "\n",
    "X_train_vs, X_test_vs, y_train_vs, y_test_vs = train_test_split(X_vs,y_vs,test_size=.3, \n",
    "                                                                stratify=y_vs,random_state=42)"
   ]
  },
  {
   "cell_type": "code",
   "execution_count": 4,
   "id": "75937ba1",
   "metadata": {},
   "outputs": [],
   "source": [
    "# Define the pipelines\n",
    "\n",
    "# for regression model\n",
    "\n",
    "regression_pipelines = [\n",
    "    ('RandomForest', RandomForestRegressor()),\n",
    "    ('GradientBoosting', GradientBoostingRegressor())\n",
    "]\n",
    "\n",
    "# for classification model\n",
    "\n",
    "classification_pipelines = [\n",
    "    ('RandomForest', RandomForestClassifier()),\n",
    "    ('GradientBoosting', GradientBoostingClassifier())\n",
    "]"
   ]
  },
  {
   "cell_type": "markdown",
   "id": "863d32f1",
   "metadata": {},
   "source": [
    "#### 4.5.1 Regression Model Training <a id=\"4.5.1_Regression_Model_Training\"></a>"
   ]
  },
  {
   "cell_type": "code",
   "execution_count": 5,
   "id": "55c7f256",
   "metadata": {},
   "outputs": [],
   "source": [
    "trained_regression_model={}\n",
    "for name, model in regression_pipelines:\n",
    "    model.fit(X_train_va, y_train_va)\n",
    "    trained_regression_model[name] = model"
   ]
  },
  {
   "cell_type": "markdown",
   "id": "2886f4c4",
   "metadata": {},
   "source": [
    "#### 4.5.2 Classification Model Training <a id=\"4.5.2_Classification_Model_Training\"></a>"
   ]
  },
  {
   "cell_type": "code",
   "execution_count": 6,
   "id": "f7fcdd3d",
   "metadata": {},
   "outputs": [],
   "source": [
    "trained_classification_model={}\n",
    "for name, model in classification_pipelines:\n",
    "    model.fit(X_train_vs, y_train_vs)\n",
    "    trained_classification_model[name] = model"
   ]
  },
  {
   "cell_type": "markdown",
   "id": "d3c4330b",
   "metadata": {},
   "source": [
    "#### 4.5.3 Inital Predictions & Performance <a id=\"4.5.3_Initial_Predictions_&_Performance\"></a>"
   ]
  },
  {
   "cell_type": "code",
   "execution_count": 7,
   "id": "a06665cf",
   "metadata": {
    "scrolled": true
   },
   "outputs": [],
   "source": [
    "# Predictions\n",
    "\n",
    "y_pred_va_rf = trained_regression_model[\"RandomForest\"].predict(X_test_va)\n",
    "y_pred_va_gb = trained_regression_model[\"GradientBoosting\"].predict(X_test_va)\n",
    "\n",
    "y_pred_vs_rf = trained_classification_model[\"RandomForest\"].predict(X_test_vs)\n",
    "y_pred_vs_gb = trained_classification_model[\"GradientBoosting\"].predict(X_test_vs)"
   ]
  },
  {
   "cell_type": "code",
   "execution_count": 8,
   "id": "e1ea7449",
   "metadata": {
    "scrolled": true
   },
   "outputs": [
    {
     "name": "stdout",
     "output_type": "stream",
     "text": [
      "RMSE for RandomForest Regressor: 13.931528250961424\n",
      "MAE for RandomForest Regressor: 10.216155489149916\n",
      "\n",
      "RMSE for GradientBoosting Regressor: 13.845161416909114\n",
      "MAE for GradientBoosting Regressor: 10.247495298024182\n",
      "\n",
      " ----------------------------------------------------------------------\n",
      "\n",
      "Accuracy Score for RandomForest Classifier: 0.6518260995966227\n",
      "Precision for RandomForest Classifier: 0.6518260995966227\n",
      "Recall for RandomForest Classifier: 0.6518260995966227\n",
      "\n",
      "Accuracy Score for GradientBoosting Classifier: 0.6712027424805882\n",
      "Precision for GradientBoosting Classifier: 0.6712027424805882\n",
      "Recall for GradientBoosting Classifier: 0.6712027424805882\n"
     ]
    }
   ],
   "source": [
    "# Performance Metrics\n",
    "print(\"RMSE for RandomForest Regressor:\", np.sqrt(mean_squared_error(y_test_va,y_pred_va_rf)))\n",
    "print(\"MAE for RandomForest Regressor:\", mean_absolute_error(y_test_va,y_pred_va_rf))\n",
    "print(\"\\nRMSE for GradientBoosting Regressor:\", np.sqrt(mean_squared_error(y_test_va,y_pred_va_gb)))\n",
    "print(\"MAE for GradientBoosting Regressor:\", mean_absolute_error(y_test_va,y_pred_va_gb))\n",
    "print(\"\\n\",\"-\"*70)\n",
    "print(\"\\nAccuracy Score for RandomForest Classifier:\", accuracy_score(y_test_vs, y_pred_vs_rf))\n",
    "print(\"Precision for RandomForest Classifier:\", precision_score(y_test_vs,y_pred_vs_rf, average='micro'))\n",
    "print(\"Recall for RandomForest Classifier:\", recall_score(y_test_vs,y_pred_vs_rf, average='micro'))\n",
    "print(\"\\nAccuracy Score for GradientBoosting Classifier:\", accuracy_score(y_test_vs, y_pred_vs_gb))\n",
    "print(\"Precision for GradientBoosting Classifier:\", precision_score(y_test_vs,y_pred_vs_gb, average='micro'))\n",
    "print(\"Recall for GradientBoosting Classifier:\", recall_score(y_test_vs,y_pred_vs_gb, average='micro'))"
   ]
  },
  {
   "cell_type": "code",
   "execution_count": 9,
   "id": "7ee728c4",
   "metadata": {},
   "outputs": [],
   "source": [
    "# before moving on, lets store the best trained model so we dont need to retrain before this point\n",
    "\n",
    "best_regressor_model = trained_regression_model[\"RandomForest\"]\n",
    "best_regressor_model.version = '1.0'\n",
    "best_regressor_model.pandas_version = pd.__version__\n",
    "best_regressor_model.numpy_version = np.__version__\n",
    "best_regressor_model.sklearn_version = sklearn_version\n",
    "best_regressor_model.X_columns = [col for col in pd.DataFrame(X_train_va).columns]\n",
    "best_regressor_model.build_datetime = dt.datetime.now()\n"
   ]
  },
  {
   "cell_type": "code",
   "execution_count": 10,
   "id": "c166ea24",
   "metadata": {},
   "outputs": [],
   "source": [
    "best_classifier_model = trained_classification_model[\"GradientBoosting\"]\n",
    "best_classifier_model.version = '1.0'\n",
    "best_classifier_model.pandas_version = pd.__version__\n",
    "best_classifier_model.numpy_version = np.__version__\n",
    "best_classifier_model.sklearn_version = sklearn_version\n",
    "best_classifier_model.X_columns = [col for col in pd.DataFrame(X_train_vs).columns]\n",
    "best_classifier_model.build_datetime = dt.datetime.now()\n"
   ]
  },
  {
   "cell_type": "code",
   "execution_count": 11,
   "id": "314b2ff8",
   "metadata": {},
   "outputs": [
    {
     "name": "stdout",
     "output_type": "stream",
     "text": [
      "A file already exists with this name.\n",
      "\n",
      "Do you want to overwrite? (Y/N)y\n",
      "Writing file.  \"/Users/frankyaraujo/Development/springboard_main/Capstone Two/Springboard-Capstone-Two/models/victim_age_predictor_model.pkl\"\n",
      "A file already exists with this name.\n",
      "\n",
      "Do you want to overwrite? (Y/N)y\n",
      "Writing file.  \"/Users/frankyaraujo/Development/springboard_main/Capstone Two/Springboard-Capstone-Two/models/victim_sex_predictor_model.pkl\"\n"
     ]
    }
   ],
   "source": [
    "regressormodelpath = 'src/data/models'\n",
    "save_file(best_regressor_model, 'victim_age_predictor_model.pkl', regressormodelpath)\n",
    "\n",
    "classifiermodelpath = 'src/data/models'\n",
    "save_file(best_classifier_model, 'victim_sex_predictor_model.pkl', classifiermodelpath)"
   ]
  },
  {
   "cell_type": "markdown",
   "id": "423ffdfb",
   "metadata": {},
   "source": [
    "### 4.6 Hyperparameter Tuning <a id=\"4.6_Hyperparameter_Tuning\"></a>"
   ]
  },
  {
   "cell_type": "markdown",
   "id": "e26c207f",
   "metadata": {},
   "source": [
    "The above performance metrics are not impressive whatsoever but none of the hyperparemeters were specified so lets see if things can be improved. For the sake of efficiency, subsets of the data will be used in teh following sections. "
   ]
  },
  {
   "cell_type": "code",
   "execution_count": 12,
   "id": "fd7e131b",
   "metadata": {},
   "outputs": [],
   "source": [
    "# creating samples\n",
    "\n",
    "sample_percentage=.01\n",
    "sample_size1 = int(len(X_train_va) * sample_percentage) #features\n",
    "sample_size2 = int(len(y_train_va) * sample_percentage) #target\n",
    "\n",
    "X_va_sample_train = np.random.choice(X_train_va.ravel(),size=sample_size1, replace=False)\n",
    "y_va_sample_train = np.random.choice(y_train_va, size=sample_size2, replace=False)\n",
    "X_va_sample_test = np.random.choice(X_test_va.ravel(),size=sample_size1, replace=False)\n",
    "y_va_sample_test = np.random.choice(y_test_va, size=sample_size2, replace=False)\n",
    "\n",
    "X_vs_sample_train = np.random.choice(X_train_vs.ravel(),size=sample_size1, replace=False)\n",
    "y_vs_sample_train = np.random.choice(y_train_vs, size=sample_size2, replace=False)\n",
    "X_vs_sample_test = np.random.choice(X_test_vs.ravel(),size=sample_size1, replace=False)\n",
    "y_vs_sample_test = np.random.choice(y_test_vs, size=sample_size2, replace=False)"
   ]
  },
  {
   "cell_type": "markdown",
   "id": "49af71e4",
   "metadata": {},
   "source": [
    "#### 4.6.1 RandomizedSearchCV <a id=\"4.6.1_RandomizedSearchCV\"><a/>\n",
    "    "
   ]
  },
  {
   "cell_type": "markdown",
   "id": "f86f4312",
   "metadata": {},
   "source": [
    "The RandomSearchCV will be applied to both models to tune the parameters with hopes of optimizing performance."
   ]
  },
  {
   "cell_type": "code",
   "execution_count": 13,
   "id": "0ba735c6",
   "metadata": {},
   "outputs": [],
   "source": [
    "'''\n",
    "RandomizedSearchCV(estimator, param_distributions, *, n_iter=10, scoring=None, \n",
    "n_jobs=None, refit=True, cv=None, verbose=0, pre_dispatch='2*n_jobs', random_state=None, \n",
    "error_score=nan, return_train_score=False)\n",
    "\n",
    "Below is a function that takes the model, parameter grid, and other relevant parameters as \n",
    "arguments, and then performs hyperparameter tuning using RandomizedSearchCV.\n",
    "'''\n",
    "\n",
    "# function to apply RandomSearchCV to models\n",
    "\n",
    "def tune_hyperparameters_random(model, param_grid, X_train, y_train, scoring, n_iter=10, \\\n",
    "                                n_jobs=-1, random_state=None):\n",
    "    '''\n",
    "    tune_hyperparameters_random(model, param_dist, X_train, y_train, scoring, n_iter=10, n_jobs=-1)\n",
    "\n",
    "    Description:\n",
    "    Performs hyperparameter tuning for a given machine learning model using RandomizedSearchCV. \n",
    "    This function takes the model, a parameter distribution specifying the hyperparameter values \n",
    "    to sample, and other relevant parameters such as training data, scoring metric, number of iterations, \n",
    "    and the number of parallel jobs. It then searches for the best hyperparameters using a randomized search.\n",
    "\n",
    "    Parameters:\n",
    "    - model : The machine learning model to be tuned.\n",
    "    - param_dist (dict): Dictionary specifying the hyperparameter distribution to sample from.\n",
    "    - X_train : Training data features.\n",
    "    - y_train : Training data labels.\n",
    "    - scoring : Scoring metric used to evaluate the performance of the model.\n",
    "    - n_iter : Number of iterations for random search.\n",
    "    - n_jobs : Number of parallel jobs to run during the random search.\n",
    "    \n",
    "    Returns:\n",
    "    - best_model : The tuned machine learning model with the best hyperparameters.\n",
    "    - best_params : Dictionary containing the best hyperparameters found during the search.\n",
    "    '''\n",
    "\n",
    "    # Create the RandomizedSearchCV object\n",
    "    randomized_search = RandomizedSearchCV(model,\n",
    "                                           param_distributions=param_grid,\n",
    "                                           scoring=scoring,\n",
    "                                           n_iter=n_iter,\n",
    "                                           n_jobs=n_jobs,\n",
    "                                           random_state=random_state)\n",
    "    \n",
    "    # Fit the model with the training data\n",
    "    randomized_search.fit(X_train, y_train)\n",
    "    \n",
    "    # Return the best model and its parameters\n",
    "    best_model = randomized_search.best_estimator_\n",
    "    best_params = randomized_search.best_params_\n",
    "    \n",
    "    return best_model, best_params\n",
    "\n",
    "# function to evaluate model performance for either regressor or classifier\n",
    "\n",
    "def evaluate_model(model, X_train, y_train, X_test, y_test, is_regression=True):\n",
    "    # Train the model\n",
    "    model.fit(X_train.reshape(-1, 1), y_train)\n",
    "    \n",
    "    # Make predictions\n",
    "    y_pred = model.predict(X_test.reshape(-1, 1))\n",
    "    \n",
    "    # Evaluate performance\n",
    "    if is_regression:\n",
    "        print(\"RMSE:\", np.sqrt(mean_squared_error(y_test, y_pred)))\n",
    "        print(\"MAE:\", mean_absolute_error(y_test, y_pred))\n",
    "    else:\n",
    "        print(\"Accuracy Score:\", accuracy_score(y_test, y_pred))\n",
    "        print(\"Precision:\", precision_score(y_test, y_pred, average='micro'))\n",
    "        print(\"Recall:\", recall_score(y_test, y_pred, average='micro'))\n",
    "        \n"
   ]
  },
  {
   "cell_type": "markdown",
   "id": "d522173b",
   "metadata": {},
   "source": [
    "##### 4.6.1.1 Random Forest Regressor   <a id=\"4.6.1.1_Random_Forest_Regressor\"><a/>"
   ]
  },
  {
   "cell_type": "code",
   "execution_count": 14,
   "id": "1043a2b4",
   "metadata": {
    "scrolled": true
   },
   "outputs": [],
   "source": [
    "# hyperparameters and ranges to try on Random Forest Regression model\n",
    "\n",
    "param_grid_regression = {\n",
    "    'n_estimators': [50, 100, 150],\n",
    "    'max_depth': [None, 10, 20],\n",
    "    'min_samples_split': [2, 5, 10],\n",
    "    'min_samples_leaf': [1, 2, 4],\n",
    "    'max_features': ['auto', 'sqrt', 0.5],\n",
    "    'bootstrap': [True, False],\n",
    "    'criterion': ['squared_error', 'absolute_error'],\n",
    "}\n",
    "\n",
    "# run function that takes the model, parameter grid, and other relevant parameters as arguments, and then performs hyperparameter tuning\n",
    "best_regressor_model_rscv, best_params_regressor = tune_hyperparameters_random(best_regressor_model,\n",
    "                                                          param_grid_regression,\n",
    "                                                          X_va_sample_train.reshape(-1, 1),\n",
    "                                                          y_va_sample_train,\n",
    "                                                          scoring=\"neg_root_mean_squared_error\",\n",
    "                                                          n_iter=10,\n",
    "                                                          n_jobs=-1,\n",
    "                                                          random_state=42)"
   ]
  },
  {
   "cell_type": "code",
   "execution_count": 15,
   "id": "09e92cb7",
   "metadata": {
    "scrolled": true
   },
   "outputs": [
    {
     "name": "stdout",
     "output_type": "stream",
     "text": [
      "Before hyperparameter tuning with RandomSearchCV\n",
      "\n",
      "RMSE: 14.917289427217415\n",
      "MAE: 11.11113257230398\n",
      "----------------------------------------------------------------------\n",
      "\n",
      "After hyperparameter tuning with RandomSearchCV\n",
      "\n",
      "RMSE: 14.339954877447806\n",
      "MAE: 10.412729726923477\n"
     ]
    }
   ],
   "source": [
    "# Before hyperparameter tuning with \n",
    "print(\"Before hyperparameter tuning with RandomSearchCV\\n\")\n",
    "evaluate_model(trained_regression_model[\"RandomForest\"], X_va_sample_train, y_va_sample_train, \\\n",
    "               X_va_sample_test, y_va_sample_test, is_regression=True)\n",
    "\n",
    "print(\"-\" * 70)\n",
    "\n",
    "# After hyperparameter tuning\n",
    "print(\"\\nAfter hyperparameter tuning with RandomSearchCV\\n\")\n",
    "evaluate_model(best_regressor_model_rscv, X_va_sample_train, y_va_sample_train, X_va_sample_test,\\\n",
    "               y_va_sample_test, is_regression=True)"
   ]
  },
  {
   "cell_type": "markdown",
   "id": "1e716116",
   "metadata": {},
   "source": [
    "Note: The metrics here are much lower since these are samples being used for the sake of efficiency.\n",
    "\n",
    "The initial model was refit to make sure the metrics are being appropriately compared (ie model trained with sample data). The results show that there was a slight improvement after tuning the parameters with RandomSearchCV. This is indicated by the lower error. "
   ]
  },
  {
   "cell_type": "markdown",
   "id": "0202577a",
   "metadata": {},
   "source": [
    "##### 4.6.1.2 Gradient Boosting Classifier <a id=\"4.6.1.2_Gradient_Boosting_Classifier\"><a/>"
   ]
  },
  {
   "cell_type": "code",
   "execution_count": 16,
   "id": "fbab732c",
   "metadata": {
    "scrolled": true
   },
   "outputs": [],
   "source": [
    "# hyperparameters and ranges to try\n",
    "param_grid_classifier = {\n",
    "    'learning_rate': [0.01, 0.05, 0.1, 0.2],\n",
    "    'n_estimators': [50, 100, 150, 200],\n",
    "    'subsample': [0.8, 0.9, 1.0],\n",
    "    'max_depth': [3, 5, 7, 9],\n",
    "    'min_samples_split': [2, 4, 6, 8, 10],\n",
    "    'min_samples_leaf': [1, 2, 4],\n",
    "    'min_weight_fraction_leaf': [0.0, 0.1, 0.2, 0.3, 0.4, 0.5],\n",
    "    'max_features': ['sqrt', 'log2', None, 0.5, 0.7, 0.9],\n",
    "    'min_impurity_decrease': [0.0, 0.1, 0.2],\n",
    "}\n",
    "\n",
    "# run function that takes the model, parameter grid, and other relevant parameters as arguments, and then performs hyperparameter tuning\n",
    "best_classifier_model_rscv, best_params_classifier = tune_hyperparameters_random(best_classifier_model,\n",
    "                                                          param_grid_classifier,\n",
    "                                                          X_vs_sample_train.reshape(-1, 1),\n",
    "                                                          y_vs_sample_train,\n",
    "                                                          scoring=\"accuracy\",\n",
    "                                                          n_iter=10,\n",
    "                                                          n_jobs=-1,\n",
    "                                                          random_state=42)"
   ]
  },
  {
   "cell_type": "code",
   "execution_count": 17,
   "id": "9b5b6dc7",
   "metadata": {
    "scrolled": true
   },
   "outputs": [
    {
     "name": "stdout",
     "output_type": "stream",
     "text": [
      "Before hyperparameter tuning with RandomSearchCV\n",
      "\n",
      "Accuracy Score: 0.4758592046516457\n",
      "Precision: 0.4758592046516457\n",
      "Recall: 0.4758592046516457\n",
      "----------------------------------------------------------------------\n",
      "\n",
      "After hyperparameter tuning with RandomSearchCV\n",
      "\n",
      "Accuracy Score: 0.4804277852767106\n",
      "Precision: 0.4804277852767106\n",
      "Recall: 0.4804277852767106\n"
     ]
    }
   ],
   "source": [
    "\n",
    "# Before hyperparameter tuning with \n",
    "print(\"Before hyperparameter tuning with RandomSearchCV\\n\")\n",
    "evaluate_model(trained_classification_model[\"GradientBoosting\"], X_vs_sample_train, \\\n",
    "               y_vs_sample_train, X_vs_sample_test, y_vs_sample_test, is_regression=False)\n",
    "\n",
    "print(\"-\" * 70)\n",
    "\n",
    "# After hyperparameter tuning\n",
    "print(\"\\nAfter hyperparameter tuning with RandomSearchCV\\n\")\n",
    "evaluate_model(best_classifier_model_rscv, X_vs_sample_train, y_vs_sample_train,\\\n",
    "               X_vs_sample_test, y_vs_sample_test, is_regression=False)"
   ]
  },
  {
   "cell_type": "markdown",
   "id": "4adaa3b5",
   "metadata": {},
   "source": [
    "Note: The metrics here are much lower since these are samples being used for the sake of efficiency. \n",
    "\n",
    "The initial model was refit to make sure the metrics are being appropriately compared (ie model trained with sample data). The results show that there was a slight improvement after tuning the parameters with RandomSearchCV. This is indicated by the higher values for accuracy, recall, and precision."
   ]
  },
  {
   "cell_type": "markdown",
   "id": "d8f304fd",
   "metadata": {},
   "source": [
    "#### 4.6.2 Bayesian Optimization <a id=\"4.6.2_Bayesian_Optimization\"><a/>\n",
    "    \n",
    " "
   ]
  },
  {
   "cell_type": "markdown",
   "id": "025ad4b5",
   "metadata": {},
   "source": [
    "Bayesian optimization will be applied to see if we get better results that RandomSearCV before moving forward and tuning the model with the full dataset."
   ]
  },
  {
   "cell_type": "code",
   "execution_count": 18,
   "id": "694aa0f5",
   "metadata": {},
   "outputs": [],
   "source": [
    "# functions to optimize \n",
    "\n",
    "def classifier_func(learning_rate, n_estimators, subsample, max_depth, min_samples_split,\n",
    "                   min_samples_leaf, min_weight_fraction_leaf, max_features, min_impurity_decrease):\n",
    "    params = {\n",
    "        'learning_rate': learning_rate,\n",
    "        'n_estimators': int(n_estimators),\n",
    "        'subsample': subsample,\n",
    "        'max_depth': int(max_depth),\n",
    "        'min_samples_split': int(min_samples_split),\n",
    "        'min_samples_leaf': int(min_samples_leaf),\n",
    "        'min_weight_fraction_leaf': min_weight_fraction_leaf,\n",
    "        'max_features': max_features,\n",
    "        'min_impurity_decrease': min_impurity_decrease,\n",
    "    }\n",
    "\n",
    "    # Create a GradientBoostingClassifier with the specified hyperparameters\n",
    "    clf = GradientBoostingClassifier(**params)\n",
    "    clf.fit(X_vs_sample_train.reshape(-1,1), y_vs_sample_train)\n",
    "    \n",
    "    y_pred = clf.predict(X_vs_sample_test.reshape(-1,1))\n",
    "    accuracy = accuracy_score(y_vs_sample_test, y_pred)\n",
    "\n",
    "    return accuracy\n",
    "\n",
    "def regressor_func(n_estimators, max_depth, min_samples_split, min_samples_leaf, max_features):\n",
    "    params = {\n",
    "        'n_estimators': int(n_estimators),\n",
    "        'max_depth': int(max_depth),\n",
    "        'min_samples_split': int(min_samples_split),\n",
    "        'min_samples_leaf': int(min_samples_leaf),\n",
    "        'max_features': max_features,\n",
    "    }\n",
    "\n",
    "    # Create a RandomForestRegressor with the specified hyperparameters\n",
    "    reg = RandomForestRegressor(**params)\n",
    "    reg.fit(X_vs_sample_train.reshape(-1, 1), y_vs_sample_train)\n",
    "    \n",
    "    y_pred = reg.predict(X_vs_sample_test.reshape(-1, 1))\n",
    "    mse = mean_squared_error(y_vs_sample_test, y_pred)\n",
    "\n",
    "    return -mse"
   ]
  },
  {
   "cell_type": "markdown",
   "id": "4ca814b0",
   "metadata": {},
   "source": [
    "##### 4.6.2.1 Gradient Boosting Classifier <a id=\"4.6.2.1_Gradient_Boosting_Classifier\"><a/>"
   ]
  },
  {
   "cell_type": "code",
   "execution_count": 19,
   "id": "07a95e9f",
   "metadata": {
    "scrolled": false
   },
   "outputs": [
    {
     "name": "stdout",
     "output_type": "stream",
     "text": [
      "|   iter    |  target   | learni... | max_depth | max_fe... | min_im... | min_sa... | min_sa... | min_we... | n_esti... | subsample |\n",
      "-------------------------------------------------------------------------------------------------------------------------------------\n",
      "| \u001b[0m1        \u001b[0m | \u001b[0m0.4769   \u001b[0m | \u001b[0m0.08116  \u001b[0m | \u001b[0m9.655    \u001b[0m | \u001b[0m0.7588   \u001b[0m | \u001b[0m0.1197   \u001b[0m | \u001b[0m2.404    \u001b[0m | \u001b[0m4.808    \u001b[0m | \u001b[0m0.02904  \u001b[0m | \u001b[0m179.9    \u001b[0m | \u001b[0m0.8006   \u001b[0m |\n",
      "| \u001b[95m2        \u001b[0m | \u001b[95m0.4804   \u001b[0m | \u001b[95m0.1445   \u001b[0m | \u001b[95m3.144    \u001b[0m | \u001b[95m0.9729   \u001b[0m | \u001b[95m0.1665   \u001b[0m | \u001b[95m2.911    \u001b[0m | \u001b[95m5.273    \u001b[0m | \u001b[95m0.0917   \u001b[0m | \u001b[95m95.64    \u001b[0m | \u001b[95m0.7624   \u001b[0m |\n",
      "| \u001b[0m3        \u001b[0m | \u001b[0m0.4804   \u001b[0m | \u001b[0m0.09207  \u001b[0m | \u001b[0m5.039    \u001b[0m | \u001b[0m0.6507   \u001b[0m | \u001b[0m0.0279   \u001b[0m | \u001b[0m3.629    \u001b[0m | \u001b[0m8.595    \u001b[0m | \u001b[0m0.228    \u001b[0m | \u001b[0m167.8    \u001b[0m | \u001b[0m0.5998   \u001b[0m |\n",
      "| \u001b[0m4        \u001b[0m | \u001b[0m0.4804   \u001b[0m | \u001b[0m0.1077   \u001b[0m | \u001b[0m7.147    \u001b[0m | \u001b[0m0.1418   \u001b[0m | \u001b[0m0.1215   \u001b[0m | \u001b[0m2.535    \u001b[0m | \u001b[0m3.171    \u001b[0m | \u001b[0m0.4744   \u001b[0m | \u001b[0m194.8    \u001b[0m | \u001b[0m0.9042   \u001b[0m |\n",
      "| \u001b[0m5        \u001b[0m | \u001b[0m0.4769   \u001b[0m | \u001b[0m0.06788  \u001b[0m | \u001b[0m3.684    \u001b[0m | \u001b[0m0.7158   \u001b[0m | \u001b[0m0.08803  \u001b[0m | \u001b[0m2.098    \u001b[0m | \u001b[0m10.91    \u001b[0m | \u001b[0m0.01719  \u001b[0m | \u001b[0m186.4    \u001b[0m | \u001b[0m0.6294   \u001b[0m |\n",
      "| \u001b[0m6        \u001b[0m | \u001b[0m0.4804   \u001b[0m | \u001b[0m0.1148   \u001b[0m | \u001b[0m4.157    \u001b[0m | \u001b[0m0.9605   \u001b[0m | \u001b[0m0.1417   \u001b[0m | \u001b[0m4.369    \u001b[0m | \u001b[0m7.723    \u001b[0m | \u001b[0m0.1193   \u001b[0m | \u001b[0m168.0    \u001b[0m | \u001b[0m0.7173   \u001b[0m |\n",
      "| \u001b[0m7        \u001b[0m | \u001b[0m0.4787   \u001b[0m | \u001b[0m0.1921   \u001b[0m | \u001b[0m3.819    \u001b[0m | \u001b[0m0.7211   \u001b[0m | \u001b[0m0.001238 \u001b[0m | \u001b[0m5.625    \u001b[0m | \u001b[0m7.81     \u001b[0m | \u001b[0m0.1162   \u001b[0m | \u001b[0m157.1    \u001b[0m | \u001b[0m0.7216   \u001b[0m |\n",
      "| \u001b[0m8        \u001b[0m | \u001b[0m0.4804   \u001b[0m | \u001b[0m0.1512   \u001b[0m | \u001b[0m6.926    \u001b[0m | \u001b[0m0.7554   \u001b[0m | \u001b[0m0.1929   \u001b[0m | \u001b[0m8.457    \u001b[0m | \u001b[0m2.199    \u001b[0m | \u001b[0m0.3334   \u001b[0m | \u001b[0m199.8    \u001b[0m | \u001b[0m0.9148   \u001b[0m |\n",
      "| \u001b[0m9        \u001b[0m | \u001b[0m0.4804   \u001b[0m | \u001b[0m0.03904  \u001b[0m | \u001b[0m8.994    \u001b[0m | \u001b[0m0.3177   \u001b[0m | \u001b[0m0.1845   \u001b[0m | \u001b[0m6.073    \u001b[0m | \u001b[0m14.07    \u001b[0m | \u001b[0m0.05443  \u001b[0m | \u001b[0m97.61    \u001b[0m | \u001b[0m0.7497   \u001b[0m |\n",
      "| \u001b[0m10       \u001b[0m | \u001b[0m0.4804   \u001b[0m | \u001b[0m0.13     \u001b[0m | \u001b[0m4.949    \u001b[0m | \u001b[0m0.9913   \u001b[0m | \u001b[0m0.09937  \u001b[0m | \u001b[0m4.83     \u001b[0m | \u001b[0m12.35    \u001b[0m | \u001b[0m0.2041   \u001b[0m | \u001b[0m86.07    \u001b[0m | \u001b[0m0.5234   \u001b[0m |\n",
      "| \u001b[0m11       \u001b[0m | \u001b[0m0.4804   \u001b[0m | \u001b[0m0.1479   \u001b[0m | \u001b[0m9.509    \u001b[0m | \u001b[0m0.2549   \u001b[0m | \u001b[0m0.1582   \u001b[0m | \u001b[0m9.117    \u001b[0m | \u001b[0m3.776    \u001b[0m | \u001b[0m0.4997   \u001b[0m | \u001b[0m88.96    \u001b[0m | \u001b[0m0.9807   \u001b[0m |\n",
      "| \u001b[0m12       \u001b[0m | \u001b[0m0.4784   \u001b[0m | \u001b[0m0.1938   \u001b[0m | \u001b[0m9.936    \u001b[0m | \u001b[0m0.9885   \u001b[0m | \u001b[0m0.1061   \u001b[0m | \u001b[0m8.409    \u001b[0m | \u001b[0m2.2      \u001b[0m | \u001b[0m0.03266  \u001b[0m | \u001b[0m103.5    \u001b[0m | \u001b[0m0.8777   \u001b[0m |\n",
      "| \u001b[0m13       \u001b[0m | \u001b[0m0.4804   \u001b[0m | \u001b[0m0.1914   \u001b[0m | \u001b[0m3.287    \u001b[0m | \u001b[0m0.2539   \u001b[0m | \u001b[0m0.1918   \u001b[0m | \u001b[0m2.29     \u001b[0m | \u001b[0m2.507    \u001b[0m | \u001b[0m0.1539   \u001b[0m | \u001b[0m83.26    \u001b[0m | \u001b[0m0.6449   \u001b[0m |\n",
      "| \u001b[0m14       \u001b[0m | \u001b[0m0.4804   \u001b[0m | \u001b[0m0.06967  \u001b[0m | \u001b[0m9.359    \u001b[0m | \u001b[0m0.7616   \u001b[0m | \u001b[0m0.01018  \u001b[0m | \u001b[0m9.835    \u001b[0m | \u001b[0m6.555    \u001b[0m | \u001b[0m0.4467   \u001b[0m | \u001b[0m76.49    \u001b[0m | \u001b[0m0.9861   \u001b[0m |\n",
      "| \u001b[0m15       \u001b[0m | \u001b[0m0.4782   \u001b[0m | \u001b[0m0.1784   \u001b[0m | \u001b[0m3.57     \u001b[0m | \u001b[0m0.2419   \u001b[0m | \u001b[0m0.07106  \u001b[0m | \u001b[0m1.366    \u001b[0m | \u001b[0m14.08    \u001b[0m | \u001b[0m0.03556  \u001b[0m | \u001b[0m70.87    \u001b[0m | \u001b[0m0.7068   \u001b[0m |\n",
      "=====================================================================================================================================\n"
     ]
    }
   ],
   "source": [
    "# Starting with GradientBoosting since this will be more straightforward than RandomForest\n",
    "\n",
    "# Define the ranges\n",
    "param_bounds = {\n",
    "    'learning_rate': (0.01, 0.2),\n",
    "    'n_estimators': (50, 200),\n",
    "    'subsample': (0.5, 1.0),\n",
    "    'max_depth': (3, 10),\n",
    "    'min_samples_split': (2, 20),\n",
    "    'min_samples_leaf': (1, 10),\n",
    "    'min_weight_fraction_leaf': (0.0, 0.5),\n",
    "    'max_features': (0.1, 1.0),\n",
    "    'min_impurity_decrease': (0.0, 0.2),\n",
    "}\n",
    "\n",
    "# Create the object\n",
    "opt = BayesianOptimization(\n",
    "    f=classifier_func, #function defined above\n",
    "    pbounds=param_bounds,\n",
    "    random_state=42,\n",
    ")\n",
    "\n",
    "# Run the optimization\n",
    "opt.maximize(init_points=5, n_iter=10)\n",
    "\n",
    "# get the best parameters\n",
    "best_params_clf = opt.max['params']\n",
    "\n",
    "# fit te model with the best parameters\n",
    "final_clf = GradientBoostingClassifier(\n",
    "    learning_rate=best_params_clf['learning_rate'],\n",
    "    n_estimators=int(best_params_clf['n_estimators']),\n",
    "    subsample=best_params_clf['subsample'],\n",
    "    max_depth=int(best_params_clf['max_depth']),\n",
    "    min_samples_split=int(best_params_clf['min_samples_split']),\n",
    "    min_samples_leaf=int(best_params_clf['min_samples_leaf']),\n",
    "    min_weight_fraction_leaf=best_params_clf['min_weight_fraction_leaf'],\n",
    "    max_features=best_params_clf['max_features'],\n",
    "    min_impurity_decrease=best_params_clf['min_impurity_decrease']\n",
    ")"
   ]
  },
  {
   "cell_type": "code",
   "execution_count": 20,
   "id": "aff9c41c",
   "metadata": {
    "scrolled": false
   },
   "outputs": [
    {
     "data": {
      "text/html": [
       "<style>#sk-container-id-1 {color: black;background-color: white;}#sk-container-id-1 pre{padding: 0;}#sk-container-id-1 div.sk-toggleable {background-color: white;}#sk-container-id-1 label.sk-toggleable__label {cursor: pointer;display: block;width: 100%;margin-bottom: 0;padding: 0.3em;box-sizing: border-box;text-align: center;}#sk-container-id-1 label.sk-toggleable__label-arrow:before {content: \"▸\";float: left;margin-right: 0.25em;color: #696969;}#sk-container-id-1 label.sk-toggleable__label-arrow:hover:before {color: black;}#sk-container-id-1 div.sk-estimator:hover label.sk-toggleable__label-arrow:before {color: black;}#sk-container-id-1 div.sk-toggleable__content {max-height: 0;max-width: 0;overflow: hidden;text-align: left;background-color: #f0f8ff;}#sk-container-id-1 div.sk-toggleable__content pre {margin: 0.2em;color: black;border-radius: 0.25em;background-color: #f0f8ff;}#sk-container-id-1 input.sk-toggleable__control:checked~div.sk-toggleable__content {max-height: 200px;max-width: 100%;overflow: auto;}#sk-container-id-1 input.sk-toggleable__control:checked~label.sk-toggleable__label-arrow:before {content: \"▾\";}#sk-container-id-1 div.sk-estimator input.sk-toggleable__control:checked~label.sk-toggleable__label {background-color: #d4ebff;}#sk-container-id-1 div.sk-label input.sk-toggleable__control:checked~label.sk-toggleable__label {background-color: #d4ebff;}#sk-container-id-1 input.sk-hidden--visually {border: 0;clip: rect(1px 1px 1px 1px);clip: rect(1px, 1px, 1px, 1px);height: 1px;margin: -1px;overflow: hidden;padding: 0;position: absolute;width: 1px;}#sk-container-id-1 div.sk-estimator {font-family: monospace;background-color: #f0f8ff;border: 1px dotted black;border-radius: 0.25em;box-sizing: border-box;margin-bottom: 0.5em;}#sk-container-id-1 div.sk-estimator:hover {background-color: #d4ebff;}#sk-container-id-1 div.sk-parallel-item::after {content: \"\";width: 100%;border-bottom: 1px solid gray;flex-grow: 1;}#sk-container-id-1 div.sk-label:hover label.sk-toggleable__label {background-color: #d4ebff;}#sk-container-id-1 div.sk-serial::before {content: \"\";position: absolute;border-left: 1px solid gray;box-sizing: border-box;top: 0;bottom: 0;left: 50%;z-index: 0;}#sk-container-id-1 div.sk-serial {display: flex;flex-direction: column;align-items: center;background-color: white;padding-right: 0.2em;padding-left: 0.2em;position: relative;}#sk-container-id-1 div.sk-item {position: relative;z-index: 1;}#sk-container-id-1 div.sk-parallel {display: flex;align-items: stretch;justify-content: center;background-color: white;position: relative;}#sk-container-id-1 div.sk-item::before, #sk-container-id-1 div.sk-parallel-item::before {content: \"\";position: absolute;border-left: 1px solid gray;box-sizing: border-box;top: 0;bottom: 0;left: 50%;z-index: -1;}#sk-container-id-1 div.sk-parallel-item {display: flex;flex-direction: column;z-index: 1;position: relative;background-color: white;}#sk-container-id-1 div.sk-parallel-item:first-child::after {align-self: flex-end;width: 50%;}#sk-container-id-1 div.sk-parallel-item:last-child::after {align-self: flex-start;width: 50%;}#sk-container-id-1 div.sk-parallel-item:only-child::after {width: 0;}#sk-container-id-1 div.sk-dashed-wrapped {border: 1px dashed gray;margin: 0 0.4em 0.5em 0.4em;box-sizing: border-box;padding-bottom: 0.4em;background-color: white;}#sk-container-id-1 div.sk-label label {font-family: monospace;font-weight: bold;display: inline-block;line-height: 1.2em;}#sk-container-id-1 div.sk-label-container {text-align: center;}#sk-container-id-1 div.sk-container {/* jupyter's `normalize.less` sets `[hidden] { display: none; }` but bootstrap.min.css set `[hidden] { display: none !important; }` so we also need the `!important` here to be able to override the default hidden behavior on the sphinx rendered scikit-learn.org. See: https://github.com/scikit-learn/scikit-learn/issues/21755 */display: inline-block !important;position: relative;}#sk-container-id-1 div.sk-text-repr-fallback {display: none;}</style><div id=\"sk-container-id-1\" class=\"sk-top-container\"><div class=\"sk-text-repr-fallback\"><pre>GradientBoostingClassifier(learning_rate=0.14453378978124864,\n",
       "                           max_features=0.9729188669457949,\n",
       "                           min_impurity_decrease=0.16648852816008436,\n",
       "                           min_samples_leaf=2, min_samples_split=5,\n",
       "                           min_weight_fraction_leaf=0.09170225492671691,\n",
       "                           n_estimators=95, subsample=0.762378215816119)</pre><b>In a Jupyter environment, please rerun this cell to show the HTML representation or trust the notebook. <br />On GitHub, the HTML representation is unable to render, please try loading this page with nbviewer.org.</b></div><div class=\"sk-container\" hidden><div class=\"sk-item\"><div class=\"sk-estimator sk-toggleable\"><input class=\"sk-toggleable__control sk-hidden--visually\" id=\"sk-estimator-id-1\" type=\"checkbox\" checked><label for=\"sk-estimator-id-1\" class=\"sk-toggleable__label sk-toggleable__label-arrow\">GradientBoostingClassifier</label><div class=\"sk-toggleable__content\"><pre>GradientBoostingClassifier(learning_rate=0.14453378978124864,\n",
       "                           max_features=0.9729188669457949,\n",
       "                           min_impurity_decrease=0.16648852816008436,\n",
       "                           min_samples_leaf=2, min_samples_split=5,\n",
       "                           min_weight_fraction_leaf=0.09170225492671691,\n",
       "                           n_estimators=95, subsample=0.762378215816119)</pre></div></div></div></div></div>"
      ],
      "text/plain": [
       "GradientBoostingClassifier(learning_rate=0.14453378978124864,\n",
       "                           max_features=0.9729188669457949,\n",
       "                           min_impurity_decrease=0.16648852816008436,\n",
       "                           min_samples_leaf=2, min_samples_split=5,\n",
       "                           min_weight_fraction_leaf=0.09170225492671691,\n",
       "                           n_estimators=95, subsample=0.762378215816119)"
      ]
     },
     "execution_count": 20,
     "metadata": {},
     "output_type": "execute_result"
    }
   ],
   "source": [
    "# Train the final classifier with best params\n",
    "final_clf.fit(X_vs_sample_train.reshape(-1,1), y_vs_sample_train)"
   ]
  },
  {
   "cell_type": "markdown",
   "id": "33888596",
   "metadata": {},
   "source": [
    "#### 4.6.2.2 Random Forest Regressor <a id=\"4.6.2.2_Random_Forest_Regressor\"><a/>"
   ]
  },
  {
   "cell_type": "code",
   "execution_count": 21,
   "id": "19109b25",
   "metadata": {
    "scrolled": true
   },
   "outputs": [
    {
     "name": "stdout",
     "output_type": "stream",
     "text": [
      "|   iter    |  target   | max_depth | max_fe... | min_sa... | min_sa... | n_esti... |\n",
      "-------------------------------------------------------------------------------------\n",
      "| \u001b[0m1        \u001b[0m | \u001b[0m-0.4607  \u001b[0m | \u001b[0m5.622    \u001b[0m | \u001b[0m0.9556   \u001b[0m | \u001b[0m7.588    \u001b[0m | \u001b[0m12.78    \u001b[0m | \u001b[0m73.4     \u001b[0m |\n",
      "| \u001b[95m2        \u001b[0m | \u001b[95m-0.4605  \u001b[0m | \u001b[95m4.092    \u001b[0m | \u001b[95m0.1523   \u001b[0m | \u001b[95m8.796    \u001b[0m | \u001b[95m12.82    \u001b[0m | \u001b[95m156.2    \u001b[0m |\n",
      "| \u001b[95m3        \u001b[0m | \u001b[95m-0.4603  \u001b[0m | \u001b[95m3.144    \u001b[0m | \u001b[95m0.9729   \u001b[0m | \u001b[95m8.492    \u001b[0m | \u001b[95m5.822    \u001b[0m | \u001b[95m77.27    \u001b[0m |\n",
      "| \u001b[95m4        \u001b[0m | \u001b[95m-0.4601  \u001b[0m | \u001b[95m4.284    \u001b[0m | \u001b[95m0.3738   \u001b[0m | \u001b[95m5.723    \u001b[0m | \u001b[95m9.775    \u001b[0m | \u001b[95m93.68    \u001b[0m |\n",
      "| \u001b[0m5        \u001b[0m | \u001b[0m-0.4608  \u001b[0m | \u001b[0m7.283    \u001b[0m | \u001b[0m0.2255   \u001b[0m | \u001b[0m3.629    \u001b[0m | \u001b[0m8.595    \u001b[0m | \u001b[0m118.4    \u001b[0m |\n",
      "| \u001b[0m6        \u001b[0m | \u001b[0m-0.4603  \u001b[0m | \u001b[0m4.048    \u001b[0m | \u001b[0m0.3037   \u001b[0m | \u001b[0m5.217    \u001b[0m | \u001b[0m9.648    \u001b[0m | \u001b[0m93.33    \u001b[0m |\n",
      "| \u001b[0m7        \u001b[0m | \u001b[0m-0.4603  \u001b[0m | \u001b[0m5.082    \u001b[0m | \u001b[0m0.2837   \u001b[0m | \u001b[0m6.092    \u001b[0m | \u001b[0m9.356    \u001b[0m | \u001b[0m93.07    \u001b[0m |\n",
      "| \u001b[95m8        \u001b[0m | \u001b[95m-0.4601  \u001b[0m | \u001b[95m3.064    \u001b[0m | \u001b[95m0.1636   \u001b[0m | \u001b[95m5.491    \u001b[0m | \u001b[95m9.651    \u001b[0m | \u001b[95m94.14    \u001b[0m |\n",
      "| \u001b[0m9        \u001b[0m | \u001b[0m-0.4605  \u001b[0m | \u001b[0m5.127    \u001b[0m | \u001b[0m0.2915   \u001b[0m | \u001b[0m4.736    \u001b[0m | \u001b[0m8.9      \u001b[0m | \u001b[0m96.17    \u001b[0m |\n",
      "| \u001b[0m10       \u001b[0m | \u001b[0m-0.4603  \u001b[0m | \u001b[0m3.111    \u001b[0m | \u001b[0m0.4445   \u001b[0m | \u001b[0m7.344    \u001b[0m | \u001b[0m10.39    \u001b[0m | \u001b[0m95.69    \u001b[0m |\n",
      "| \u001b[0m11       \u001b[0m | \u001b[0m-0.4603  \u001b[0m | \u001b[0m3.538    \u001b[0m | \u001b[0m0.3446   \u001b[0m | \u001b[0m6.886    \u001b[0m | \u001b[0m8.445    \u001b[0m | \u001b[0m93.58    \u001b[0m |\n",
      "| \u001b[0m12       \u001b[0m | \u001b[0m-0.4605  \u001b[0m | \u001b[0m5.719    \u001b[0m | \u001b[0m0.2236   \u001b[0m | \u001b[0m6.439    \u001b[0m | \u001b[0m10.58    \u001b[0m | \u001b[0m94.45    \u001b[0m |\n",
      "| \u001b[0m13       \u001b[0m | \u001b[0m-0.4602  \u001b[0m | \u001b[0m4.082    \u001b[0m | \u001b[0m0.2653   \u001b[0m | \u001b[0m6.622    \u001b[0m | \u001b[0m9.499    \u001b[0m | \u001b[0m94.24    \u001b[0m |\n",
      "| \u001b[0m14       \u001b[0m | \u001b[0m-0.4602  \u001b[0m | \u001b[0m4.378    \u001b[0m | \u001b[0m0.6152   \u001b[0m | \u001b[0m6.538    \u001b[0m | \u001b[0m10.88    \u001b[0m | \u001b[0m93.26    \u001b[0m |\n",
      "| \u001b[0m15       \u001b[0m | \u001b[0m-0.4602  \u001b[0m | \u001b[0m3.503    \u001b[0m | \u001b[0m0.543    \u001b[0m | \u001b[0m7.204    \u001b[0m | \u001b[0m11.71    \u001b[0m | \u001b[0m91.17    \u001b[0m |\n",
      "=====================================================================================\n"
     ]
    },
    {
     "ename": "NameError",
     "evalue": "name 'best_params' is not defined",
     "output_type": "error",
     "traceback": [
      "\u001b[0;31m---------------------------------------------------------------------------\u001b[0m",
      "\u001b[0;31mNameError\u001b[0m                                 Traceback (most recent call last)",
      "Cell \u001b[0;32mIn[21], line 22\u001b[0m\n\u001b[1;32m     20\u001b[0m \u001b[38;5;66;03m# Retrieve the best parameters\u001b[39;00m\n\u001b[1;32m     21\u001b[0m best_params_reg \u001b[38;5;241m=\u001b[39m opt\u001b[38;5;241m.\u001b[39mmax[\u001b[38;5;124m'\u001b[39m\u001b[38;5;124mparams\u001b[39m\u001b[38;5;124m'\u001b[39m]\n\u001b[0;32m---> 22\u001b[0m \u001b[38;5;28mprint\u001b[39m(\u001b[38;5;124m\"\u001b[39m\u001b[38;5;124mBest Hyperparameters:\u001b[39m\u001b[38;5;124m\"\u001b[39m, \u001b[43mbest_params\u001b[49m)\n",
      "\u001b[0;31mNameError\u001b[0m: name 'best_params' is not defined"
     ]
    }
   ],
   "source": [
    "# define ranges as tuples (min, max)\n",
    "param_bounds = {\n",
    "    'n_estimators': (50, 200),\n",
    "    'max_depth': (3, 10),\n",
    "    'min_samples_split': (2, 20),\n",
    "    'min_samples_leaf': (1, 10),\n",
    "    'max_features': (0.1, 1.0),\n",
    "}\n",
    "\n",
    "# Create the BayesianOptimization object\n",
    "opt = BayesianOptimization(\n",
    "    f=regressor_func,\n",
    "    pbounds=param_bounds,\n",
    "    random_state=42,\n",
    ")\n",
    "\n",
    "# Run the optimization\n",
    "opt.maximize(init_points=5, n_iter=10)\n",
    "\n",
    "# Retrieve the best parameters\n",
    "best_params_reg = opt.max['params']\n"
   ]
  },
  {
   "cell_type": "code",
   "execution_count": 23,
   "id": "5c860e4d",
   "metadata": {},
   "outputs": [
    {
     "name": "stdout",
     "output_type": "stream",
     "text": [
      "Best Hyperparameters: {'max_depth': 3.064126807129685, 'max_features': 0.16358721305824905, 'min_samples_leaf': 5.491164861865283, 'min_samples_split': 9.651309066714772, 'n_estimators': 94.14173673998827}\n"
     ]
    }
   ],
   "source": [
    "print(\"Best Hyperparameters:\", best_params_reg)"
   ]
  },
  {
   "cell_type": "markdown",
   "id": "c2be55dd",
   "metadata": {},
   "source": [
    "Notice that max_depth will need to be rounded before using it as a parameter for the model. It needs to be an int since it describes the tree depth in the algorithm"
   ]
  },
  {
   "cell_type": "code",
   "execution_count": 24,
   "id": "cff167db",
   "metadata": {},
   "outputs": [
    {
     "data": {
      "text/html": [
       "<style>#sk-container-id-2 {color: black;background-color: white;}#sk-container-id-2 pre{padding: 0;}#sk-container-id-2 div.sk-toggleable {background-color: white;}#sk-container-id-2 label.sk-toggleable__label {cursor: pointer;display: block;width: 100%;margin-bottom: 0;padding: 0.3em;box-sizing: border-box;text-align: center;}#sk-container-id-2 label.sk-toggleable__label-arrow:before {content: \"▸\";float: left;margin-right: 0.25em;color: #696969;}#sk-container-id-2 label.sk-toggleable__label-arrow:hover:before {color: black;}#sk-container-id-2 div.sk-estimator:hover label.sk-toggleable__label-arrow:before {color: black;}#sk-container-id-2 div.sk-toggleable__content {max-height: 0;max-width: 0;overflow: hidden;text-align: left;background-color: #f0f8ff;}#sk-container-id-2 div.sk-toggleable__content pre {margin: 0.2em;color: black;border-radius: 0.25em;background-color: #f0f8ff;}#sk-container-id-2 input.sk-toggleable__control:checked~div.sk-toggleable__content {max-height: 200px;max-width: 100%;overflow: auto;}#sk-container-id-2 input.sk-toggleable__control:checked~label.sk-toggleable__label-arrow:before {content: \"▾\";}#sk-container-id-2 div.sk-estimator input.sk-toggleable__control:checked~label.sk-toggleable__label {background-color: #d4ebff;}#sk-container-id-2 div.sk-label input.sk-toggleable__control:checked~label.sk-toggleable__label {background-color: #d4ebff;}#sk-container-id-2 input.sk-hidden--visually {border: 0;clip: rect(1px 1px 1px 1px);clip: rect(1px, 1px, 1px, 1px);height: 1px;margin: -1px;overflow: hidden;padding: 0;position: absolute;width: 1px;}#sk-container-id-2 div.sk-estimator {font-family: monospace;background-color: #f0f8ff;border: 1px dotted black;border-radius: 0.25em;box-sizing: border-box;margin-bottom: 0.5em;}#sk-container-id-2 div.sk-estimator:hover {background-color: #d4ebff;}#sk-container-id-2 div.sk-parallel-item::after {content: \"\";width: 100%;border-bottom: 1px solid gray;flex-grow: 1;}#sk-container-id-2 div.sk-label:hover label.sk-toggleable__label {background-color: #d4ebff;}#sk-container-id-2 div.sk-serial::before {content: \"\";position: absolute;border-left: 1px solid gray;box-sizing: border-box;top: 0;bottom: 0;left: 50%;z-index: 0;}#sk-container-id-2 div.sk-serial {display: flex;flex-direction: column;align-items: center;background-color: white;padding-right: 0.2em;padding-left: 0.2em;position: relative;}#sk-container-id-2 div.sk-item {position: relative;z-index: 1;}#sk-container-id-2 div.sk-parallel {display: flex;align-items: stretch;justify-content: center;background-color: white;position: relative;}#sk-container-id-2 div.sk-item::before, #sk-container-id-2 div.sk-parallel-item::before {content: \"\";position: absolute;border-left: 1px solid gray;box-sizing: border-box;top: 0;bottom: 0;left: 50%;z-index: -1;}#sk-container-id-2 div.sk-parallel-item {display: flex;flex-direction: column;z-index: 1;position: relative;background-color: white;}#sk-container-id-2 div.sk-parallel-item:first-child::after {align-self: flex-end;width: 50%;}#sk-container-id-2 div.sk-parallel-item:last-child::after {align-self: flex-start;width: 50%;}#sk-container-id-2 div.sk-parallel-item:only-child::after {width: 0;}#sk-container-id-2 div.sk-dashed-wrapped {border: 1px dashed gray;margin: 0 0.4em 0.5em 0.4em;box-sizing: border-box;padding-bottom: 0.4em;background-color: white;}#sk-container-id-2 div.sk-label label {font-family: monospace;font-weight: bold;display: inline-block;line-height: 1.2em;}#sk-container-id-2 div.sk-label-container {text-align: center;}#sk-container-id-2 div.sk-container {/* jupyter's `normalize.less` sets `[hidden] { display: none; }` but bootstrap.min.css set `[hidden] { display: none !important; }` so we also need the `!important` here to be able to override the default hidden behavior on the sphinx rendered scikit-learn.org. See: https://github.com/scikit-learn/scikit-learn/issues/21755 */display: inline-block !important;position: relative;}#sk-container-id-2 div.sk-text-repr-fallback {display: none;}</style><div id=\"sk-container-id-2\" class=\"sk-top-container\"><div class=\"sk-text-repr-fallback\"><pre>RandomForestRegressor(max_depth=3, max_features=0.16358721305824905,\n",
       "                      min_samples_leaf=5, min_samples_split=9, n_estimators=94)</pre><b>In a Jupyter environment, please rerun this cell to show the HTML representation or trust the notebook. <br />On GitHub, the HTML representation is unable to render, please try loading this page with nbviewer.org.</b></div><div class=\"sk-container\" hidden><div class=\"sk-item\"><div class=\"sk-estimator sk-toggleable\"><input class=\"sk-toggleable__control sk-hidden--visually\" id=\"sk-estimator-id-2\" type=\"checkbox\" checked><label for=\"sk-estimator-id-2\" class=\"sk-toggleable__label sk-toggleable__label-arrow\">RandomForestRegressor</label><div class=\"sk-toggleable__content\"><pre>RandomForestRegressor(max_depth=3, max_features=0.16358721305824905,\n",
       "                      min_samples_leaf=5, min_samples_split=9, n_estimators=94)</pre></div></div></div></div></div>"
      ],
      "text/plain": [
       "RandomForestRegressor(max_depth=3, max_features=0.16358721305824905,\n",
       "                      min_samples_leaf=5, min_samples_split=9, n_estimators=94)"
      ]
     },
     "execution_count": 24,
     "metadata": {},
     "output_type": "execute_result"
    }
   ],
   "source": [
    "\n",
    "# Ensure 'max_depth' is an integer\n",
    "best_params_reg['max_depth'] = int(best_params_reg['max_depth'])\n",
    "\n",
    "# Evaluate the model with the best parameters\n",
    "final_reg = RandomForestRegressor(\n",
    "    n_estimators=int(best_params_reg['n_estimators']),\n",
    "    max_depth=int(best_params_reg['max_depth']),\n",
    "    min_samples_split=int(best_params_reg['min_samples_split']),\n",
    "    min_samples_leaf=int(best_params_reg['min_samples_leaf']),\n",
    "    max_features=best_params_reg['max_features']\n",
    ")\n",
    "\n",
    "final_reg.fit(X_vs_sample_train.reshape(-1, 1), y_vs_sample_train)"
   ]
  },
  {
   "cell_type": "markdown",
   "id": "68b0a37f",
   "metadata": {},
   "source": [
    "#### 4.6.3 Performance Comparison <a id=\"4.6.3_Performance_Comparison\"><a/>"
   ]
  },
  {
   "cell_type": "code",
   "execution_count": 25,
   "id": "0045c744",
   "metadata": {},
   "outputs": [
    {
     "name": "stdout",
     "output_type": "stream",
     "text": [
      "Before hyperparameter tuning\n",
      "\n",
      "RMSE: 14.917067292634986\n",
      "MAE: 11.113464582605266\n",
      "\n",
      "After hyperparameter tuning with RandomSearchCV\n",
      "\n",
      "RMSE: 14.339954877447806\n",
      "MAE: 10.412729726923477\n",
      "\n",
      "After hyperparameter tuning with Bayes Optimization\n",
      "\n",
      "RMSE: 14.321343177463238\n",
      "MAE: 10.552289795479984\n",
      "----------------------------------------------------------------------\n",
      "\n",
      "Before hyperparameter tuning\n",
      "\n",
      "Accuracy Score: 0.4758592046516457\n",
      "Precision: 0.4758592046516457\n",
      "Recall: 0.4758592046516457\n",
      "\n",
      "After hyperparameter tuning with RandomSearchCV\n",
      "\n",
      "Accuracy Score: 0.4804277852767106\n",
      "Precision: 0.4804277852767106\n",
      "Recall: 0.4804277852767106\n",
      "\n",
      "After hyperparameter tuning with Bayes Optimization\n",
      "\n",
      "Accuracy Score: 0.4804277852767106\n",
      "Precision: 0.4804277852767106\n",
      "Recall: 0.4804277852767106\n"
     ]
    }
   ],
   "source": [
    "print(\"Before hyperparameter tuning\\n\")\n",
    "evaluate_model(trained_regression_model[\"RandomForest\"], X_va_sample_train, y_va_sample_train, \\\n",
    "               X_va_sample_test, y_va_sample_test, is_regression=True)\n",
    "# After RandomSearchCV\n",
    "print(\"\\nAfter hyperparameter tuning with RandomSearchCV\\n\")\n",
    "evaluate_model(best_regressor_model_rscv, X_va_sample_train, y_va_sample_train, X_va_sample_test,\\\n",
    "               y_va_sample_test, is_regression=True)\n",
    "# After BayesianOptmization\n",
    "print(\"\\nAfter hyperparameter tuning with Bayes Optimization\\n\")\n",
    "evaluate_model(final_reg, X_va_sample_train, y_va_sample_train, X_va_sample_test, \\\n",
    "               y_va_sample_test, is_regression=True)\n",
    "\n",
    "print(\"-\" * 70)\n",
    "print(\"\\nBefore hyperparameter tuning\\n\")\n",
    "evaluate_model(trained_classification_model[\"GradientBoosting\"], X_vs_sample_train, \\\n",
    "               y_vs_sample_train, X_vs_sample_test, y_vs_sample_test, is_regression=False)\n",
    "# After RandomSearchCV\n",
    "print(\"\\nAfter hyperparameter tuning with RandomSearchCV\\n\")\n",
    "evaluate_model(best_classifier_model_rscv, X_vs_sample_train, y_vs_sample_train,\\\n",
    "               X_vs_sample_test, y_vs_sample_test, is_regression=False)\n",
    "# After BayesianOptmization \n",
    "print(\"\\nAfter hyperparameter tuning with Bayes Optimization\\n\")\n",
    "evaluate_model(final_clf, X_vs_sample_train, y_vs_sample_train, X_vs_sample_test, \\\n",
    "               y_vs_sample_test, is_regression=False)\n"
   ]
  },
  {
   "cell_type": "markdown",
   "id": "beb9b84e",
   "metadata": {},
   "source": [
    "Before hyperparameter tuning\n",
    "\n",
    "- RMSE: 14.917067292634986\n",
    "- MAE: 11.113464582605266\n",
    "\n",
    "After hyperparameter tuning with RandomSearchCV\n",
    "\n",
    "- RMSE: 14.339954877447806\n",
    "- MAE: 10.412729726923477\n",
    "\n",
    "After hyperparameter tuning with Bayes Optimization\n",
    "\n",
    "- RMSE: 14.321343177463238\n",
    "- MAE: 10.552289795479984\n",
    "\n",
    "Before hyperparameter tuning, the model produced the following performance metrics:\n",
    "\n",
    "- Root Mean Squared Error (RMSE): 14.92\n",
    "- Mean Absolute Error (MAE): 11.11\n",
    "\n",
    "After applying hyperparameter tuning with RandomSearchCV, the performance improved, resulting in the following metrics:\n",
    "\n",
    "- RMSE: 14.34\n",
    "- MAE: 10.41\n",
    "\n",
    "Further tuning with Bayes Optimization yielded the following metrics:\n",
    "\n",
    "- RMSE: 14.32\n",
    "- MAE: 10.55\n",
    "\n",
    "The classification metrics for the model's accuracy, precision, and recall were as follows before hyperparameter tuning:\n",
    "\n",
    "- Accuracy Score: 0.48\n",
    "- Precision: 0.48\n",
    "- Recall: 0.48\n",
    "\n",
    "After RandomSearchCV tuning:\n",
    "\n",
    "- Accuracy Score: 0.48\n",
    "- Precision: 0.48\n",
    "- Recall: 0.48\n",
    "\n",
    "After Bayes Optimization tuning:\n",
    "\n",
    "- Accuracy Score: 0.48\n",
    "- Precision: 0.48\n",
    "- Recall: 0.48\n",
    "\n",
    "In summary, hyperparameter tuning, both with RandomSearchCV and Bayes Optimization, led to improvements in the model's predictive performance. This is evident in the reduced RMSE and MAE values. However, the classification metrics remained relatively consistent across the tuning methods, with accuracy, precision, and recall maintaining similar levels.\n",
    "\n",
    "Keep in mind that these metrics were calculated on a sample of data, and the results may converge towards a specific hyperparameter tuning approach once the models are trained on the entire dataset."
   ]
  },
  {
   "cell_type": "markdown",
   "id": "8da83892",
   "metadata": {},
   "source": [
    "#### 4.6.4 Best Params <a id=\"4.6.4_Best_Params\"><a/>"
   ]
  },
  {
   "cell_type": "markdown",
   "id": "bb3ade46",
   "metadata": {},
   "source": [
    "Based on the RMSE, the parameters achieved by Bayes Optimizatio will be selected for the Random Forest Regression Model. Since Bayes Optimization yielded similar results to RandomSearhCV, we will use Bayes Optimization to keep things simple so we're using the the same hypertuning approach for both models. "
   ]
  },
  {
   "cell_type": "code",
   "execution_count": 26,
   "id": "fe42aa35",
   "metadata": {
    "scrolled": true
   },
   "outputs": [
    {
     "name": "stdout",
     "output_type": "stream",
     "text": [
      "Best parameters for Random Forest Regression Model\n",
      "\n",
      "{'max_depth': 3,\n",
      " 'max_features': 0.16358721305824905,\n",
      " 'min_samples_leaf': 5.491164861865283,\n",
      " 'min_samples_split': 9.651309066714772,\n",
      " 'n_estimators': 94.14173673998827}\n",
      "\n",
      "Best parameters for Gradient Boosting Classifier Model\n",
      "\n",
      "{'learning_rate': 0.14453378978124864,\n",
      " 'max_depth': 3.144091460070617,\n",
      " 'max_features': 0.9729188669457949,\n",
      " 'min_impurity_decrease': 0.16648852816008436,\n",
      " 'min_samples_leaf': 2.9110519961044856,\n",
      " 'min_samples_split': 5.272849409727812,\n",
      " 'min_weight_fraction_leaf': 0.09170225492671691,\n",
      " 'n_estimators': 95.63633644393066,\n",
      " 'subsample': 0.762378215816119}\n"
     ]
    }
   ],
   "source": [
    "from pprint import pprint \n",
    "\n",
    "print(\"Best parameters for Random Forest Regression Model\\n\")\n",
    "pprint(best_params_reg)\n",
    "\n",
    "print(\"\\nBest parameters for Gradient Boosting Classifier Model\\n\")\n",
    "pprint(best_params_clf)"
   ]
  },
  {
   "cell_type": "code",
   "execution_count": 35,
   "id": "daed4c48",
   "metadata": {
    "scrolled": true
   },
   "outputs": [
    {
     "data": {
      "text/html": [
       "<style>#sk-container-id-4 {color: black;background-color: white;}#sk-container-id-4 pre{padding: 0;}#sk-container-id-4 div.sk-toggleable {background-color: white;}#sk-container-id-4 label.sk-toggleable__label {cursor: pointer;display: block;width: 100%;margin-bottom: 0;padding: 0.3em;box-sizing: border-box;text-align: center;}#sk-container-id-4 label.sk-toggleable__label-arrow:before {content: \"▸\";float: left;margin-right: 0.25em;color: #696969;}#sk-container-id-4 label.sk-toggleable__label-arrow:hover:before {color: black;}#sk-container-id-4 div.sk-estimator:hover label.sk-toggleable__label-arrow:before {color: black;}#sk-container-id-4 div.sk-toggleable__content {max-height: 0;max-width: 0;overflow: hidden;text-align: left;background-color: #f0f8ff;}#sk-container-id-4 div.sk-toggleable__content pre {margin: 0.2em;color: black;border-radius: 0.25em;background-color: #f0f8ff;}#sk-container-id-4 input.sk-toggleable__control:checked~div.sk-toggleable__content {max-height: 200px;max-width: 100%;overflow: auto;}#sk-container-id-4 input.sk-toggleable__control:checked~label.sk-toggleable__label-arrow:before {content: \"▾\";}#sk-container-id-4 div.sk-estimator input.sk-toggleable__control:checked~label.sk-toggleable__label {background-color: #d4ebff;}#sk-container-id-4 div.sk-label input.sk-toggleable__control:checked~label.sk-toggleable__label {background-color: #d4ebff;}#sk-container-id-4 input.sk-hidden--visually {border: 0;clip: rect(1px 1px 1px 1px);clip: rect(1px, 1px, 1px, 1px);height: 1px;margin: -1px;overflow: hidden;padding: 0;position: absolute;width: 1px;}#sk-container-id-4 div.sk-estimator {font-family: monospace;background-color: #f0f8ff;border: 1px dotted black;border-radius: 0.25em;box-sizing: border-box;margin-bottom: 0.5em;}#sk-container-id-4 div.sk-estimator:hover {background-color: #d4ebff;}#sk-container-id-4 div.sk-parallel-item::after {content: \"\";width: 100%;border-bottom: 1px solid gray;flex-grow: 1;}#sk-container-id-4 div.sk-label:hover label.sk-toggleable__label {background-color: #d4ebff;}#sk-container-id-4 div.sk-serial::before {content: \"\";position: absolute;border-left: 1px solid gray;box-sizing: border-box;top: 0;bottom: 0;left: 50%;z-index: 0;}#sk-container-id-4 div.sk-serial {display: flex;flex-direction: column;align-items: center;background-color: white;padding-right: 0.2em;padding-left: 0.2em;position: relative;}#sk-container-id-4 div.sk-item {position: relative;z-index: 1;}#sk-container-id-4 div.sk-parallel {display: flex;align-items: stretch;justify-content: center;background-color: white;position: relative;}#sk-container-id-4 div.sk-item::before, #sk-container-id-4 div.sk-parallel-item::before {content: \"\";position: absolute;border-left: 1px solid gray;box-sizing: border-box;top: 0;bottom: 0;left: 50%;z-index: -1;}#sk-container-id-4 div.sk-parallel-item {display: flex;flex-direction: column;z-index: 1;position: relative;background-color: white;}#sk-container-id-4 div.sk-parallel-item:first-child::after {align-self: flex-end;width: 50%;}#sk-container-id-4 div.sk-parallel-item:last-child::after {align-self: flex-start;width: 50%;}#sk-container-id-4 div.sk-parallel-item:only-child::after {width: 0;}#sk-container-id-4 div.sk-dashed-wrapped {border: 1px dashed gray;margin: 0 0.4em 0.5em 0.4em;box-sizing: border-box;padding-bottom: 0.4em;background-color: white;}#sk-container-id-4 div.sk-label label {font-family: monospace;font-weight: bold;display: inline-block;line-height: 1.2em;}#sk-container-id-4 div.sk-label-container {text-align: center;}#sk-container-id-4 div.sk-container {/* jupyter's `normalize.less` sets `[hidden] { display: none; }` but bootstrap.min.css set `[hidden] { display: none !important; }` so we also need the `!important` here to be able to override the default hidden behavior on the sphinx rendered scikit-learn.org. See: https://github.com/scikit-learn/scikit-learn/issues/21755 */display: inline-block !important;position: relative;}#sk-container-id-4 div.sk-text-repr-fallback {display: none;}</style><div id=\"sk-container-id-4\" class=\"sk-top-container\"><div class=\"sk-text-repr-fallback\"><pre>GradientBoostingClassifier(learning_rate=0.092069553542002, max_depth=5,\n",
       "                           max_features=0.6506676052501416,\n",
       "                           min_impurity_decrease=0.027898772130408367,\n",
       "                           min_samples_leaf=4, min_samples_split=9,\n",
       "                           min_weight_fraction_leaf=0.22803499210851796,\n",
       "                           n_estimators=168, subsample=0.5998368910791798)</pre><b>In a Jupyter environment, please rerun this cell to show the HTML representation or trust the notebook. <br />On GitHub, the HTML representation is unable to render, please try loading this page with nbviewer.org.</b></div><div class=\"sk-container\" hidden><div class=\"sk-item\"><div class=\"sk-estimator sk-toggleable\"><input class=\"sk-toggleable__control sk-hidden--visually\" id=\"sk-estimator-id-4\" type=\"checkbox\" checked><label for=\"sk-estimator-id-4\" class=\"sk-toggleable__label sk-toggleable__label-arrow\">GradientBoostingClassifier</label><div class=\"sk-toggleable__content\"><pre>GradientBoostingClassifier(learning_rate=0.092069553542002, max_depth=5,\n",
       "                           max_features=0.6506676052501416,\n",
       "                           min_impurity_decrease=0.027898772130408367,\n",
       "                           min_samples_leaf=4, min_samples_split=9,\n",
       "                           min_weight_fraction_leaf=0.22803499210851796,\n",
       "                           n_estimators=168, subsample=0.5998368910791798)</pre></div></div></div></div></div>"
      ],
      "text/plain": [
       "GradientBoostingClassifier(learning_rate=0.092069553542002, max_depth=5,\n",
       "                           max_features=0.6506676052501416,\n",
       "                           min_impurity_decrease=0.027898772130408367,\n",
       "                           min_samples_leaf=4, min_samples_split=9,\n",
       "                           min_weight_fraction_leaf=0.22803499210851796,\n",
       "                           n_estimators=168, subsample=0.5998368910791798)"
      ]
     },
     "execution_count": 35,
     "metadata": {},
     "output_type": "execute_result"
    }
   ],
   "source": [
    "# train models with best params using the full dataset splits\n",
    "\n",
    "best_params_reg_adj = {\n",
    "    'max_depth': 3,\n",
    "    'max_features': 0.4830119588572971,\n",
    "    'min_samples_leaf': 2,  # Convert to an integer (adjust as needed)\n",
    "    'min_samples_split': 9, # Convert to an integer (adjust as needed)\n",
    "    'n_estimators': 102,  # Convert to an integer (adjust as needed)\n",
    "}\n",
    "\n",
    "# Best parameters for GradientBoostingClassifier\n",
    "best_params_clf_adj = {\n",
    "    'learning_rate': 0.092069553542002,\n",
    "    'max_depth': 5, # Convert to an integer (adjust as needed)\n",
    "    'max_features': 0.6506676052501416,\n",
    "    'min_impurity_decrease': 0.027898772130408367,\n",
    "    'min_samples_leaf': 4,  # rounded to nearest integer\n",
    "    'min_samples_split': 9, # rounded to nearest integer\n",
    "    'min_weight_fraction_leaf': 0.22803499210851796,\n",
    "    'n_estimators': 168,  # Convert to an integer (adjust as needed)\n",
    "    'subsample': 0.5998368910791798,\n",
    "}\n",
    "\n",
    "final_reg = RandomForestRegressor(**best_params_reg_adj)\n",
    "final_reg.fit(X_train_va, y_train_va)\n",
    "\n",
    "final_clf = GradientBoostingClassifier(**best_params_clf_adj)\n",
    "final_clf.fit(X_train_vs, y_train_vs)"
   ]
  },
  {
   "cell_type": "markdown",
   "id": "784f4631",
   "metadata": {},
   "source": [
    "### 4.7 Victims in Social Services Context <a id=\"4.7_Victims_in_Social_Services_Context\"><a/>\n",
    "     "
   ]
  },
  {
   "cell_type": "code",
   "execution_count": 65,
   "id": "4dd158cd",
   "metadata": {},
   "outputs": [
    {
     "name": "stdout",
     "output_type": "stream",
     "text": [
      "RMSE: 14.056619756072262\n",
      "MAE: 10.32377592269678\n"
     ]
    }
   ],
   "source": [
    "These models have been developed for the purpose of identifying a victim's age and sex in Los Angeles based on a number of factors (ie input variables). The applications of these predictive models are numerous but my intended goal is for victim service providers to be able to use this for resource allocation, targeted community outreach, and developing strategic partnerships based on the needs of the demographic they are serving. \n",
    "\n",
    "For example, if there is an area where there is a high likelihood of victims of violence being female and underage, then this would be the community to target for outreach by agencies such as:\n",
    "- Local Domestic Violence Shelters\n",
    "- Child Advocacy Centers (CACs)\n",
    "- Rape Crisis Centers\n",
    "- Children's Advocacy Centers (CACs)\n",
    "- Legal Aid Organizations\n",
    "- Social Services Agencies\n",
    "- Human Trafficking Support Organizations\n",
    "- Crisis Hotlines\n",
    "- School-Based Counseling Services\n",
    "- Non-Governmental Organizations (NGOs)\n",
    "\n",
    "# using the test data as an example\n",
    "\n",
    "final_y_pred_va = final_reg.predict(X_test_va) \n",
    "\n",
    "print(\"RMSE:\", np.sqrt(mean_squared_error(y_test_va, final_y_pred_va)))\n",
    "print(\"MAE:\", mean_absolute_error(y_test_va, final_y_pred_va))"
   ]
  },
  {
   "cell_type": "code",
   "execution_count": 37,
   "id": "a20da654",
   "metadata": {},
   "outputs": [
    {
     "name": "stdout",
     "output_type": "stream",
     "text": [
      "Accuracy Score: 0.5943890591498795\n",
      "Precision: 0.5943890591498795\n",
      "Recall: 0.5943890591498795\n"
     ]
    }
   ],
   "source": [
    "# using the test data as an example\n",
    "\n",
    "final_y_pred_vs = final_clf.predict(X_test_vs)\n",
    "\n",
    "print(\"Accuracy Score:\", accuracy_score(y_test_vs, final_y_pred_vs))\n",
    "print(\"Precision:\", precision_score(y_test_vs, final_y_pred_vs, average='micro'))\n",
    "print(\"Recall:\", recall_score(y_test_vs, final_y_pred_vs, average='micro'))"
   ]
  },
  {
   "cell_type": "markdown",
   "id": "41f9a3fc",
   "metadata": {},
   "source": [
    "### 4.8 Modeling scenarios<a id=\"4.8_Modeling_scenarios\"><a/>  "
   ]
  },
  {
   "cell_type": "markdown",
   "id": "45172378",
   "metadata": {},
   "source": [
    "Lets go over a couple of scenarios where these predictive models can be useful. Note: These were drawn from my experience working in the NGO anti-trafficking space."
   ]
  },
  {
   "cell_type": "markdown",
   "id": "3f55d516",
   "metadata": {},
   "source": [
    "#### 4.8.1 Scenario 1 <a id=\"4.8.1_Scenario_1\"><a/>\n"
   ]
  },
  {
   "cell_type": "markdown",
   "id": "b4669040",
   "metadata": {},
   "source": [
    "A nonprofit organization is planning its staffing for the upcoming year and wants to make sure they have the right team to support all clients within their service scope. The organization currently serves clients aged 5 to 26. They are considering the areas where they operate and the primary ethnicity of those areas to estimate the number of clients they might assist in the coming year. \n",
    "\n",
    "The goal is to understand the potential volume of clients in different age groups and ethnicities to ensure adequate staffing for effective support services. How can the organization use information about the areas they work in and the primary ethnicity of those areas to estimate the volume of clients they might encounter in the next year?\n",
    "\n",
    "Let's say the agency is looking to expand services to the growing Latino population in Van Nuys, CA"
   ]
  },
  {
   "cell_type": "code",
   "execution_count": 152,
   "id": "94b286d2",
   "metadata": {
    "scrolled": false
   },
   "outputs": [
    {
     "name": "stderr",
     "output_type": "stream",
     "text": [
      "/Users/frankyaraujo/anaconda3/lib/python3.10/site-packages/sklearn/base.py:413: UserWarning: X has feature names, but RandomForestRegressor was fitted without feature names\n",
      "  warnings.warn(\n"
     ]
    },
    {
     "data": {
      "image/png": "[encoded data removed]",
      "text/plain": [
       "<Figure size 640x480 with 1 Axes>"
      ]
     },
     "metadata": {},
     "output_type": "display_data"
    }
   ],
   "source": [
    "# A look at ages for individuals of Hispanic/Latin/Mexican descent in Van Nuys, CA\n",
    "subset_scenario_1 = victim_age_feature_data_df[\n",
    "    (victim_age_feature_data_df[\"Area Name_Van Nuys\"] == True) & \n",
    "    (victim_age_feature_data_df[\"Victim Descent_Hispanic/Latin/Mexican\"] == True)]\n",
    "\n",
    "y_pred_scenario_1 = final_reg.predict(subset_scenario_1) \n",
    "\n",
    "_=plt.hist(y_pred_scenario_1, bins=20)\n",
    "_=plt.yscale(value=\"log\")\n",
    "_=plt.title(\"Predicted Victim Ages for Individuals of \\nHispanic/Latin/Mexican descent\\\n",
    "in \\nVan Nuys, CA\")\n",
    "_=plt.ylabel(\"Scaled Frequency (Log)\")\n",
    "_=plt.xlabel(\"Age\")\n",
    "_=plt.xticks(np.arange(20, 45, step=2))\n"
   ]
  },
  {
   "cell_type": "markdown",
   "id": "91bc5181",
   "metadata": {},
   "source": [
    "The analysis of age distribution across different areas provides valuable insights for planning impactful services. The primary focus would be on individuals aged 34-40, indicating potential needs for services such as financial support, childcare services, and job assistance. This age group appears to be a key demographic with distinct requirements.\n",
    "\n",
    "Additionally, the plot reveals groupings in the age groups 23-26 and 28-30. These groupings suggest the presence of needs within these age ranges, which would merit further exploration. Furthermore, the identification of individuals under 20 as a distinct group emphasizes the importance of considering services tailored to the challenges faced by younger members of the community.\n",
    "\n",
    "In summary, the age distribution analysis serves as a foundation for targeted program planning, with a special emphasis on the 34-40 age group, while recognizing and exploring the nuances within other identified clusters. "
   ]
  },
  {
   "cell_type": "markdown",
   "id": "87079c06",
   "metadata": {},
   "source": [
    "#### 4.8.2 Scenario 2 <a id=\"4.8.2_Scenario_2\"><a/>\n"
   ]
  },
  {
   "cell_type": "markdown",
   "id": "77d51d31",
   "metadata": {},
   "source": [
    "A nonprofit organization customizes its programs and services to meet the unique needs of its clients. The services provided to clients aged 5 to 17 significantly differ from those offered to clients aged 18 to 26, considering various factors. \n",
    "\n",
    "In planning for the future, the nonprofit faces decisions on allocating funding to specific programs and services during different times of year, service areas, and the types of crimes. How can the organization strategically decide on the allocation of funding to ensure effective and tailored support for clients in different age groups and genders*?\n",
    "\n",
    "For the sake of this example, Let's say we will explore Sex Crimes (Crime Codes 800-899) in the June-December in Hollywood, CA. \n",
    "\n",
    "<div class=\"footnote\">\n",
    "  <hr />\n",
    "  <ol>\n",
    "    <li id=\"fn:1\">\n",
    "      <p>For this example, the genders are represented by the following classes: Male, Female, and Unknown. This is solely based on the available data.</p>\n",
    "    </li>\n",
    "  </ol>\n",
    "</div>"
   ]
  },
  {
   "cell_type": "code",
   "execution_count": 141,
   "id": "dc5aa8f8",
   "metadata": {},
   "outputs": [],
   "source": [
    "victim_age_feature_csv_unscaled = '/Users/frankyaraujo/Development/springboard_main/Capstone Two/\\\n",
    "Springboard-Capstone-Two/src/data/victim_age_feature_data_unscaled.csv'\n",
    "\n",
    "victim_sex_feature_csv_unscaled = '/Users/frankyaraujo/Development/springboard_main/Capstone Two/\\\n",
    "Springboard-Capstone-Two/src/data/victim_sex_feature_data_unscaled.csv'\n",
    "\n",
    "scenario_2__va_df = pd.read_csv(victim_age_feature_csv_unscaled)\n",
    "scenario_2__vs_df=pd.read_csv(victim_sex_feature_csv_unscaled)"
   ]
  },
  {
   "cell_type": "code",
   "execution_count": 150,
   "id": "814b7932",
   "metadata": {
    "scrolled": false
   },
   "outputs": [
    {
     "name": "stderr",
     "output_type": "stream",
     "text": [
      "/Users/frankyaraujo/anaconda3/lib/python3.10/site-packages/sklearn/base.py:413: UserWarning: X has feature names, but RandomForestRegressor was fitted without feature names\n",
      "  warnings.warn(\n",
      "/Users/frankyaraujo/anaconda3/lib/python3.10/site-packages/sklearn/base.py:413: UserWarning: X has feature names, but GradientBoostingClassifier was fitted without feature names\n",
      "  warnings.warn(\n"
     ]
    },
    {
     "data": {
      "image/png": "[encoded data removed]",
      "text/plain": [
       "<Figure size 640x480 with 1 Axes>"
      ]
     },
     "metadata": {},
     "output_type": "display_data"
    }
   ],
   "source": [
    "# A look at ages for individuals of Hispanic/Latin/Mexican descent in Van Nuys, CA\n",
    "subset_scenario_va_2 = scenario_2__va_df[\n",
    "    (scenario_2__va_df[\"Area Name_Hollywood\"] == True) & \n",
    "    (scenario_2__va_df[\"Month_Occurred\"] >=6 ) & \n",
    "    ((scenario_2__va_df[\"Crime Code\"] >= 800) & (scenario_2__va_df[\"Crime Code\"] <= 899))]\n",
    "\n",
    "subset_scenario_vs_2 = scenario_2__vs_df[\n",
    "    (scenario_2__vs_df[\"Area Name_Hollywood\"] == True) & \n",
    "    (scenario_2__vs_df[\"Month_Occurred\"] >=6 ) & \n",
    "    ((scenario_2__vs_df[\"Crime Code\"] >= 800) & (scenario_2__vs_df[\"Crime Code\"] <= 899))]\n",
    "\n",
    "y_pred_va_scenario_2 = final_reg.predict(subset_scenario_va_2) \n",
    "y_pred_vs_scenario_2 = final_clf.predict(subset_scenario_vs_2)\n",
    "\n",
    "_=plt.hist(y_pred_va_scenario_2, bins=20)\n",
    "_=plt.yscale(value=\"log\")\n",
    "_=plt.title(\"Age Groups of Victims of Sex Crimes in Hollywood \\nJune-December\")\n",
    "_=plt.ylabel(\"Scaled Frequency (Log)\")\n",
    "_=plt.xlabel(\"Age\")\n",
    "_=plt.xticks(np.arange(int(min(y_pred_va_scenario_2)), 45, step=2))\n"
   ]
  },
  {
   "cell_type": "code",
   "execution_count": 149,
   "id": "5edbb1df",
   "metadata": {
    "scrolled": false
   },
   "outputs": [
    {
     "data": {
      "image/png": "[encoded data removed]",
      "text/plain": [
       "<Figure size 640x480 with 1 Axes>"
      ]
     },
     "metadata": {},
     "output_type": "display_data"
    }
   ],
   "source": [
    "_=plt.hist(y_pred_vs_scenario_2, bins=20)\n",
    "_=plt.yscale(value=\"log\")\n",
    "_=plt.title(\"Gender Groups of Victims of Sex Crimes in Hollywood \\nJune-December\")\n",
    "_=plt.ylabel(\"Scaled Frequency (Log)\")\n",
    "_=plt.xlabel(\"Gender\")\n",
    "_=plt.xticks((0, 1, 2), [\"Male\", \"Female\", \"Unknown\"])\n"
   ]
  },
  {
   "cell_type": "markdown",
   "id": "d7b807a8",
   "metadata": {},
   "source": [
    "Females aged 36-42 emerge as the main demographic affected by sex crimes in Hollywood, especially between June to December. Aligning services with these patterns, especially for the 34-40 age group, can effectively address community needs.\n",
    "\n",
    "In summary, understanding age distribution informs targeted program planning, and the predictive model highlights specific demographics and timing, aiding the nonprofit in strategic service delivery."
   ]
  },
  {
   "cell_type": "markdown",
   "id": "72661f5d",
   "metadata": {},
   "source": [
    "For reference:\n",
    "> Crime Descriptions for Crime Codes 800-899: \n",
    ">'SEX OFFENDER REGISTRANT OUT OF COMPLIANCE',\n",
    "       'BATTERY WITH SEXUAL CONTACT', 'TRESPASSING',\n",
    "       'DISTURBING THE PEACE',\n",
    "       'SEX,UNLAWFUL(INC MUTUAL CONSENT, PENETRATION W/ FRGN OBJ',\n",
    "       'CRM AGNST CHLD (13 OR UNDER) (14-15 & SUSP 10 YRS OLDER)',\n",
    "       'SEXUAL PENETRATION W/FOREIGN OBJECT', 'FAILURE TO YIELD',\n",
    "       'INDECENT EXPOSURE', 'ORAL COPULATION',\n",
    "       'SODOMY/SEXUAL CONTACT B/W PENIS OF ONE PERS TO ANUS OTH',\n",
    "       'CHILD ANNOYING (17YRS & UNDER)', 'PIMPING',\n",
    "       'HUMAN TRAFFICKING - COMMERCIAL SEX ACTS', 'CHILD PORNOGRAPHY',\n",
    "       'PANDERING', 'DISRUPT SCHOOL', 'DRUGS, TO A MINOR',\n",
    "       'CHILD ABANDONMENT',\n",
    "       'BEASTIALITY, CRIME AGAINST NATURE SEXUAL ASSLT WITH ANIM',\n",
    "       'FAILURE TO DISPERSE',\n",
    "       'INCEST (SEXUAL ACTS BETWEEN BLOOD RELATIVES)', 'INCITING A RIOT'],"
   ]
  },
  {
   "cell_type": "markdown",
   "id": "726a9e03",
   "metadata": {},
   "source": [
    "#### 4.9.3 Scenarios Summary  <a id=\"4.9.3_Scenarios_Summary\"><a/>"
   ]
  },
  {
   "cell_type": "markdown",
   "id": "88f115bf",
   "metadata": {},
   "source": [
    "The predictive models for identifying victims' age and sex in Los Angeles hold potential for enhancing resource allocation, community outreach, and strategic partnerships. Targeted towards victim service providers, these models offer insights to optimize support services.\n",
    "\n",
    "Scenario 1: Van Nuys, CA\n",
    "In planning staffing for the upcoming year, a nonprofit in Van Nuys aims to understand the potential volume of clients in different age groups and ethnicities. The age distribution analysis emphasizes a focus on individuals aged 34-40, with additional insights into age clusters that warrant exploration. This serves as a foundation for effective program planning, especially for expanding services to the growing Latino population.\n",
    "\n",
    "Scenario 2: Customized Program Allocation\n",
    "A nonprofit customizes its programs for different age groups (5-17 and 18-26) and faces decisions on funding allocation for sex crimes in Hollywood. The predictive model highlights females aged 36-42 as the main demographic affected between June to December. This information guides strategic decisions for allocating resources to address community needs effectively.\n",
    "\n",
    "In summary, the combination of age distribution analysis and predictive modeling provides actionable insights for victim service providers. By understanding demographics and tailoring services accordingly, nonprofits can make informed decisions to better serve and support their communities.\n"
   ]
  },
  {
   "cell_type": "markdown",
   "id": "be63c7ec",
   "metadata": {},
   "source": [
    "### 4.10 Closing Summary <a id=\"4.10_Closing_Summary\"><a/>"
   ]
  },
  {
   "cell_type": "markdown",
   "id": "ea6e2693",
   "metadata": {},
   "source": [
    "In this analysis, we have used predictive models to gain insights into the dynamics of victim demographics in Los Angeles. \n",
    "\n",
    "- The models provide a better understanding of age distribution, highlighting key demographics and age groups. Victim service providers can leverage this information to tailor their outreach efforts and allocate resources effectively. Whether planning staffing in Van Nuys or customizing programs in response to sex crimes in Hollywood, the models serve as invaluable tools for informed decision-making.\n",
    "\n",
    "- By recognizing patterns and trends, the models empower nonprofits to forge strategic partnerships with agencies like Domestic Violence Shelters, Child Advocacy Centers, and Legal Aid Organizations. Targeted collaborations ensure a more synchronized and impactful approach to addressing the diverse needs of the community.\n",
    "\n",
    "Through ongoing refinement and collaboration, these models can evolve to meet the ever-changing landscape of social services, ensuring a more resilient and responsive support system for victims.\n",
    "\n",
    "\n"
   ]
  },
  {
   "cell_type": "markdown",
   "id": "f57df0fe",
   "metadata": {},
   "source": [
    "### 4.11 What's next? \n",
    "<a id=\"4.11_Whats_next\"><a/>"
   ]
  },
  {
   "cell_type": "markdown",
   "id": "d5bc74f5",
   "metadata": {},
   "source": [
    "Fostering Continuous Improvement in Victim Services\n",
    "\n",
    "As I currently work in the victim services space, I thought I'd share what further actions I intend to take or recommend to the agency as I consider applications (and variants) of these models.\n",
    "\n",
    "- Regularly update and enhance the predictive models by incorporating fresh data and accounting for emerging patterns. Continuous refinement ensures that the models stay adaptive to the evolving dynamics of victim demographics.\n",
    "\n",
    "- Facilitate collaboration and data sharing among victim service providers, law enforcement, and relevant organizations. Establishing a collaborative platform can foster a collective understanding of the nuances in victim demographics, leading to more comprehensive and impactful support strategies.\n",
    "\n",
    "- Engage directly with the communities being served. Solicit feedback, concerns, and insights from community members to ensure that support services align with their evolving needs. Community engagement is crucial for building trust and tailoring interventions for maximum effectiveness.\n",
    "\n",
    "- Maintain a strong commitment to ethical considerations and privacy standards in handling sensitive victim data. Regularly review and update data protection protocols to ensure compliance with evolving legal and ethical standards.\n",
    "\n",
    "- Launch public awareness campaigns to educate the community about available victim services and resources. Increased awareness fosters a proactive approach to seeking help and contributes to the overall well-being of potential victims.\n",
    "\n",
    "By embracing these further actions, victim service providers can solidify their commitment to continuous improvement, community-centric approaches, and ethical practices in the pursuit of a safer and more resilient society."
   ]
  }
 ],
 "metadata": {
  "kernelspec": {
   "display_name": "Python 3 (ipykernel)",
   "language": "python",
   "name": "python3"
  },
  "language_info": {
   "codemirror_mode": {
    "name": "ipython",
    "version": 3
   },
   "file_extension": ".py",
   "mimetype": "text/x-python",
   "name": "python",
   "nbconvert_exporter": "python",
   "pygments_lexer": "ipython3",
   "version": "3.10.13"
  }
 },
 "nbformat": 4,
 "nbformat_minor": 5
}
