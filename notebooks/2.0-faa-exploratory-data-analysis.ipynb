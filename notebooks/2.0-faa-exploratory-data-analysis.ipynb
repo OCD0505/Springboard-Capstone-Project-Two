{
 "cells": [
  {
   "cell_type": "markdown",
   "id": "6a249fda",
   "metadata": {},
   "source": [
    "\n",
    "# 2 Exploratory Data Analysis\n",
    "---"
   ]
  },
  {
   "cell_type": "markdown",
   "id": "8a7b8232",
   "metadata": {},
   "source": [
    "##  2.1 Contents <a id='2.1_Contents'></a>\n",
    "- [2.1 Contents](#2.1_Contents)\n",
    "- [2.2 Introduction](#2.2_Introduction)\n",
    "- [2.3 Imports](#2.3_Imports)\n",
    "- [2.4 Load The Data](#2.4_Load_The_Data)\n",
    "    - [2.4.1 Crime Data](#2.4.1_Crime_Data)\n",
    "    - [2.4.2 Categorical Features](#2.4.2_Categorical_Features)\n",
    "    - [2.4.3 Numerical Features](#2.4.3_Numerical_Features) \n",
    "- [2.5 Data Exploration](#2.5_Data_Exploration)\n",
    "- [G.](#G)\n",
    "- [H.](#H)\n",
    "- [I.](#I)\n"
   ]
  },
  {
   "cell_type": "markdown",
   "id": "54c17856",
   "metadata": {},
   "source": [
    "## 2.2 Introduction"
   ]
  },
  {
   "cell_type": "markdown",
   "id": "4c3a93c6",
   "metadata": {},
   "source": [
    "This is a continuation of \"1.0-faa-data-wrangling-initial-exploration-cleaning.ipynb\" focusing on understanding the relationship between data and features before moving onto modeling. \n",
    "### **Problem Statement:**\n",
    "The purpose of this data science project involves predicting the age and sex of individuals who become victims of crime using crime data and potentially other relevant variables. By analyzing patterns within crime data, we aim to develop predictive models that estimate the age and sex of victims, which can have applications in law enforcement, victim support and aid victim service providers target relevant areas. \n"
   ]
  },
  {
   "cell_type": "markdown",
   "id": "bea32dcf",
   "metadata": {},
   "source": [
    "## 2.3 Imports <a id='2.3_Imports'></a>"
   ]
  },
  {
   "cell_type": "code",
   "execution_count": null,
   "id": "0108883d",
   "metadata": {},
   "outputs": [],
   "source": [
    "import pandas as pd\n",
    "import numpy as np\n",
    "import matplotlib.pyplot as plt\n",
    "import seaborn as sns\n",
    "from datetime import datetime\n",
    "import os"
   ]
  },
  {
   "cell_type": "markdown",
   "id": "a6dd4825",
   "metadata": {},
   "source": [
    "## 2.4 Load The Data <a id='2.4_Load_The_Data'></a>"
   ]
  },
  {
   "cell_type": "code",
   "execution_count": null,
   "id": "a11149e2",
   "metadata": {},
   "outputs": [],
   "source": [
    "# Storing file path in variable and then using pd.read_csv() to load the data as a dataframe into crimeData\n",
    "\n",
    "dataFilePath = \"/Users/frankyaraujo/Development/Springboard_Main/Capstone Two/\\\n",
    "Springboard-Capstone-Two/src/data/2010-2023 Crime_Traffic_Collisions_Data_R1 .csv\"\n",
    "crimeDataAdj = pd.read_csv(dataFilePath, low_memory = False)"
   ]
  },
  {
   "cell_type": "markdown",
   "id": "01a3dc4e",
   "metadata": {},
   "source": [
    "### 2.4.1 The Crime Data <a id='2.4.1_Crime_Data'></a>"
   ]
  },
  {
   "cell_type": "code",
   "execution_count": null,
   "id": "6cc07723",
   "metadata": {
    "scrolled": true
   },
   "outputs": [],
   "source": [
    "crimeDataAdj.info()"
   ]
  },
  {
   "cell_type": "code",
   "execution_count": null,
   "id": "b6cbf2ab",
   "metadata": {},
   "outputs": [],
   "source": [
    "crimeDataAdj.head()"
   ]
  },
  {
   "cell_type": "markdown",
   "id": "5cb0113e",
   "metadata": {},
   "source": [
    "### 2.4.2 Categorical Features <a id='2.4.2_Categorical_Features'></a>"
   ]
  },
  {
   "cell_type": "code",
   "execution_count": null,
   "id": "6feb8f1d",
   "metadata": {
    "scrolled": false
   },
   "outputs": [],
   "source": [
    "crimeDataAdj.select_dtypes('object').info()"
   ]
  },
  {
   "cell_type": "code",
   "execution_count": null,
   "id": "9b0c6616",
   "metadata": {},
   "outputs": [],
   "source": [
    "crimeDataAdj.select_dtypes('object').describe()"
   ]
  },
  {
   "cell_type": "markdown",
   "id": "8c637a8c",
   "metadata": {},
   "source": [
    "### 2.4.1 Numerical Features <a id='2.4.3_Numerical_Features'></a>"
   ]
  },
  {
   "cell_type": "code",
   "execution_count": null,
   "id": "231e7a18",
   "metadata": {
    "scrolled": false
   },
   "outputs": [],
   "source": [
    "crimeDataAdj.select_dtypes(exclude='object').info()"
   ]
  },
  {
   "cell_type": "markdown",
   "id": "07de5488",
   "metadata": {},
   "source": [
    "## 2.5 Data Exploration <a id=2.5_Data_Exploration></a>"
   ]
  }
 ],
 "metadata": {
  "kernelspec": {
   "display_name": "Python 3 (ipykernel)",
   "language": "python",
   "name": "python3"
  },
  "language_info": {
   "codemirror_mode": {
    "name": "ipython",
    "version": 3
   },
   "file_extension": ".py",
   "mimetype": "text/x-python",
   "name": "python",
   "nbconvert_exporter": "python",
   "pygments_lexer": "ipython3",
   "version": "3.10.9"
  }
 },
 "nbformat": 4,
 "nbformat_minor": 5
}
